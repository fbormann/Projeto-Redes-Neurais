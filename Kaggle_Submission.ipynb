{
 "cells": [
  {
   "cell_type": "code",
   "execution_count": 1,
   "metadata": {
    "colab": {
     "autoexec": {
      "startup": false,
      "wait_interval": 0
     }
    },
    "colab_type": "code",
    "id": "ftFvfpxnf7U7"
   },
   "outputs": [
    {
     "name": "stderr",
     "output_type": "stream",
     "text": [
      "Using TensorFlow backend.\n"
     ]
    }
   ],
   "source": [
    "import keras\n",
    "import pandas\n",
    "import sklearn\n",
    "import scipy\n",
    "import dask.dataframe as dd"
   ]
  },
  {
   "cell_type": "code",
   "execution_count": 2,
   "metadata": {
    "collapsed": true
   },
   "outputs": [],
   "source": [
    "from sklearn.model_selection import GridSearchCV, cross_val_score\n",
    "from sklearn.ensemble import GradientBoostingClassifier, RandomForestClassifier, VotingClassifier, BaggingClassifier"
   ]
  },
  {
   "cell_type": "code",
   "execution_count": 72,
   "metadata": {
    "colab": {
     "autoexec": {
      "startup": false,
      "wait_interval": 0
     }
    },
    "colab_type": "code",
    "collapsed": true,
    "id": "RK7tQhKHf7VN"
   },
   "outputs": [],
   "source": [
    "original_training_data = pandas.read_csv(\"train_data.csv\", index_col=0)"
   ]
  },
  {
   "cell_type": "code",
   "execution_count": 13,
   "metadata": {
    "colab": {
     "autoexec": {
      "startup": false,
      "wait_interval": 0
     }
    },
    "colab_type": "code",
    "collapsed": true,
    "id": "o07Q4SALf7VQ"
   },
   "outputs": [],
   "source": [
    "training_sample = original_training_data.sample(frac=0.7)"
   ]
  },
  {
   "cell_type": "code",
   "execution_count": 15,
   "metadata": {
    "colab": {
     "autoexec": {
      "startup": false,
      "wait_interval": 0
     }
    },
    "colab_type": "code",
    "collapsed": true,
    "id": "TIx6bw-af7VX"
   },
   "outputs": [],
   "source": [
    "training_sample.to_csv(\"train_data_sample.csv\", index=False)"
   ]
  },
  {
   "cell_type": "markdown",
   "metadata": {},
   "source": [
    "# Generate Training and Test samples from the training data we have available, so all models access the same data"
   ]
  },
  {
   "cell_type": "code",
   "execution_count": 68,
   "metadata": {},
   "outputs": [],
   "source": [
    "from sklearn.model_selection import train_test_split"
   ]
  },
  {
   "cell_type": "code",
   "execution_count": 73,
   "metadata": {},
   "outputs": [
    {
     "data": {
      "text/plain": [
       "(389196, 246)"
      ]
     },
     "execution_count": 73,
     "metadata": {},
     "output_type": "execute_result"
    }
   ],
   "source": [
    "original_training_data.shape"
   ]
  },
  {
   "cell_type": "code",
   "execution_count": 74,
   "metadata": {},
   "outputs": [
    {
     "data": {
      "text/html": [
       "<div>\n",
       "<style scoped>\n",
       "    .dataframe tbody tr th:only-of-type {\n",
       "        vertical-align: middle;\n",
       "    }\n",
       "\n",
       "    .dataframe tbody tr th {\n",
       "        vertical-align: top;\n",
       "    }\n",
       "\n",
       "    .dataframe thead th {\n",
       "        text-align: right;\n",
       "    }\n",
       "</style>\n",
       "<table border=\"1\" class=\"dataframe\">\n",
       "  <thead>\n",
       "    <tr style=\"text-align: right;\">\n",
       "      <th></th>\n",
       "      <th>id</th>\n",
       "      <th>UF_1</th>\n",
       "      <th>UF_2</th>\n",
       "      <th>UF_3</th>\n",
       "      <th>UF_4</th>\n",
       "      <th>UF_5</th>\n",
       "      <th>UF_6</th>\n",
       "      <th>UF_7</th>\n",
       "      <th>IDADE</th>\n",
       "      <th>SEXO_1</th>\n",
       "      <th>...</th>\n",
       "      <th>CEP4_7</th>\n",
       "      <th>CEP4_8</th>\n",
       "      <th>CEP4_9</th>\n",
       "      <th>CEP4_10</th>\n",
       "      <th>CEP4_11</th>\n",
       "      <th>CEP4_12</th>\n",
       "      <th>CEP4_13</th>\n",
       "      <th>CEP4_14</th>\n",
       "      <th>IND_BOM_1_1</th>\n",
       "      <th>IND_BOM_1_2</th>\n",
       "    </tr>\n",
       "  </thead>\n",
       "  <tbody>\n",
       "    <tr>\n",
       "      <th>0</th>\n",
       "      <td>0</td>\n",
       "      <td>1</td>\n",
       "      <td>1</td>\n",
       "      <td>1</td>\n",
       "      <td>0</td>\n",
       "      <td>0</td>\n",
       "      <td>0</td>\n",
       "      <td>0</td>\n",
       "      <td>1.350979e-01</td>\n",
       "      <td>1</td>\n",
       "      <td>...</td>\n",
       "      <td>0</td>\n",
       "      <td>0</td>\n",
       "      <td>1</td>\n",
       "      <td>1</td>\n",
       "      <td>0</td>\n",
       "      <td>1</td>\n",
       "      <td>1</td>\n",
       "      <td>1</td>\n",
       "      <td>0</td>\n",
       "      <td>1</td>\n",
       "    </tr>\n",
       "    <tr>\n",
       "      <th>1</th>\n",
       "      <td>1</td>\n",
       "      <td>1</td>\n",
       "      <td>0</td>\n",
       "      <td>1</td>\n",
       "      <td>0</td>\n",
       "      <td>0</td>\n",
       "      <td>1</td>\n",
       "      <td>0</td>\n",
       "      <td>2.735041e-01</td>\n",
       "      <td>1</td>\n",
       "      <td>...</td>\n",
       "      <td>0</td>\n",
       "      <td>1</td>\n",
       "      <td>0</td>\n",
       "      <td>1</td>\n",
       "      <td>1</td>\n",
       "      <td>0</td>\n",
       "      <td>0</td>\n",
       "      <td>0</td>\n",
       "      <td>1</td>\n",
       "      <td>0</td>\n",
       "    </tr>\n",
       "    <tr>\n",
       "      <th>2</th>\n",
       "      <td>2</td>\n",
       "      <td>1</td>\n",
       "      <td>0</td>\n",
       "      <td>1</td>\n",
       "      <td>0</td>\n",
       "      <td>0</td>\n",
       "      <td>1</td>\n",
       "      <td>0</td>\n",
       "      <td>2.819095e-01</td>\n",
       "      <td>0</td>\n",
       "      <td>...</td>\n",
       "      <td>1</td>\n",
       "      <td>1</td>\n",
       "      <td>0</td>\n",
       "      <td>0</td>\n",
       "      <td>0</td>\n",
       "      <td>0</td>\n",
       "      <td>1</td>\n",
       "      <td>0</td>\n",
       "      <td>1</td>\n",
       "      <td>0</td>\n",
       "    </tr>\n",
       "    <tr>\n",
       "      <th>3</th>\n",
       "      <td>3</td>\n",
       "      <td>1</td>\n",
       "      <td>1</td>\n",
       "      <td>1</td>\n",
       "      <td>0</td>\n",
       "      <td>0</td>\n",
       "      <td>0</td>\n",
       "      <td>0</td>\n",
       "      <td>2.257406e-01</td>\n",
       "      <td>0</td>\n",
       "      <td>...</td>\n",
       "      <td>1</td>\n",
       "      <td>1</td>\n",
       "      <td>0</td>\n",
       "      <td>1</td>\n",
       "      <td>1</td>\n",
       "      <td>0</td>\n",
       "      <td>1</td>\n",
       "      <td>0</td>\n",
       "      <td>1</td>\n",
       "      <td>0</td>\n",
       "    </tr>\n",
       "    <tr>\n",
       "      <th>4</th>\n",
       "      <td>4</td>\n",
       "      <td>1</td>\n",
       "      <td>1</td>\n",
       "      <td>0</td>\n",
       "      <td>0</td>\n",
       "      <td>0</td>\n",
       "      <td>1</td>\n",
       "      <td>0</td>\n",
       "      <td>4.804034e-01</td>\n",
       "      <td>0</td>\n",
       "      <td>...</td>\n",
       "      <td>1</td>\n",
       "      <td>1</td>\n",
       "      <td>1</td>\n",
       "      <td>0</td>\n",
       "      <td>0</td>\n",
       "      <td>1</td>\n",
       "      <td>0</td>\n",
       "      <td>1</td>\n",
       "      <td>1</td>\n",
       "      <td>0</td>\n",
       "    </tr>\n",
       "    <tr>\n",
       "      <th>5</th>\n",
       "      <td>5</td>\n",
       "      <td>0</td>\n",
       "      <td>1</td>\n",
       "      <td>1</td>\n",
       "      <td>0</td>\n",
       "      <td>0</td>\n",
       "      <td>0</td>\n",
       "      <td>1</td>\n",
       "      <td>2.193229e-01</td>\n",
       "      <td>0</td>\n",
       "      <td>...</td>\n",
       "      <td>0</td>\n",
       "      <td>1</td>\n",
       "      <td>1</td>\n",
       "      <td>0</td>\n",
       "      <td>1</td>\n",
       "      <td>0</td>\n",
       "      <td>0</td>\n",
       "      <td>1</td>\n",
       "      <td>1</td>\n",
       "      <td>0</td>\n",
       "    </tr>\n",
       "    <tr>\n",
       "      <th>6</th>\n",
       "      <td>6</td>\n",
       "      <td>1</td>\n",
       "      <td>1</td>\n",
       "      <td>1</td>\n",
       "      <td>0</td>\n",
       "      <td>0</td>\n",
       "      <td>0</td>\n",
       "      <td>0</td>\n",
       "      <td>5.734882e-01</td>\n",
       "      <td>0</td>\n",
       "      <td>...</td>\n",
       "      <td>0</td>\n",
       "      <td>0</td>\n",
       "      <td>0</td>\n",
       "      <td>1</td>\n",
       "      <td>1</td>\n",
       "      <td>0</td>\n",
       "      <td>0</td>\n",
       "      <td>0</td>\n",
       "      <td>1</td>\n",
       "      <td>0</td>\n",
       "    </tr>\n",
       "    <tr>\n",
       "      <th>7</th>\n",
       "      <td>7</td>\n",
       "      <td>0</td>\n",
       "      <td>1</td>\n",
       "      <td>0</td>\n",
       "      <td>0</td>\n",
       "      <td>1</td>\n",
       "      <td>0</td>\n",
       "      <td>1</td>\n",
       "      <td>8.343982e-01</td>\n",
       "      <td>1</td>\n",
       "      <td>...</td>\n",
       "      <td>0</td>\n",
       "      <td>1</td>\n",
       "      <td>0</td>\n",
       "      <td>0</td>\n",
       "      <td>0</td>\n",
       "      <td>1</td>\n",
       "      <td>1</td>\n",
       "      <td>1</td>\n",
       "      <td>1</td>\n",
       "      <td>0</td>\n",
       "    </tr>\n",
       "    <tr>\n",
       "      <th>8</th>\n",
       "      <td>8</td>\n",
       "      <td>1</td>\n",
       "      <td>1</td>\n",
       "      <td>0</td>\n",
       "      <td>1</td>\n",
       "      <td>0</td>\n",
       "      <td>0</td>\n",
       "      <td>0</td>\n",
       "      <td>3.474494e-01</td>\n",
       "      <td>1</td>\n",
       "      <td>...</td>\n",
       "      <td>1</td>\n",
       "      <td>0</td>\n",
       "      <td>0</td>\n",
       "      <td>0</td>\n",
       "      <td>1</td>\n",
       "      <td>0</td>\n",
       "      <td>1</td>\n",
       "      <td>1</td>\n",
       "      <td>1</td>\n",
       "      <td>0</td>\n",
       "    </tr>\n",
       "    <tr>\n",
       "      <th>9</th>\n",
       "      <td>9</td>\n",
       "      <td>1</td>\n",
       "      <td>1</td>\n",
       "      <td>1</td>\n",
       "      <td>0</td>\n",
       "      <td>0</td>\n",
       "      <td>0</td>\n",
       "      <td>0</td>\n",
       "      <td>5.506237e-16</td>\n",
       "      <td>1</td>\n",
       "      <td>...</td>\n",
       "      <td>1</td>\n",
       "      <td>1</td>\n",
       "      <td>0</td>\n",
       "      <td>0</td>\n",
       "      <td>0</td>\n",
       "      <td>1</td>\n",
       "      <td>0</td>\n",
       "      <td>0</td>\n",
       "      <td>1</td>\n",
       "      <td>0</td>\n",
       "    </tr>\n",
       "  </tbody>\n",
       "</table>\n",
       "<p>10 rows × 246 columns</p>\n",
       "</div>"
      ],
      "text/plain": [
       "   id  UF_1  UF_2  UF_3  UF_4  UF_5  UF_6  UF_7         IDADE  SEXO_1  \\\n",
       "0   0     1     1     1     0     0     0     0  1.350979e-01       1   \n",
       "1   1     1     0     1     0     0     1     0  2.735041e-01       1   \n",
       "2   2     1     0     1     0     0     1     0  2.819095e-01       0   \n",
       "3   3     1     1     1     0     0     0     0  2.257406e-01       0   \n",
       "4   4     1     1     0     0     0     1     0  4.804034e-01       0   \n",
       "5   5     0     1     1     0     0     0     1  2.193229e-01       0   \n",
       "6   6     1     1     1     0     0     0     0  5.734882e-01       0   \n",
       "7   7     0     1     0     0     1     0     1  8.343982e-01       1   \n",
       "8   8     1     1     0     1     0     0     0  3.474494e-01       1   \n",
       "9   9     1     1     1     0     0     0     0  5.506237e-16       1   \n",
       "\n",
       "      ...       CEP4_7  CEP4_8  CEP4_9  CEP4_10  CEP4_11  CEP4_12  CEP4_13  \\\n",
       "0     ...            0       0       1        1        0        1        1   \n",
       "1     ...            0       1       0        1        1        0        0   \n",
       "2     ...            1       1       0        0        0        0        1   \n",
       "3     ...            1       1       0        1        1        0        1   \n",
       "4     ...            1       1       1        0        0        1        0   \n",
       "5     ...            0       1       1        0        1        0        0   \n",
       "6     ...            0       0       0        1        1        0        0   \n",
       "7     ...            0       1       0        0        0        1        1   \n",
       "8     ...            1       0       0        0        1        0        1   \n",
       "9     ...            1       1       0        0        0        1        0   \n",
       "\n",
       "   CEP4_14  IND_BOM_1_1  IND_BOM_1_2  \n",
       "0        1            0            1  \n",
       "1        0            1            0  \n",
       "2        0            1            0  \n",
       "3        0            1            0  \n",
       "4        1            1            0  \n",
       "5        1            1            0  \n",
       "6        0            1            0  \n",
       "7        1            1            0  \n",
       "8        1            1            0  \n",
       "9        0            1            0  \n",
       "\n",
       "[10 rows x 246 columns]"
      ]
     },
     "execution_count": 74,
     "metadata": {},
     "output_type": "execute_result"
    }
   ],
   "source": [
    "original_training_data.head(10)"
   ]
  },
  {
   "cell_type": "code",
   "execution_count": 77,
   "metadata": {},
   "outputs": [],
   "source": [
    "# drop one of the the label columns\n",
    "original_training_data.drop([\"IND_BOM_1_2\"],axis=1, inplace=True)"
   ]
  },
  {
   "cell_type": "code",
   "execution_count": 79,
   "metadata": {},
   "outputs": [],
   "source": [
    "X_train, X_test, y_train, y_test = train_test_split(original_training_data.drop(\"IND_BOM_1_1\", axis=1), original_training_data[\"IND_BOM_1_1\"],test_size=0.33)"
   ]
  },
  {
   "cell_type": "code",
   "execution_count": 81,
   "metadata": {},
   "outputs": [],
   "source": [
    "training = pandas.concat([X_train, y_train], axis=1)"
   ]
  },
  {
   "cell_type": "code",
   "execution_count": 82,
   "metadata": {},
   "outputs": [
    {
     "data": {
      "text/plain": [
       "(260761, 245)"
      ]
     },
     "execution_count": 82,
     "metadata": {},
     "output_type": "execute_result"
    }
   ],
   "source": [
    "training.shape"
   ]
  },
  {
   "cell_type": "code",
   "execution_count": 85,
   "metadata": {},
   "outputs": [],
   "source": [
    "training.drop(\"id\", inplace=True, axis=1)"
   ]
  },
  {
   "cell_type": "code",
   "execution_count": 86,
   "metadata": {},
   "outputs": [
    {
     "data": {
      "text/plain": [
       "(260761, 244)"
      ]
     },
     "execution_count": 86,
     "metadata": {},
     "output_type": "execute_result"
    }
   ],
   "source": [
    "# write common training sample to dataset\n",
    "training.shape"
   ]
  },
  {
   "cell_type": "code",
   "execution_count": 91,
   "metadata": {},
   "outputs": [],
   "source": [
    "training.to_csv(\"training_sample.csv\")"
   ]
  },
  {
   "cell_type": "code",
   "execution_count": 83,
   "metadata": {},
   "outputs": [],
   "source": [
    "test = pandas.concat([X_test, y_test], axis=1)"
   ]
  },
  {
   "cell_type": "code",
   "execution_count": 87,
   "metadata": {},
   "outputs": [
    {
     "data": {
      "text/html": [
       "<div>\n",
       "<style scoped>\n",
       "    .dataframe tbody tr th:only-of-type {\n",
       "        vertical-align: middle;\n",
       "    }\n",
       "\n",
       "    .dataframe tbody tr th {\n",
       "        vertical-align: top;\n",
       "    }\n",
       "\n",
       "    .dataframe thead th {\n",
       "        text-align: right;\n",
       "    }\n",
       "</style>\n",
       "<table border=\"1\" class=\"dataframe\">\n",
       "  <thead>\n",
       "    <tr style=\"text-align: right;\">\n",
       "      <th></th>\n",
       "      <th>id</th>\n",
       "      <th>UF_1</th>\n",
       "      <th>UF_2</th>\n",
       "      <th>UF_3</th>\n",
       "      <th>UF_4</th>\n",
       "      <th>UF_5</th>\n",
       "      <th>UF_6</th>\n",
       "      <th>UF_7</th>\n",
       "      <th>IDADE</th>\n",
       "      <th>SEXO_1</th>\n",
       "      <th>...</th>\n",
       "      <th>CEP4_6</th>\n",
       "      <th>CEP4_7</th>\n",
       "      <th>CEP4_8</th>\n",
       "      <th>CEP4_9</th>\n",
       "      <th>CEP4_10</th>\n",
       "      <th>CEP4_11</th>\n",
       "      <th>CEP4_12</th>\n",
       "      <th>CEP4_13</th>\n",
       "      <th>CEP4_14</th>\n",
       "      <th>IND_BOM_1_1</th>\n",
       "    </tr>\n",
       "  </thead>\n",
       "  <tbody>\n",
       "    <tr>\n",
       "      <th>80781</th>\n",
       "      <td>80781</td>\n",
       "      <td>1</td>\n",
       "      <td>0</td>\n",
       "      <td>1</td>\n",
       "      <td>1</td>\n",
       "      <td>0</td>\n",
       "      <td>0</td>\n",
       "      <td>0</td>\n",
       "      <td>0.453938</td>\n",
       "      <td>1</td>\n",
       "      <td>...</td>\n",
       "      <td>0</td>\n",
       "      <td>1</td>\n",
       "      <td>0</td>\n",
       "      <td>0</td>\n",
       "      <td>1</td>\n",
       "      <td>1</td>\n",
       "      <td>1</td>\n",
       "      <td>0</td>\n",
       "      <td>1</td>\n",
       "      <td>1</td>\n",
       "    </tr>\n",
       "    <tr>\n",
       "      <th>96217</th>\n",
       "      <td>96217</td>\n",
       "      <td>0</td>\n",
       "      <td>0</td>\n",
       "      <td>1</td>\n",
       "      <td>1</td>\n",
       "      <td>1</td>\n",
       "      <td>0</td>\n",
       "      <td>0</td>\n",
       "      <td>0.322631</td>\n",
       "      <td>1</td>\n",
       "      <td>...</td>\n",
       "      <td>0</td>\n",
       "      <td>0</td>\n",
       "      <td>0</td>\n",
       "      <td>0</td>\n",
       "      <td>1</td>\n",
       "      <td>0</td>\n",
       "      <td>1</td>\n",
       "      <td>0</td>\n",
       "      <td>1</td>\n",
       "      <td>1</td>\n",
       "    </tr>\n",
       "    <tr>\n",
       "      <th>145553</th>\n",
       "      <td>145553</td>\n",
       "      <td>1</td>\n",
       "      <td>1</td>\n",
       "      <td>1</td>\n",
       "      <td>0</td>\n",
       "      <td>0</td>\n",
       "      <td>0</td>\n",
       "      <td>0</td>\n",
       "      <td>0.733192</td>\n",
       "      <td>1</td>\n",
       "      <td>...</td>\n",
       "      <td>0</td>\n",
       "      <td>1</td>\n",
       "      <td>1</td>\n",
       "      <td>0</td>\n",
       "      <td>0</td>\n",
       "      <td>0</td>\n",
       "      <td>0</td>\n",
       "      <td>1</td>\n",
       "      <td>0</td>\n",
       "      <td>1</td>\n",
       "    </tr>\n",
       "    <tr>\n",
       "      <th>246883</th>\n",
       "      <td>246883</td>\n",
       "      <td>1</td>\n",
       "      <td>0</td>\n",
       "      <td>0</td>\n",
       "      <td>1</td>\n",
       "      <td>1</td>\n",
       "      <td>0</td>\n",
       "      <td>0</td>\n",
       "      <td>0.388795</td>\n",
       "      <td>1</td>\n",
       "      <td>...</td>\n",
       "      <td>1</td>\n",
       "      <td>1</td>\n",
       "      <td>0</td>\n",
       "      <td>1</td>\n",
       "      <td>0</td>\n",
       "      <td>0</td>\n",
       "      <td>1</td>\n",
       "      <td>1</td>\n",
       "      <td>0</td>\n",
       "      <td>0</td>\n",
       "    </tr>\n",
       "    <tr>\n",
       "      <th>192908</th>\n",
       "      <td>192908</td>\n",
       "      <td>1</td>\n",
       "      <td>1</td>\n",
       "      <td>0</td>\n",
       "      <td>0</td>\n",
       "      <td>1</td>\n",
       "      <td>0</td>\n",
       "      <td>0</td>\n",
       "      <td>0.711497</td>\n",
       "      <td>1</td>\n",
       "      <td>...</td>\n",
       "      <td>0</td>\n",
       "      <td>1</td>\n",
       "      <td>1</td>\n",
       "      <td>0</td>\n",
       "      <td>0</td>\n",
       "      <td>1</td>\n",
       "      <td>0</td>\n",
       "      <td>1</td>\n",
       "      <td>1</td>\n",
       "      <td>0</td>\n",
       "    </tr>\n",
       "    <tr>\n",
       "      <th>70399</th>\n",
       "      <td>70399</td>\n",
       "      <td>1</td>\n",
       "      <td>0</td>\n",
       "      <td>0</td>\n",
       "      <td>0</td>\n",
       "      <td>1</td>\n",
       "      <td>1</td>\n",
       "      <td>0</td>\n",
       "      <td>0.561959</td>\n",
       "      <td>1</td>\n",
       "      <td>...</td>\n",
       "      <td>1</td>\n",
       "      <td>0</td>\n",
       "      <td>1</td>\n",
       "      <td>1</td>\n",
       "      <td>0</td>\n",
       "      <td>0</td>\n",
       "      <td>0</td>\n",
       "      <td>1</td>\n",
       "      <td>1</td>\n",
       "      <td>1</td>\n",
       "    </tr>\n",
       "    <tr>\n",
       "      <th>148944</th>\n",
       "      <td>148944</td>\n",
       "      <td>1</td>\n",
       "      <td>0</td>\n",
       "      <td>1</td>\n",
       "      <td>0</td>\n",
       "      <td>1</td>\n",
       "      <td>0</td>\n",
       "      <td>0</td>\n",
       "      <td>0.375278</td>\n",
       "      <td>1</td>\n",
       "      <td>...</td>\n",
       "      <td>0</td>\n",
       "      <td>1</td>\n",
       "      <td>1</td>\n",
       "      <td>1</td>\n",
       "      <td>1</td>\n",
       "      <td>1</td>\n",
       "      <td>0</td>\n",
       "      <td>0</td>\n",
       "      <td>0</td>\n",
       "      <td>1</td>\n",
       "    </tr>\n",
       "    <tr>\n",
       "      <th>68658</th>\n",
       "      <td>68658</td>\n",
       "      <td>1</td>\n",
       "      <td>0</td>\n",
       "      <td>1</td>\n",
       "      <td>0</td>\n",
       "      <td>0</td>\n",
       "      <td>1</td>\n",
       "      <td>0</td>\n",
       "      <td>0.259987</td>\n",
       "      <td>1</td>\n",
       "      <td>...</td>\n",
       "      <td>0</td>\n",
       "      <td>0</td>\n",
       "      <td>0</td>\n",
       "      <td>1</td>\n",
       "      <td>0</td>\n",
       "      <td>1</td>\n",
       "      <td>1</td>\n",
       "      <td>0</td>\n",
       "      <td>0</td>\n",
       "      <td>1</td>\n",
       "    </tr>\n",
       "    <tr>\n",
       "      <th>187123</th>\n",
       "      <td>187123</td>\n",
       "      <td>1</td>\n",
       "      <td>1</td>\n",
       "      <td>1</td>\n",
       "      <td>0</td>\n",
       "      <td>0</td>\n",
       "      <td>0</td>\n",
       "      <td>0</td>\n",
       "      <td>0.013503</td>\n",
       "      <td>1</td>\n",
       "      <td>...</td>\n",
       "      <td>1</td>\n",
       "      <td>0</td>\n",
       "      <td>0</td>\n",
       "      <td>1</td>\n",
       "      <td>0</td>\n",
       "      <td>1</td>\n",
       "      <td>0</td>\n",
       "      <td>0</td>\n",
       "      <td>0</td>\n",
       "      <td>1</td>\n",
       "    </tr>\n",
       "    <tr>\n",
       "      <th>235113</th>\n",
       "      <td>235113</td>\n",
       "      <td>1</td>\n",
       "      <td>0</td>\n",
       "      <td>1</td>\n",
       "      <td>0</td>\n",
       "      <td>1</td>\n",
       "      <td>0</td>\n",
       "      <td>0</td>\n",
       "      <td>0.661348</td>\n",
       "      <td>1</td>\n",
       "      <td>...</td>\n",
       "      <td>0</td>\n",
       "      <td>1</td>\n",
       "      <td>0</td>\n",
       "      <td>0</td>\n",
       "      <td>0</td>\n",
       "      <td>1</td>\n",
       "      <td>0</td>\n",
       "      <td>0</td>\n",
       "      <td>0</td>\n",
       "      <td>1</td>\n",
       "    </tr>\n",
       "  </tbody>\n",
       "</table>\n",
       "<p>10 rows × 245 columns</p>\n",
       "</div>"
      ],
      "text/plain": [
       "            id  UF_1  UF_2  UF_3  UF_4  UF_5  UF_6  UF_7     IDADE  SEXO_1  \\\n",
       "80781    80781     1     0     1     1     0     0     0  0.453938       1   \n",
       "96217    96217     0     0     1     1     1     0     0  0.322631       1   \n",
       "145553  145553     1     1     1     0     0     0     0  0.733192       1   \n",
       "246883  246883     1     0     0     1     1     0     0  0.388795       1   \n",
       "192908  192908     1     1     0     0     1     0     0  0.711497       1   \n",
       "70399    70399     1     0     0     0     1     1     0  0.561959       1   \n",
       "148944  148944     1     0     1     0     1     0     0  0.375278       1   \n",
       "68658    68658     1     0     1     0     0     1     0  0.259987       1   \n",
       "187123  187123     1     1     1     0     0     0     0  0.013503       1   \n",
       "235113  235113     1     0     1     0     1     0     0  0.661348       1   \n",
       "\n",
       "           ...       CEP4_6  CEP4_7  CEP4_8  CEP4_9  CEP4_10  CEP4_11  \\\n",
       "80781      ...            0       1       0       0        1        1   \n",
       "96217      ...            0       0       0       0        1        0   \n",
       "145553     ...            0       1       1       0        0        0   \n",
       "246883     ...            1       1       0       1        0        0   \n",
       "192908     ...            0       1       1       0        0        1   \n",
       "70399      ...            1       0       1       1        0        0   \n",
       "148944     ...            0       1       1       1        1        1   \n",
       "68658      ...            0       0       0       1        0        1   \n",
       "187123     ...            1       0       0       1        0        1   \n",
       "235113     ...            0       1       0       0        0        1   \n",
       "\n",
       "        CEP4_12  CEP4_13  CEP4_14  IND_BOM_1_1  \n",
       "80781         1        0        1            1  \n",
       "96217         1        0        1            1  \n",
       "145553        0        1        0            1  \n",
       "246883        1        1        0            0  \n",
       "192908        0        1        1            0  \n",
       "70399         0        1        1            1  \n",
       "148944        0        0        0            1  \n",
       "68658         1        0        0            1  \n",
       "187123        0        0        0            1  \n",
       "235113        0        0        0            1  \n",
       "\n",
       "[10 rows x 245 columns]"
      ]
     },
     "execution_count": 87,
     "metadata": {},
     "output_type": "execute_result"
    }
   ],
   "source": [
    "test.head(10)"
   ]
  },
  {
   "cell_type": "code",
   "execution_count": 88,
   "metadata": {},
   "outputs": [],
   "source": [
    "#drop id column because the index has the same values\n",
    "test.drop(\"id\", inplace=True, axis=1)"
   ]
  },
  {
   "cell_type": "code",
   "execution_count": 89,
   "metadata": {},
   "outputs": [
    {
     "data": {
      "text/plain": [
       "(128435, 244)"
      ]
     },
     "execution_count": 89,
     "metadata": {},
     "output_type": "execute_result"
    }
   ],
   "source": [
    "test.shape"
   ]
  },
  {
   "cell_type": "code",
   "execution_count": 90,
   "metadata": {},
   "outputs": [],
   "source": [
    "test.to_csv(\"test_sample.csv\")"
   ]
  },
  {
   "cell_type": "markdown",
   "metadata": {
    "colab_type": "text",
    "id": "FdcCmdK2f7Va"
   },
   "source": [
    "# read sample if already available"
   ]
  },
  {
   "cell_type": "code",
   "execution_count": 3,
   "metadata": {},
   "outputs": [],
   "source": [
    "training_data = pandas.read_csv(\"training_sample.csv\", index_col=0)"
   ]
  },
  {
   "cell_type": "code",
   "execution_count": 4,
   "metadata": {},
   "outputs": [],
   "source": [
    "test_data = pandas.read_csv(\"test_sample.csv\", index_col=0)"
   ]
  },
  {
   "cell_type": "code",
   "execution_count": 59,
   "metadata": {},
   "outputs": [],
   "source": [
    "kaggle_test_data = pandas.read_table(\"data/TST.cod\")"
   ]
  },
  {
   "cell_type": "code",
   "execution_count": 63,
   "metadata": {},
   "outputs": [],
   "source": [
    "kaggle_x_test = kaggle_test_data.drop([\"INDEX\", \"IND_BOM_1_2\", \"IND_BOM_1_1\"], axis=1)\n",
    "kaggle_y_test = kaggle_test_data[\"IND_BOM_1_1\"]"
   ]
  },
  {
   "cell_type": "code",
   "execution_count": 60,
   "metadata": {},
   "outputs": [
    {
     "data": {
      "text/plain": [
       "(129733, 246)"
      ]
     },
     "execution_count": 60,
     "metadata": {},
     "output_type": "execute_result"
    }
   ],
   "source": [
    "kaggle_test_data.shape"
   ]
  },
  {
   "cell_type": "code",
   "execution_count": 61,
   "metadata": {},
   "outputs": [
    {
     "data": {
      "text/html": [
       "<div>\n",
       "<style scoped>\n",
       "    .dataframe tbody tr th:only-of-type {\n",
       "        vertical-align: middle;\n",
       "    }\n",
       "\n",
       "    .dataframe tbody tr th {\n",
       "        vertical-align: top;\n",
       "    }\n",
       "\n",
       "    .dataframe thead th {\n",
       "        text-align: right;\n",
       "    }\n",
       "</style>\n",
       "<table border=\"1\" class=\"dataframe\">\n",
       "  <thead>\n",
       "    <tr style=\"text-align: right;\">\n",
       "      <th></th>\n",
       "      <th>INDEX</th>\n",
       "      <th>UF_1</th>\n",
       "      <th>UF_2</th>\n",
       "      <th>UF_3</th>\n",
       "      <th>UF_4</th>\n",
       "      <th>UF_5</th>\n",
       "      <th>UF_6</th>\n",
       "      <th>UF_7</th>\n",
       "      <th>IDADE</th>\n",
       "      <th>SEXO_1</th>\n",
       "      <th>...</th>\n",
       "      <th>CEP4_7</th>\n",
       "      <th>CEP4_8</th>\n",
       "      <th>CEP4_9</th>\n",
       "      <th>CEP4_10</th>\n",
       "      <th>CEP4_11</th>\n",
       "      <th>CEP4_12</th>\n",
       "      <th>CEP4_13</th>\n",
       "      <th>CEP4_14</th>\n",
       "      <th>IND_BOM_1_1</th>\n",
       "      <th>IND_BOM_1_2</th>\n",
       "    </tr>\n",
       "  </thead>\n",
       "  <tbody>\n",
       "    <tr>\n",
       "      <th>0</th>\n",
       "      <td>0</td>\n",
       "      <td>1</td>\n",
       "      <td>1</td>\n",
       "      <td>1</td>\n",
       "      <td>0</td>\n",
       "      <td>0</td>\n",
       "      <td>0</td>\n",
       "      <td>0</td>\n",
       "      <td>0.898745</td>\n",
       "      <td>1</td>\n",
       "      <td>...</td>\n",
       "      <td>0</td>\n",
       "      <td>1</td>\n",
       "      <td>1</td>\n",
       "      <td>1</td>\n",
       "      <td>0</td>\n",
       "      <td>0</td>\n",
       "      <td>0</td>\n",
       "      <td>0</td>\n",
       "      <td>1</td>\n",
       "      <td>0</td>\n",
       "    </tr>\n",
       "    <tr>\n",
       "      <th>1</th>\n",
       "      <td>1</td>\n",
       "      <td>1</td>\n",
       "      <td>1</td>\n",
       "      <td>0</td>\n",
       "      <td>1</td>\n",
       "      <td>0</td>\n",
       "      <td>0</td>\n",
       "      <td>0</td>\n",
       "      <td>0.847404</td>\n",
       "      <td>1</td>\n",
       "      <td>...</td>\n",
       "      <td>0</td>\n",
       "      <td>0</td>\n",
       "      <td>0</td>\n",
       "      <td>1</td>\n",
       "      <td>1</td>\n",
       "      <td>1</td>\n",
       "      <td>0</td>\n",
       "      <td>0</td>\n",
       "      <td>1</td>\n",
       "      <td>0</td>\n",
       "    </tr>\n",
       "    <tr>\n",
       "      <th>2</th>\n",
       "      <td>2</td>\n",
       "      <td>1</td>\n",
       "      <td>1</td>\n",
       "      <td>0</td>\n",
       "      <td>0</td>\n",
       "      <td>0</td>\n",
       "      <td>0</td>\n",
       "      <td>1</td>\n",
       "      <td>0.016513</td>\n",
       "      <td>0</td>\n",
       "      <td>...</td>\n",
       "      <td>0</td>\n",
       "      <td>1</td>\n",
       "      <td>0</td>\n",
       "      <td>0</td>\n",
       "      <td>1</td>\n",
       "      <td>0</td>\n",
       "      <td>0</td>\n",
       "      <td>1</td>\n",
       "      <td>0</td>\n",
       "      <td>1</td>\n",
       "    </tr>\n",
       "    <tr>\n",
       "      <th>3</th>\n",
       "      <td>3</td>\n",
       "      <td>1</td>\n",
       "      <td>1</td>\n",
       "      <td>0</td>\n",
       "      <td>1</td>\n",
       "      <td>0</td>\n",
       "      <td>0</td>\n",
       "      <td>0</td>\n",
       "      <td>0.688950</td>\n",
       "      <td>0</td>\n",
       "      <td>...</td>\n",
       "      <td>0</td>\n",
       "      <td>0</td>\n",
       "      <td>0</td>\n",
       "      <td>0</td>\n",
       "      <td>0</td>\n",
       "      <td>1</td>\n",
       "      <td>0</td>\n",
       "      <td>1</td>\n",
       "      <td>1</td>\n",
       "      <td>0</td>\n",
       "    </tr>\n",
       "    <tr>\n",
       "      <th>4</th>\n",
       "      <td>4</td>\n",
       "      <td>0</td>\n",
       "      <td>1</td>\n",
       "      <td>1</td>\n",
       "      <td>0</td>\n",
       "      <td>0</td>\n",
       "      <td>1</td>\n",
       "      <td>0</td>\n",
       "      <td>0.230114</td>\n",
       "      <td>1</td>\n",
       "      <td>...</td>\n",
       "      <td>0</td>\n",
       "      <td>1</td>\n",
       "      <td>0</td>\n",
       "      <td>0</td>\n",
       "      <td>1</td>\n",
       "      <td>0</td>\n",
       "      <td>1</td>\n",
       "      <td>0</td>\n",
       "      <td>1</td>\n",
       "      <td>0</td>\n",
       "    </tr>\n",
       "    <tr>\n",
       "      <th>5</th>\n",
       "      <td>5</td>\n",
       "      <td>1</td>\n",
       "      <td>0</td>\n",
       "      <td>0</td>\n",
       "      <td>1</td>\n",
       "      <td>1</td>\n",
       "      <td>0</td>\n",
       "      <td>0</td>\n",
       "      <td>0.433833</td>\n",
       "      <td>1</td>\n",
       "      <td>...</td>\n",
       "      <td>1</td>\n",
       "      <td>1</td>\n",
       "      <td>0</td>\n",
       "      <td>0</td>\n",
       "      <td>0</td>\n",
       "      <td>0</td>\n",
       "      <td>1</td>\n",
       "      <td>0</td>\n",
       "      <td>1</td>\n",
       "      <td>0</td>\n",
       "    </tr>\n",
       "    <tr>\n",
       "      <th>6</th>\n",
       "      <td>6</td>\n",
       "      <td>0</td>\n",
       "      <td>1</td>\n",
       "      <td>1</td>\n",
       "      <td>1</td>\n",
       "      <td>0</td>\n",
       "      <td>0</td>\n",
       "      <td>0</td>\n",
       "      <td>0.339328</td>\n",
       "      <td>1</td>\n",
       "      <td>...</td>\n",
       "      <td>0</td>\n",
       "      <td>0</td>\n",
       "      <td>0</td>\n",
       "      <td>1</td>\n",
       "      <td>0</td>\n",
       "      <td>0</td>\n",
       "      <td>1</td>\n",
       "      <td>0</td>\n",
       "      <td>0</td>\n",
       "      <td>1</td>\n",
       "    </tr>\n",
       "    <tr>\n",
       "      <th>7</th>\n",
       "      <td>7</td>\n",
       "      <td>1</td>\n",
       "      <td>1</td>\n",
       "      <td>0</td>\n",
       "      <td>0</td>\n",
       "      <td>1</td>\n",
       "      <td>0</td>\n",
       "      <td>0</td>\n",
       "      <td>0.170480</td>\n",
       "      <td>0</td>\n",
       "      <td>...</td>\n",
       "      <td>0</td>\n",
       "      <td>1</td>\n",
       "      <td>0</td>\n",
       "      <td>0</td>\n",
       "      <td>0</td>\n",
       "      <td>1</td>\n",
       "      <td>0</td>\n",
       "      <td>1</td>\n",
       "      <td>1</td>\n",
       "      <td>0</td>\n",
       "    </tr>\n",
       "    <tr>\n",
       "      <th>8</th>\n",
       "      <td>8</td>\n",
       "      <td>1</td>\n",
       "      <td>1</td>\n",
       "      <td>0</td>\n",
       "      <td>0</td>\n",
       "      <td>1</td>\n",
       "      <td>0</td>\n",
       "      <td>0</td>\n",
       "      <td>0.676625</td>\n",
       "      <td>1</td>\n",
       "      <td>...</td>\n",
       "      <td>1</td>\n",
       "      <td>0</td>\n",
       "      <td>0</td>\n",
       "      <td>1</td>\n",
       "      <td>1</td>\n",
       "      <td>0</td>\n",
       "      <td>1</td>\n",
       "      <td>0</td>\n",
       "      <td>1</td>\n",
       "      <td>0</td>\n",
       "    </tr>\n",
       "    <tr>\n",
       "      <th>9</th>\n",
       "      <td>9</td>\n",
       "      <td>1</td>\n",
       "      <td>1</td>\n",
       "      <td>0</td>\n",
       "      <td>0</td>\n",
       "      <td>0</td>\n",
       "      <td>1</td>\n",
       "      <td>0</td>\n",
       "      <td>0.229319</td>\n",
       "      <td>1</td>\n",
       "      <td>...</td>\n",
       "      <td>0</td>\n",
       "      <td>0</td>\n",
       "      <td>0</td>\n",
       "      <td>1</td>\n",
       "      <td>1</td>\n",
       "      <td>0</td>\n",
       "      <td>0</td>\n",
       "      <td>0</td>\n",
       "      <td>0</td>\n",
       "      <td>1</td>\n",
       "    </tr>\n",
       "  </tbody>\n",
       "</table>\n",
       "<p>10 rows × 246 columns</p>\n",
       "</div>"
      ],
      "text/plain": [
       "   INDEX  UF_1  UF_2  UF_3  UF_4  UF_5  UF_6  UF_7     IDADE  SEXO_1  \\\n",
       "0      0     1     1     1     0     0     0     0  0.898745       1   \n",
       "1      1     1     1     0     1     0     0     0  0.847404       1   \n",
       "2      2     1     1     0     0     0     0     1  0.016513       0   \n",
       "3      3     1     1     0     1     0     0     0  0.688950       0   \n",
       "4      4     0     1     1     0     0     1     0  0.230114       1   \n",
       "5      5     1     0     0     1     1     0     0  0.433833       1   \n",
       "6      6     0     1     1     1     0     0     0  0.339328       1   \n",
       "7      7     1     1     0     0     1     0     0  0.170480       0   \n",
       "8      8     1     1     0     0     1     0     0  0.676625       1   \n",
       "9      9     1     1     0     0     0     1     0  0.229319       1   \n",
       "\n",
       "      ...       CEP4_7  CEP4_8  CEP4_9  CEP4_10  CEP4_11  CEP4_12  CEP4_13  \\\n",
       "0     ...            0       1       1        1        0        0        0   \n",
       "1     ...            0       0       0        1        1        1        0   \n",
       "2     ...            0       1       0        0        1        0        0   \n",
       "3     ...            0       0       0        0        0        1        0   \n",
       "4     ...            0       1       0        0        1        0        1   \n",
       "5     ...            1       1       0        0        0        0        1   \n",
       "6     ...            0       0       0        1        0        0        1   \n",
       "7     ...            0       1       0        0        0        1        0   \n",
       "8     ...            1       0       0        1        1        0        1   \n",
       "9     ...            0       0       0        1        1        0        0   \n",
       "\n",
       "   CEP4_14  IND_BOM_1_1  IND_BOM_1_2  \n",
       "0        0            1            0  \n",
       "1        0            1            0  \n",
       "2        1            0            1  \n",
       "3        1            1            0  \n",
       "4        0            1            0  \n",
       "5        0            1            0  \n",
       "6        0            0            1  \n",
       "7        1            1            0  \n",
       "8        0            1            0  \n",
       "9        0            0            1  \n",
       "\n",
       "[10 rows x 246 columns]"
      ]
     },
     "execution_count": 61,
     "metadata": {},
     "output_type": "execute_result"
    }
   ],
   "source": [
    "kaggle_test_data.head(10)"
   ]
  },
  {
   "cell_type": "code",
   "execution_count": 5,
   "metadata": {
    "colab": {
     "autoexec": {
      "startup": false,
      "wait_interval": 0
     }
    },
    "colab_type": "code",
    "id": "2Ly7xloIf7Ve",
    "outputId": "7a5edec3-61ed-406f-f2a5-a7372d380aa7"
   },
   "outputs": [
    {
     "data": {
      "text/plain": [
       "Index(['UF_1', 'UF_2', 'UF_3', 'UF_4', 'UF_5', 'UF_6', 'UF_7', 'IDADE',\n",
       "       'SEXO_1', 'NIVEL_RELACIONAMENTO_CREDITO01',\n",
       "       ...\n",
       "       'CEP4_6', 'CEP4_7', 'CEP4_8', 'CEP4_9', 'CEP4_10', 'CEP4_11', 'CEP4_12',\n",
       "       'CEP4_13', 'CEP4_14', 'IND_BOM_1_1'],\n",
       "      dtype='object', length=244)"
      ]
     },
     "execution_count": 5,
     "metadata": {},
     "output_type": "execute_result"
    }
   ],
   "source": [
    "training_data.columns"
   ]
  },
  {
   "cell_type": "code",
   "execution_count": 10,
   "metadata": {
    "colab": {
     "autoexec": {
      "startup": false,
      "wait_interval": 0
     }
    },
    "colab_type": "code",
    "collapsed": true,
    "id": "6C0sx7Tif7Vj"
   },
   "outputs": [],
   "source": [
    "features = training_data.drop([\"IND_BOM_1_1\", \"IND_BOM_1_2\", \"id\"], axis=1)"
   ]
  },
  {
   "cell_type": "code",
   "execution_count": 12,
   "metadata": {
    "colab": {
     "autoexec": {
      "startup": false,
      "wait_interval": 0
     }
    },
    "colab_type": "code",
    "id": "4udGl4tKf7Vm",
    "outputId": "b929b576-1e63-4a12-df67-d74fb554f238"
   },
   "outputs": [
    {
     "data": {
      "text/html": [
       "<div>\n",
       "<style scoped>\n",
       "    .dataframe tbody tr th:only-of-type {\n",
       "        vertical-align: middle;\n",
       "    }\n",
       "\n",
       "    .dataframe tbody tr th {\n",
       "        vertical-align: top;\n",
       "    }\n",
       "\n",
       "    .dataframe thead th {\n",
       "        text-align: right;\n",
       "    }\n",
       "</style>\n",
       "<table border=\"1\" class=\"dataframe\">\n",
       "  <thead>\n",
       "    <tr style=\"text-align: right;\">\n",
       "      <th></th>\n",
       "      <th>UF_1</th>\n",
       "      <th>UF_2</th>\n",
       "      <th>UF_3</th>\n",
       "      <th>UF_4</th>\n",
       "      <th>UF_5</th>\n",
       "      <th>UF_6</th>\n",
       "      <th>UF_7</th>\n",
       "      <th>IDADE</th>\n",
       "      <th>SEXO_1</th>\n",
       "      <th>NIVEL_RELACIONAMENTO_CREDITO01</th>\n",
       "      <th>...</th>\n",
       "      <th>CEP4_5</th>\n",
       "      <th>CEP4_6</th>\n",
       "      <th>CEP4_7</th>\n",
       "      <th>CEP4_8</th>\n",
       "      <th>CEP4_9</th>\n",
       "      <th>CEP4_10</th>\n",
       "      <th>CEP4_11</th>\n",
       "      <th>CEP4_12</th>\n",
       "      <th>CEP4_13</th>\n",
       "      <th>CEP4_14</th>\n",
       "    </tr>\n",
       "  </thead>\n",
       "  <tbody>\n",
       "    <tr>\n",
       "      <th>0</th>\n",
       "      <td>1</td>\n",
       "      <td>0</td>\n",
       "      <td>1</td>\n",
       "      <td>1</td>\n",
       "      <td>0</td>\n",
       "      <td>0</td>\n",
       "      <td>0</td>\n",
       "      <td>0.533846</td>\n",
       "      <td>0</td>\n",
       "      <td>0.111111</td>\n",
       "      <td>...</td>\n",
       "      <td>1</td>\n",
       "      <td>0</td>\n",
       "      <td>0</td>\n",
       "      <td>0</td>\n",
       "      <td>0</td>\n",
       "      <td>1</td>\n",
       "      <td>1</td>\n",
       "      <td>0</td>\n",
       "      <td>1</td>\n",
       "      <td>0</td>\n",
       "    </tr>\n",
       "    <tr>\n",
       "      <th>1</th>\n",
       "      <td>1</td>\n",
       "      <td>1</td>\n",
       "      <td>0</td>\n",
       "      <td>0</td>\n",
       "      <td>0</td>\n",
       "      <td>1</td>\n",
       "      <td>0</td>\n",
       "      <td>0.604895</td>\n",
       "      <td>1</td>\n",
       "      <td>0.000000</td>\n",
       "      <td>...</td>\n",
       "      <td>1</td>\n",
       "      <td>0</td>\n",
       "      <td>0</td>\n",
       "      <td>1</td>\n",
       "      <td>1</td>\n",
       "      <td>1</td>\n",
       "      <td>1</td>\n",
       "      <td>0</td>\n",
       "      <td>0</td>\n",
       "      <td>0</td>\n",
       "    </tr>\n",
       "    <tr>\n",
       "      <th>2</th>\n",
       "      <td>1</td>\n",
       "      <td>0</td>\n",
       "      <td>1</td>\n",
       "      <td>1</td>\n",
       "      <td>0</td>\n",
       "      <td>0</td>\n",
       "      <td>0</td>\n",
       "      <td>0.571103</td>\n",
       "      <td>1</td>\n",
       "      <td>0.111111</td>\n",
       "      <td>...</td>\n",
       "      <td>1</td>\n",
       "      <td>1</td>\n",
       "      <td>0</td>\n",
       "      <td>1</td>\n",
       "      <td>0</td>\n",
       "      <td>0</td>\n",
       "      <td>1</td>\n",
       "      <td>0</td>\n",
       "      <td>1</td>\n",
       "      <td>0</td>\n",
       "    </tr>\n",
       "    <tr>\n",
       "      <th>3</th>\n",
       "      <td>1</td>\n",
       "      <td>0</td>\n",
       "      <td>1</td>\n",
       "      <td>0</td>\n",
       "      <td>0</td>\n",
       "      <td>0</td>\n",
       "      <td>1</td>\n",
       "      <td>0.625795</td>\n",
       "      <td>0</td>\n",
       "      <td>0.111111</td>\n",
       "      <td>...</td>\n",
       "      <td>0</td>\n",
       "      <td>1</td>\n",
       "      <td>0</td>\n",
       "      <td>1</td>\n",
       "      <td>0</td>\n",
       "      <td>1</td>\n",
       "      <td>0</td>\n",
       "      <td>0</td>\n",
       "      <td>1</td>\n",
       "      <td>0</td>\n",
       "    </tr>\n",
       "    <tr>\n",
       "      <th>4</th>\n",
       "      <td>0</td>\n",
       "      <td>1</td>\n",
       "      <td>1</td>\n",
       "      <td>0</td>\n",
       "      <td>0</td>\n",
       "      <td>1</td>\n",
       "      <td>0</td>\n",
       "      <td>0.272198</td>\n",
       "      <td>0</td>\n",
       "      <td>0.111111</td>\n",
       "      <td>...</td>\n",
       "      <td>0</td>\n",
       "      <td>0</td>\n",
       "      <td>0</td>\n",
       "      <td>0</td>\n",
       "      <td>0</td>\n",
       "      <td>1</td>\n",
       "      <td>1</td>\n",
       "      <td>0</td>\n",
       "      <td>0</td>\n",
       "      <td>1</td>\n",
       "    </tr>\n",
       "    <tr>\n",
       "      <th>5</th>\n",
       "      <td>1</td>\n",
       "      <td>1</td>\n",
       "      <td>0</td>\n",
       "      <td>0</td>\n",
       "      <td>0</td>\n",
       "      <td>0</td>\n",
       "      <td>1</td>\n",
       "      <td>0.107837</td>\n",
       "      <td>1</td>\n",
       "      <td>0.111111</td>\n",
       "      <td>...</td>\n",
       "      <td>1</td>\n",
       "      <td>0</td>\n",
       "      <td>0</td>\n",
       "      <td>0</td>\n",
       "      <td>0</td>\n",
       "      <td>0</td>\n",
       "      <td>0</td>\n",
       "      <td>1</td>\n",
       "      <td>0</td>\n",
       "      <td>1</td>\n",
       "    </tr>\n",
       "    <tr>\n",
       "      <th>6</th>\n",
       "      <td>1</td>\n",
       "      <td>0</td>\n",
       "      <td>0</td>\n",
       "      <td>1</td>\n",
       "      <td>1</td>\n",
       "      <td>0</td>\n",
       "      <td>0</td>\n",
       "      <td>0.566673</td>\n",
       "      <td>1</td>\n",
       "      <td>0.111111</td>\n",
       "      <td>...</td>\n",
       "      <td>1</td>\n",
       "      <td>1</td>\n",
       "      <td>1</td>\n",
       "      <td>1</td>\n",
       "      <td>1</td>\n",
       "      <td>1</td>\n",
       "      <td>0</td>\n",
       "      <td>0</td>\n",
       "      <td>0</td>\n",
       "      <td>0</td>\n",
       "    </tr>\n",
       "    <tr>\n",
       "      <th>7</th>\n",
       "      <td>1</td>\n",
       "      <td>1</td>\n",
       "      <td>0</td>\n",
       "      <td>1</td>\n",
       "      <td>0</td>\n",
       "      <td>0</td>\n",
       "      <td>0</td>\n",
       "      <td>0.174853</td>\n",
       "      <td>1</td>\n",
       "      <td>0.111111</td>\n",
       "      <td>...</td>\n",
       "      <td>1</td>\n",
       "      <td>1</td>\n",
       "      <td>1</td>\n",
       "      <td>1</td>\n",
       "      <td>1</td>\n",
       "      <td>0</td>\n",
       "      <td>0</td>\n",
       "      <td>0</td>\n",
       "      <td>0</td>\n",
       "      <td>0</td>\n",
       "    </tr>\n",
       "    <tr>\n",
       "      <th>8</th>\n",
       "      <td>1</td>\n",
       "      <td>1</td>\n",
       "      <td>0</td>\n",
       "      <td>0</td>\n",
       "      <td>0</td>\n",
       "      <td>1</td>\n",
       "      <td>0</td>\n",
       "      <td>0.394475</td>\n",
       "      <td>0</td>\n",
       "      <td>0.111111</td>\n",
       "      <td>...</td>\n",
       "      <td>1</td>\n",
       "      <td>0</td>\n",
       "      <td>1</td>\n",
       "      <td>1</td>\n",
       "      <td>0</td>\n",
       "      <td>1</td>\n",
       "      <td>0</td>\n",
       "      <td>0</td>\n",
       "      <td>1</td>\n",
       "      <td>0</td>\n",
       "    </tr>\n",
       "    <tr>\n",
       "      <th>9</th>\n",
       "      <td>0</td>\n",
       "      <td>1</td>\n",
       "      <td>1</td>\n",
       "      <td>0</td>\n",
       "      <td>1</td>\n",
       "      <td>0</td>\n",
       "      <td>0</td>\n",
       "      <td>0.310590</td>\n",
       "      <td>0</td>\n",
       "      <td>0.111111</td>\n",
       "      <td>...</td>\n",
       "      <td>1</td>\n",
       "      <td>0</td>\n",
       "      <td>1</td>\n",
       "      <td>0</td>\n",
       "      <td>0</td>\n",
       "      <td>0</td>\n",
       "      <td>0</td>\n",
       "      <td>0</td>\n",
       "      <td>0</td>\n",
       "      <td>1</td>\n",
       "    </tr>\n",
       "  </tbody>\n",
       "</table>\n",
       "<p>10 rows × 243 columns</p>\n",
       "</div>"
      ],
      "text/plain": [
       "   UF_1  UF_2  UF_3  UF_4  UF_5  UF_6  UF_7     IDADE  SEXO_1  \\\n",
       "0     1     0     1     1     0     0     0  0.533846       0   \n",
       "1     1     1     0     0     0     1     0  0.604895       1   \n",
       "2     1     0     1     1     0     0     0  0.571103       1   \n",
       "3     1     0     1     0     0     0     1  0.625795       0   \n",
       "4     0     1     1     0     0     1     0  0.272198       0   \n",
       "5     1     1     0     0     0     0     1  0.107837       1   \n",
       "6     1     0     0     1     1     0     0  0.566673       1   \n",
       "7     1     1     0     1     0     0     0  0.174853       1   \n",
       "8     1     1     0     0     0     1     0  0.394475       0   \n",
       "9     0     1     1     0     1     0     0  0.310590       0   \n",
       "\n",
       "   NIVEL_RELACIONAMENTO_CREDITO01   ...     CEP4_5  CEP4_6  CEP4_7  CEP4_8  \\\n",
       "0                        0.111111   ...          1       0       0       0   \n",
       "1                        0.000000   ...          1       0       0       1   \n",
       "2                        0.111111   ...          1       1       0       1   \n",
       "3                        0.111111   ...          0       1       0       1   \n",
       "4                        0.111111   ...          0       0       0       0   \n",
       "5                        0.111111   ...          1       0       0       0   \n",
       "6                        0.111111   ...          1       1       1       1   \n",
       "7                        0.111111   ...          1       1       1       1   \n",
       "8                        0.111111   ...          1       0       1       1   \n",
       "9                        0.111111   ...          1       0       1       0   \n",
       "\n",
       "   CEP4_9  CEP4_10  CEP4_11  CEP4_12  CEP4_13  CEP4_14  \n",
       "0       0        1        1        0        1        0  \n",
       "1       1        1        1        0        0        0  \n",
       "2       0        0        1        0        1        0  \n",
       "3       0        1        0        0        1        0  \n",
       "4       0        1        1        0        0        1  \n",
       "5       0        0        0        1        0        1  \n",
       "6       1        1        0        0        0        0  \n",
       "7       1        0        0        0        0        0  \n",
       "8       0        1        0        0        1        0  \n",
       "9       0        0        0        0        0        1  \n",
       "\n",
       "[10 rows x 243 columns]"
      ]
     },
     "execution_count": 12,
     "metadata": {},
     "output_type": "execute_result"
    }
   ],
   "source": [
    "features.head(10)"
   ]
  },
  {
   "cell_type": "code",
   "execution_count": 13,
   "metadata": {
    "colab": {
     "autoexec": {
      "startup": false,
      "wait_interval": 0
     }
    },
    "colab_type": "code",
    "collapsed": true,
    "id": "z-XYnde-f7Vs"
   },
   "outputs": [],
   "source": [
    "labels = training_data[\"IND_BOM_1_1\"]"
   ]
  },
  {
   "cell_type": "markdown",
   "metadata": {
    "colab_type": "text",
    "id": "PUAV5GkMf7Vv"
   },
   "source": [
    "Vou tentar reduzir a dimensionalidade do dataframe utilizando LDA para poder analisar \n",
    "melhor um subconjunto de variáveis e mensurar a acurácia"
   ]
  },
  {
   "cell_type": "markdown",
   "metadata": {
    "colab_type": "text",
    "id": "rYDQV9idf7V8"
   },
   "source": [
    "## Data Cleaning"
   ]
  },
  {
   "cell_type": "code",
   "execution_count": 10,
   "metadata": {
    "colab": {
     "autoexec": {
      "startup": false,
      "wait_interval": 0
     }
    },
    "colab_type": "code",
    "id": "c1WYqc8Gf7V-",
    "outputId": "34c86b31-11e0-43b6-d51d-1add48cb3406"
   },
   "outputs": [
    {
     "data": {
      "text/plain": [
       "float64    144\n",
       "int64      102\n",
       "dtype: int64"
      ]
     },
     "execution_count": 10,
     "metadata": {},
     "output_type": "execute_result"
    }
   ],
   "source": [
    "training_data.dtypes.value_counts()"
   ]
  },
  {
   "cell_type": "markdown",
   "metadata": {
    "colab_type": "text",
    "id": "XQM5hPKMf7WB"
   },
   "source": [
    "Pandas leu muito dos valores de forma errada, gerando até problemas para o uso de memória, existem formas\n",
    "melhores de representar estas variáveis."
   ]
  },
  {
   "cell_type": "code",
   "execution_count": 11,
   "metadata": {
    "colab": {
     "autoexec": {
      "startup": false,
      "wait_interval": 0
     }
    },
    "colab_type": "code",
    "id": "sfF7azoAf7WC",
    "outputId": "44ffb9d7-50ce-4293-97eb-391a90ad70b5"
   },
   "outputs": [
    {
     "data": {
      "text/plain": [
       "Index(['id', 'UF_1', 'UF_2', 'UF_3', 'UF_4', 'UF_5', 'UF_6', 'UF_7', 'IDADE',\n",
       "       'SEXO_1',\n",
       "       ...\n",
       "       'CEP4_7', 'CEP4_8', 'CEP4_9', 'CEP4_10', 'CEP4_11', 'CEP4_12',\n",
       "       'CEP4_13', 'CEP4_14', 'IND_BOM_1_1', 'IND_BOM_1_2'],\n",
       "      dtype='object', length=246)"
      ]
     },
     "execution_count": 11,
     "metadata": {},
     "output_type": "execute_result"
    }
   ],
   "source": [
    "training_data.columns"
   ]
  },
  {
   "cell_type": "code",
   "execution_count": 88,
   "metadata": {
    "colab": {
     "autoexec": {
      "startup": false,
      "wait_interval": 0
     }
    },
    "colab_type": "code",
    "collapsed": true,
    "id": "VOz6CYXCf7WJ"
   },
   "outputs": [],
   "source": [
    "category_columns = [\"UF_1\", \"UF_2\", \"UF_3\", \"UF_4\", \"UF_5\", \"UF_6\", \"UF_7\",\n",
    "                   \"BANCO_REST_IRPF_ULTIMA_1\", \"BANCO_REST_IRPF_ULTIMA_2\", \"BANCO_REST_IRPF_ULTIMA_3\",\n",
    "                   \"BANCO_REST_IRPF_ULTIMA_4\", \"BANCO_REST_IRPF_ULTIMA_5\", \"BANCO_REST_IRPF_ULTIMA_6\",\n",
    "                   \"BANCO_REST_IRPF_ULTIMA_7\", \"FLAG_BOLSA_FAMILIA_1\", \"SIGLA_PARTIDO_FILIADO_1\",\n",
    "                   \"SIGLA_PARTIDO_FILIADO_2\", \"SIGLA_PARTIDO_FILIADO_3\", \"SIGLA_PARTIDO_FILIADO_4\",\n",
    "                   \"SIGLA_PARTIDO_FILIADO_5\", \"SIGLA_PARTIDO_FILIADO_6\", \"SIGLA_PARTIDO_FILIADO_7\",\n",
    "                   \"FLAG_FILIADO_PARTIDO_POLITICO_1\", \"FLAG_PROUNI_1\", \"RENDA_VIZINHANCA_1\", \n",
    "                   \"RENDA_VIZINHANCA_2\", \"RENDA_VIZINHANCA_3\", \"RENDA_VIZINHANCA_4\", \n",
    "                    \"COMPARATIVO_RENDA_CEP_1\", \"COMPARATIVO_RENDA_CEP_2\", \"COMPARATIVO_RENDA_CEP_3\",\n",
    "                   \"COMPARATIVO_RENDA_CEP_4\", \"COMPARATIVO_RENDA_CEP_5\", \"CLASSE_SOCIAL_CONSUMIDOR_1\",\n",
    "                   \"CLASSE_SOCIAL_CONSUMIDOR_2\", \"CLASSE_SOCIAL_CONSUMIDOR_3\", \"CLASSE_SOCIAL_CONSUMIDOR_4\",\n",
    "                   \"FLAG_REDE_SOCIAL_1\", \"FLAG_REDE_SOCIAL_2\", \"FLAG_REDE_SOCIAL_3\",\n",
    "                   \"CEP1_1\", \"CEP1_2\", \"CEP1_3\", \"CEP1_4\", \"CEP1_5\", \"CEP2_1\", \"CEP2_2\", \"CEP2_3\", \"CEP2_4\",\n",
    "                   \"CEP2_5\", \"CEP2_6\", \"CEP2_7\", \"CEP2_8\", \"CEP2_9\", \"CEP3_1\", \"CEP3_2\", \"CEP3_3\", \"CEP3_4\",\n",
    "                   \"CEP3_5\", \"CEP3_6\", \"CEP3_7\", \"CEP3_8\", \"CEP3_9\", \"CEP3_10\", \"CEP3_11\", \"CEP3_12\",\n",
    "                   \"CEP4_1\", \"CEP4_2\", \"CEP4_3\", \"CEP4_4\", \"CEP4_5\", \"CEP4_6\", \"CEP4_7\", \"CEP4_8\", \"CEP4_9\",\n",
    "                   \"CEP4_10\", \"CEP4_11\", \"CEP4_12\", \"CEP4_13\", \"CEP4_14\"]\n",
    "\n",
    "ordered_category_columns = [\"NIVEL_RELACIONAMENTO_CREDITO02\", \"EXPOSICAO_CONSUMIDOR_EMAILS\", \n",
    "                            \"EXPOSICAO_CONSUMIDOR_TELEFONES\"]"
   ]
  },
  {
   "cell_type": "code",
   "execution_count": null,
   "metadata": {
    "colab": {
     "autoexec": {
      "startup": false,
      "wait_interval": 0
     }
    },
    "colab_type": "code",
    "id": "Rne2Z-82f7WL",
    "outputId": "221c332b-b531-4c10-e309-23245f2fcf3f"
   },
   "outputs": [],
   "source": [
    "for column in training_data.columns:\n",
    "    print(column)\n",
    "    values = training_data[column].value_counts()\n",
    "    if type(values) == list:\n",
    "        print(values[:10])\n",
    "    else:\n",
    "        print(values.head(10))\n",
    "    print(len(values))\n",
    "    "
   ]
  },
  {
   "cell_type": "code",
   "execution_count": null,
   "metadata": {
    "colab": {
     "autoexec": {
      "startup": false,
      "wait_interval": 0
     }
    },
    "colab_type": "code",
    "collapsed": true,
    "id": "M1Eay13Kf7WN"
   },
   "outputs": [],
   "source": [
    "for column in category_columns:\n",
    "    training_data[column] = training_data[column].astype('category')"
   ]
  },
  {
   "cell_type": "code",
   "execution_count": null,
   "metadata": {
    "colab": {
     "autoexec": {
      "startup": false,
      "wait_interval": 0
     }
    },
    "colab_type": "code",
    "id": "o6KVdoYNf7WR",
    "outputId": "0e997d3b-17f3-498a-f057-32538b7434b4"
   },
   "outputs": [],
   "source": [
    "training_data.dtypes.value_counts()"
   ]
  },
  {
   "cell_type": "code",
   "execution_count": 17,
   "metadata": {
    "colab": {
     "autoexec": {
      "startup": false,
      "wait_interval": 0
     }
    },
    "colab_type": "code",
    "id": "dPNgFMCRf7WU",
    "outputId": "80579775-f6b3-4a70-a140-25b6be1f267c"
   },
   "outputs": [
    {
     "data": {
      "text/html": [
       "<div>\n",
       "<style scoped>\n",
       "    .dataframe tbody tr th:only-of-type {\n",
       "        vertical-align: middle;\n",
       "    }\n",
       "\n",
       "    .dataframe tbody tr th {\n",
       "        vertical-align: top;\n",
       "    }\n",
       "\n",
       "    .dataframe thead th {\n",
       "        text-align: right;\n",
       "    }\n",
       "</style>\n",
       "<table border=\"1\" class=\"dataframe\">\n",
       "  <thead>\n",
       "    <tr style=\"text-align: right;\">\n",
       "      <th>IND_BOM_1_1</th>\n",
       "      <th>0</th>\n",
       "      <th>1</th>\n",
       "    </tr>\n",
       "    <tr>\n",
       "      <th>SEXO_1</th>\n",
       "      <th></th>\n",
       "      <th></th>\n",
       "    </tr>\n",
       "  </thead>\n",
       "  <tbody>\n",
       "    <tr>\n",
       "      <th>0</th>\n",
       "      <td>19330</td>\n",
       "      <td>36823</td>\n",
       "    </tr>\n",
       "    <tr>\n",
       "      <th>1</th>\n",
       "      <td>20837</td>\n",
       "      <td>39769</td>\n",
       "    </tr>\n",
       "  </tbody>\n",
       "</table>\n",
       "</div>"
      ],
      "text/plain": [
       "IND_BOM_1_1      0      1\n",
       "SEXO_1                   \n",
       "0            19330  36823\n",
       "1            20837  39769"
      ]
     },
     "execution_count": 17,
     "metadata": {},
     "output_type": "execute_result"
    }
   ],
   "source": [
    "confunsion_matrix = pandas.crosstab(training_data[\"SEXO_1\"], training_data[\"IND_BOM_1_1\"])\n",
    "confunsion_matrix"
   ]
  },
  {
   "cell_type": "code",
   "execution_count": 18,
   "metadata": {
    "colab": {
     "autoexec": {
      "startup": false,
      "wait_interval": 0
     }
    },
    "colab_type": "code",
    "id": "F_wc44luf7WX",
    "outputId": "8f948f8f-ea80-42ea-923e-f5a79ea8e8c3"
   },
   "outputs": [
    {
     "data": {
      "text/plain": [
       "Power_divergenceResult(statistic=array([  56.54016979,  113.31360978]), pvalue=array([  5.50619646e-14,   1.84208521e-26]))"
      ]
     },
     "execution_count": 18,
     "metadata": {},
     "output_type": "execute_result"
    }
   ],
   "source": [
    "from scipy.stats import chisquare\n",
    "chisquare(confunsion_matrix)"
   ]
  },
  {
   "cell_type": "markdown",
   "metadata": {
    "colab_type": "text",
    "id": "HE8lepFEf7Wa"
   },
   "source": [
    "# Feature Selection"
   ]
  },
  {
   "cell_type": "code",
   "execution_count": 27,
   "metadata": {
    "colab": {
     "autoexec": {
      "startup": false,
      "wait_interval": 0
     }
    },
    "colab_type": "code",
    "id": "tvOkSKebf7Wb",
    "outputId": "c70f39c8-fe00-49f1-ef67-235eea0792e8"
   },
   "outputs": [
    {
     "data": {
      "text/html": [
       "<div>\n",
       "<style scoped>\n",
       "    .dataframe tbody tr th:only-of-type {\n",
       "        vertical-align: middle;\n",
       "    }\n",
       "\n",
       "    .dataframe tbody tr th {\n",
       "        vertical-align: top;\n",
       "    }\n",
       "\n",
       "    .dataframe thead th {\n",
       "        text-align: right;\n",
       "    }\n",
       "</style>\n",
       "<table border=\"1\" class=\"dataframe\">\n",
       "  <thead>\n",
       "    <tr style=\"text-align: right;\">\n",
       "      <th></th>\n",
       "      <th>UF_1</th>\n",
       "      <th>UF_2</th>\n",
       "      <th>UF_3</th>\n",
       "      <th>UF_4</th>\n",
       "      <th>UF_5</th>\n",
       "      <th>UF_6</th>\n",
       "      <th>UF_7</th>\n",
       "      <th>IDADE</th>\n",
       "      <th>SEXO_1</th>\n",
       "      <th>NIVEL_RELACIONAMENTO_CREDITO01</th>\n",
       "      <th>...</th>\n",
       "      <th>CEP4_5</th>\n",
       "      <th>CEP4_6</th>\n",
       "      <th>CEP4_7</th>\n",
       "      <th>CEP4_8</th>\n",
       "      <th>CEP4_9</th>\n",
       "      <th>CEP4_10</th>\n",
       "      <th>CEP4_11</th>\n",
       "      <th>CEP4_12</th>\n",
       "      <th>CEP4_13</th>\n",
       "      <th>CEP4_14</th>\n",
       "    </tr>\n",
       "  </thead>\n",
       "  <tbody>\n",
       "    <tr>\n",
       "      <th>UF_1</th>\n",
       "      <td>1.000000</td>\n",
       "      <td>0.209093</td>\n",
       "      <td>0.048255</td>\n",
       "      <td>0.146628</td>\n",
       "      <td>0.118488</td>\n",
       "      <td>0.100570</td>\n",
       "      <td>0.087990</td>\n",
       "      <td>0.019386</td>\n",
       "      <td>0.007811</td>\n",
       "      <td>0.006435</td>\n",
       "      <td>...</td>\n",
       "      <td>0.025403</td>\n",
       "      <td>0.017901</td>\n",
       "      <td>0.002279</td>\n",
       "      <td>0.000400</td>\n",
       "      <td>0.041249</td>\n",
       "      <td>0.004074</td>\n",
       "      <td>0.004246</td>\n",
       "      <td>0.009868</td>\n",
       "      <td>0.022239</td>\n",
       "      <td>0.035315</td>\n",
       "    </tr>\n",
       "    <tr>\n",
       "      <th>UF_2</th>\n",
       "      <td>0.209093</td>\n",
       "      <td>1.000000</td>\n",
       "      <td>0.123264</td>\n",
       "      <td>0.247423</td>\n",
       "      <td>0.187327</td>\n",
       "      <td>0.171868</td>\n",
       "      <td>0.180898</td>\n",
       "      <td>0.012217</td>\n",
       "      <td>0.013103</td>\n",
       "      <td>0.014506</td>\n",
       "      <td>...</td>\n",
       "      <td>0.040997</td>\n",
       "      <td>0.006801</td>\n",
       "      <td>0.002159</td>\n",
       "      <td>0.035769</td>\n",
       "      <td>0.002821</td>\n",
       "      <td>0.023900</td>\n",
       "      <td>0.012583</td>\n",
       "      <td>0.021424</td>\n",
       "      <td>0.007369</td>\n",
       "      <td>0.029016</td>\n",
       "    </tr>\n",
       "    <tr>\n",
       "      <th>UF_3</th>\n",
       "      <td>0.048255</td>\n",
       "      <td>0.123264</td>\n",
       "      <td>1.000000</td>\n",
       "      <td>0.275167</td>\n",
       "      <td>0.269899</td>\n",
       "      <td>0.246315</td>\n",
       "      <td>0.216494</td>\n",
       "      <td>0.031256</td>\n",
       "      <td>0.003892</td>\n",
       "      <td>0.013546</td>\n",
       "      <td>...</td>\n",
       "      <td>0.011452</td>\n",
       "      <td>0.008139</td>\n",
       "      <td>0.009605</td>\n",
       "      <td>0.062716</td>\n",
       "      <td>0.011476</td>\n",
       "      <td>0.038354</td>\n",
       "      <td>0.017366</td>\n",
       "      <td>0.002350</td>\n",
       "      <td>0.018033</td>\n",
       "      <td>0.011395</td>\n",
       "    </tr>\n",
       "    <tr>\n",
       "      <th>UF_4</th>\n",
       "      <td>0.146628</td>\n",
       "      <td>0.247423</td>\n",
       "      <td>0.275167</td>\n",
       "      <td>1.000000</td>\n",
       "      <td>0.126074</td>\n",
       "      <td>0.126333</td>\n",
       "      <td>0.135131</td>\n",
       "      <td>0.020921</td>\n",
       "      <td>0.004924</td>\n",
       "      <td>0.041647</td>\n",
       "      <td>...</td>\n",
       "      <td>0.001024</td>\n",
       "      <td>0.005757</td>\n",
       "      <td>0.009747</td>\n",
       "      <td>0.021085</td>\n",
       "      <td>0.012738</td>\n",
       "      <td>0.019959</td>\n",
       "      <td>0.028406</td>\n",
       "      <td>0.010240</td>\n",
       "      <td>0.023383</td>\n",
       "      <td>0.047764</td>\n",
       "    </tr>\n",
       "    <tr>\n",
       "      <th>UF_5</th>\n",
       "      <td>0.118488</td>\n",
       "      <td>0.187327</td>\n",
       "      <td>0.269899</td>\n",
       "      <td>0.126074</td>\n",
       "      <td>1.000000</td>\n",
       "      <td>0.156790</td>\n",
       "      <td>0.121600</td>\n",
       "      <td>0.003239</td>\n",
       "      <td>0.006073</td>\n",
       "      <td>0.018759</td>\n",
       "      <td>...</td>\n",
       "      <td>0.000297</td>\n",
       "      <td>0.002524</td>\n",
       "      <td>0.060533</td>\n",
       "      <td>0.009569</td>\n",
       "      <td>0.000885</td>\n",
       "      <td>0.000713</td>\n",
       "      <td>0.001331</td>\n",
       "      <td>0.023599</td>\n",
       "      <td>0.026219</td>\n",
       "      <td>0.026264</td>\n",
       "    </tr>\n",
       "    <tr>\n",
       "      <th>UF_6</th>\n",
       "      <td>0.100570</td>\n",
       "      <td>0.171868</td>\n",
       "      <td>0.246315</td>\n",
       "      <td>0.126333</td>\n",
       "      <td>0.156790</td>\n",
       "      <td>1.000000</td>\n",
       "      <td>0.137971</td>\n",
       "      <td>0.026368</td>\n",
       "      <td>0.017433</td>\n",
       "      <td>0.028672</td>\n",
       "      <td>...</td>\n",
       "      <td>0.002480</td>\n",
       "      <td>0.023013</td>\n",
       "      <td>0.067999</td>\n",
       "      <td>0.022139</td>\n",
       "      <td>0.029033</td>\n",
       "      <td>0.065947</td>\n",
       "      <td>0.025372</td>\n",
       "      <td>0.000670</td>\n",
       "      <td>0.015740</td>\n",
       "      <td>0.003706</td>\n",
       "    </tr>\n",
       "    <tr>\n",
       "      <th>UF_7</th>\n",
       "      <td>0.087990</td>\n",
       "      <td>0.180898</td>\n",
       "      <td>0.216494</td>\n",
       "      <td>0.135131</td>\n",
       "      <td>0.121600</td>\n",
       "      <td>0.137971</td>\n",
       "      <td>1.000000</td>\n",
       "      <td>0.002974</td>\n",
       "      <td>0.022839</td>\n",
       "      <td>0.000691</td>\n",
       "      <td>...</td>\n",
       "      <td>0.044504</td>\n",
       "      <td>0.024435</td>\n",
       "      <td>0.005311</td>\n",
       "      <td>0.000662</td>\n",
       "      <td>0.006608</td>\n",
       "      <td>0.035075</td>\n",
       "      <td>0.001038</td>\n",
       "      <td>0.017101</td>\n",
       "      <td>0.034493</td>\n",
       "      <td>0.003431</td>\n",
       "    </tr>\n",
       "    <tr>\n",
       "      <th>IDADE</th>\n",
       "      <td>0.019386</td>\n",
       "      <td>0.012217</td>\n",
       "      <td>0.031256</td>\n",
       "      <td>0.020921</td>\n",
       "      <td>0.003239</td>\n",
       "      <td>0.026368</td>\n",
       "      <td>0.002974</td>\n",
       "      <td>1.000000</td>\n",
       "      <td>0.017405</td>\n",
       "      <td>0.029988</td>\n",
       "      <td>...</td>\n",
       "      <td>0.001120</td>\n",
       "      <td>0.004402</td>\n",
       "      <td>0.013037</td>\n",
       "      <td>0.001559</td>\n",
       "      <td>0.008037</td>\n",
       "      <td>0.004025</td>\n",
       "      <td>0.000544</td>\n",
       "      <td>0.002066</td>\n",
       "      <td>0.000616</td>\n",
       "      <td>0.006353</td>\n",
       "    </tr>\n",
       "    <tr>\n",
       "      <th>SEXO_1</th>\n",
       "      <td>0.007811</td>\n",
       "      <td>0.013103</td>\n",
       "      <td>0.003892</td>\n",
       "      <td>0.004924</td>\n",
       "      <td>0.006073</td>\n",
       "      <td>0.017433</td>\n",
       "      <td>0.022839</td>\n",
       "      <td>0.017405</td>\n",
       "      <td>1.000000</td>\n",
       "      <td>0.020646</td>\n",
       "      <td>...</td>\n",
       "      <td>0.000789</td>\n",
       "      <td>0.008388</td>\n",
       "      <td>0.000917</td>\n",
       "      <td>0.002623</td>\n",
       "      <td>0.002129</td>\n",
       "      <td>0.002683</td>\n",
       "      <td>0.001580</td>\n",
       "      <td>0.004715</td>\n",
       "      <td>0.002303</td>\n",
       "      <td>0.003675</td>\n",
       "    </tr>\n",
       "    <tr>\n",
       "      <th>NIVEL_RELACIONAMENTO_CREDITO01</th>\n",
       "      <td>0.006435</td>\n",
       "      <td>0.014506</td>\n",
       "      <td>0.013546</td>\n",
       "      <td>0.041647</td>\n",
       "      <td>0.018759</td>\n",
       "      <td>0.028672</td>\n",
       "      <td>0.000691</td>\n",
       "      <td>0.029988</td>\n",
       "      <td>0.020646</td>\n",
       "      <td>1.000000</td>\n",
       "      <td>...</td>\n",
       "      <td>0.002201</td>\n",
       "      <td>0.004603</td>\n",
       "      <td>0.001246</td>\n",
       "      <td>0.002234</td>\n",
       "      <td>0.003535</td>\n",
       "      <td>0.001846</td>\n",
       "      <td>0.000003</td>\n",
       "      <td>0.000372</td>\n",
       "      <td>0.004002</td>\n",
       "      <td>0.005085</td>\n",
       "    </tr>\n",
       "    <tr>\n",
       "      <th>NIVEL_RELACIONAMENTO_CREDITO02</th>\n",
       "      <td>0.001615</td>\n",
       "      <td>0.000890</td>\n",
       "      <td>0.010338</td>\n",
       "      <td>0.009182</td>\n",
       "      <td>0.007102</td>\n",
       "      <td>0.002931</td>\n",
       "      <td>0.000145</td>\n",
       "      <td>0.009357</td>\n",
       "      <td>0.004807</td>\n",
       "      <td>0.239705</td>\n",
       "      <td>...</td>\n",
       "      <td>0.001662</td>\n",
       "      <td>0.000234</td>\n",
       "      <td>0.000432</td>\n",
       "      <td>0.002970</td>\n",
       "      <td>0.000242</td>\n",
       "      <td>0.003913</td>\n",
       "      <td>0.002860</td>\n",
       "      <td>0.001918</td>\n",
       "      <td>0.000591</td>\n",
       "      <td>0.001580</td>\n",
       "    </tr>\n",
       "    <tr>\n",
       "      <th>BANCO_REST_IRPF_ULTIMA_1</th>\n",
       "      <td>0.007550</td>\n",
       "      <td>0.048365</td>\n",
       "      <td>0.042261</td>\n",
       "      <td>0.036186</td>\n",
       "      <td>0.006520</td>\n",
       "      <td>0.036946</td>\n",
       "      <td>0.028865</td>\n",
       "      <td>0.011831</td>\n",
       "      <td>0.041594</td>\n",
       "      <td>0.014328</td>\n",
       "      <td>...</td>\n",
       "      <td>0.012245</td>\n",
       "      <td>0.016455</td>\n",
       "      <td>0.005782</td>\n",
       "      <td>0.004235</td>\n",
       "      <td>0.002374</td>\n",
       "      <td>0.004159</td>\n",
       "      <td>0.004780</td>\n",
       "      <td>0.007634</td>\n",
       "      <td>0.000321</td>\n",
       "      <td>0.011306</td>\n",
       "    </tr>\n",
       "    <tr>\n",
       "      <th>BANCO_REST_IRPF_ULTIMA_2</th>\n",
       "      <td>0.027318</td>\n",
       "      <td>0.013636</td>\n",
       "      <td>0.009286</td>\n",
       "      <td>0.000790</td>\n",
       "      <td>0.015587</td>\n",
       "      <td>0.012387</td>\n",
       "      <td>0.002948</td>\n",
       "      <td>0.035525</td>\n",
       "      <td>0.010267</td>\n",
       "      <td>0.012884</td>\n",
       "      <td>...</td>\n",
       "      <td>0.004858</td>\n",
       "      <td>0.009597</td>\n",
       "      <td>0.004823</td>\n",
       "      <td>0.009435</td>\n",
       "      <td>0.003250</td>\n",
       "      <td>0.007759</td>\n",
       "      <td>0.002070</td>\n",
       "      <td>0.006667</td>\n",
       "      <td>0.002163</td>\n",
       "      <td>0.012610</td>\n",
       "    </tr>\n",
       "    <tr>\n",
       "      <th>BANCO_REST_IRPF_ULTIMA_3</th>\n",
       "      <td>0.031309</td>\n",
       "      <td>0.049316</td>\n",
       "      <td>0.007395</td>\n",
       "      <td>0.035204</td>\n",
       "      <td>0.002591</td>\n",
       "      <td>0.009251</td>\n",
       "      <td>0.039252</td>\n",
       "      <td>0.002203</td>\n",
       "      <td>0.022476</td>\n",
       "      <td>0.003451</td>\n",
       "      <td>...</td>\n",
       "      <td>0.011136</td>\n",
       "      <td>0.002867</td>\n",
       "      <td>0.002796</td>\n",
       "      <td>0.000919</td>\n",
       "      <td>0.006268</td>\n",
       "      <td>0.004781</td>\n",
       "      <td>0.009614</td>\n",
       "      <td>0.000145</td>\n",
       "      <td>0.004880</td>\n",
       "      <td>0.004504</td>\n",
       "    </tr>\n",
       "    <tr>\n",
       "      <th>BANCO_REST_IRPF_ULTIMA_4</th>\n",
       "      <td>0.009614</td>\n",
       "      <td>0.011060</td>\n",
       "      <td>0.029721</td>\n",
       "      <td>0.024070</td>\n",
       "      <td>0.004330</td>\n",
       "      <td>0.012961</td>\n",
       "      <td>0.021763</td>\n",
       "      <td>0.010099</td>\n",
       "      <td>0.031053</td>\n",
       "      <td>0.008848</td>\n",
       "      <td>...</td>\n",
       "      <td>0.006003</td>\n",
       "      <td>0.005124</td>\n",
       "      <td>0.008856</td>\n",
       "      <td>0.002532</td>\n",
       "      <td>0.001209</td>\n",
       "      <td>0.002564</td>\n",
       "      <td>0.003083</td>\n",
       "      <td>0.001932</td>\n",
       "      <td>0.001854</td>\n",
       "      <td>0.000901</td>\n",
       "    </tr>\n",
       "    <tr>\n",
       "      <th>BANCO_REST_IRPF_ULTIMA_5</th>\n",
       "      <td>0.000016</td>\n",
       "      <td>0.003451</td>\n",
       "      <td>0.007674</td>\n",
       "      <td>0.002916</td>\n",
       "      <td>0.009894</td>\n",
       "      <td>0.020938</td>\n",
       "      <td>0.000802</td>\n",
       "      <td>0.013540</td>\n",
       "      <td>0.019192</td>\n",
       "      <td>0.009553</td>\n",
       "      <td>...</td>\n",
       "      <td>0.003891</td>\n",
       "      <td>0.008531</td>\n",
       "      <td>0.007255</td>\n",
       "      <td>0.003513</td>\n",
       "      <td>0.001576</td>\n",
       "      <td>0.003156</td>\n",
       "      <td>0.000101</td>\n",
       "      <td>0.004460</td>\n",
       "      <td>0.000758</td>\n",
       "      <td>0.006276</td>\n",
       "    </tr>\n",
       "    <tr>\n",
       "      <th>BANCO_REST_IRPF_ULTIMA_6</th>\n",
       "      <td>0.004719</td>\n",
       "      <td>0.036600</td>\n",
       "      <td>0.024210</td>\n",
       "      <td>0.031489</td>\n",
       "      <td>0.008058</td>\n",
       "      <td>0.008847</td>\n",
       "      <td>0.023075</td>\n",
       "      <td>0.017595</td>\n",
       "      <td>0.041111</td>\n",
       "      <td>0.015834</td>\n",
       "      <td>...</td>\n",
       "      <td>0.012357</td>\n",
       "      <td>0.015106</td>\n",
       "      <td>0.006938</td>\n",
       "      <td>0.006781</td>\n",
       "      <td>0.000470</td>\n",
       "      <td>0.004426</td>\n",
       "      <td>0.005728</td>\n",
       "      <td>0.006814</td>\n",
       "      <td>0.000359</td>\n",
       "      <td>0.012221</td>\n",
       "    </tr>\n",
       "    <tr>\n",
       "      <th>BANCO_REST_IRPF_ULTIMA_7</th>\n",
       "      <td>0.004345</td>\n",
       "      <td>0.048489</td>\n",
       "      <td>0.038199</td>\n",
       "      <td>0.031314</td>\n",
       "      <td>0.012052</td>\n",
       "      <td>0.021653</td>\n",
       "      <td>0.037037</td>\n",
       "      <td>0.017687</td>\n",
       "      <td>0.040374</td>\n",
       "      <td>0.016688</td>\n",
       "      <td>...</td>\n",
       "      <td>0.012903</td>\n",
       "      <td>0.014959</td>\n",
       "      <td>0.007677</td>\n",
       "      <td>0.006785</td>\n",
       "      <td>0.001073</td>\n",
       "      <td>0.002700</td>\n",
       "      <td>0.003872</td>\n",
       "      <td>0.006262</td>\n",
       "      <td>0.001432</td>\n",
       "      <td>0.011833</td>\n",
       "    </tr>\n",
       "    <tr>\n",
       "      <th>ATIVIDADE_EMAIL</th>\n",
       "      <td>0.029827</td>\n",
       "      <td>0.102135</td>\n",
       "      <td>0.053917</td>\n",
       "      <td>0.079640</td>\n",
       "      <td>0.008905</td>\n",
       "      <td>0.067921</td>\n",
       "      <td>0.058710</td>\n",
       "      <td>0.022313</td>\n",
       "      <td>0.010091</td>\n",
       "      <td>0.015398</td>\n",
       "      <td>...</td>\n",
       "      <td>0.009134</td>\n",
       "      <td>0.017565</td>\n",
       "      <td>0.001078</td>\n",
       "      <td>0.000889</td>\n",
       "      <td>0.003669</td>\n",
       "      <td>0.001380</td>\n",
       "      <td>0.002623</td>\n",
       "      <td>0.008246</td>\n",
       "      <td>0.001737</td>\n",
       "      <td>0.015123</td>\n",
       "    </tr>\n",
       "    <tr>\n",
       "      <th>EXPOSICAO_ENDERECO</th>\n",
       "      <td>0.050144</td>\n",
       "      <td>0.068285</td>\n",
       "      <td>0.010087</td>\n",
       "      <td>0.071787</td>\n",
       "      <td>0.007488</td>\n",
       "      <td>0.025830</td>\n",
       "      <td>0.014593</td>\n",
       "      <td>0.037784</td>\n",
       "      <td>0.029683</td>\n",
       "      <td>0.043574</td>\n",
       "      <td>...</td>\n",
       "      <td>0.000716</td>\n",
       "      <td>0.000250</td>\n",
       "      <td>0.002238</td>\n",
       "      <td>0.001343</td>\n",
       "      <td>0.000541</td>\n",
       "      <td>0.005199</td>\n",
       "      <td>0.002688</td>\n",
       "      <td>0.000534</td>\n",
       "      <td>0.006409</td>\n",
       "      <td>0.019879</td>\n",
       "    </tr>\n",
       "    <tr>\n",
       "      <th>EXPOSICAO_EMAIL</th>\n",
       "      <td>0.023400</td>\n",
       "      <td>0.076136</td>\n",
       "      <td>0.038393</td>\n",
       "      <td>0.065260</td>\n",
       "      <td>0.000574</td>\n",
       "      <td>0.041351</td>\n",
       "      <td>0.038661</td>\n",
       "      <td>0.036607</td>\n",
       "      <td>0.010047</td>\n",
       "      <td>0.013042</td>\n",
       "      <td>...</td>\n",
       "      <td>0.008211</td>\n",
       "      <td>0.016051</td>\n",
       "      <td>0.001216</td>\n",
       "      <td>0.002955</td>\n",
       "      <td>0.000915</td>\n",
       "      <td>0.000205</td>\n",
       "      <td>0.001108</td>\n",
       "      <td>0.006326</td>\n",
       "      <td>0.002026</td>\n",
       "      <td>0.007416</td>\n",
       "    </tr>\n",
       "    <tr>\n",
       "      <th>EXPOSICAO_TELEFONE</th>\n",
       "      <td>0.036865</td>\n",
       "      <td>0.089696</td>\n",
       "      <td>0.040969</td>\n",
       "      <td>0.067006</td>\n",
       "      <td>0.002890</td>\n",
       "      <td>0.053896</td>\n",
       "      <td>0.049747</td>\n",
       "      <td>0.012228</td>\n",
       "      <td>0.008596</td>\n",
       "      <td>0.029972</td>\n",
       "      <td>...</td>\n",
       "      <td>0.008441</td>\n",
       "      <td>0.012044</td>\n",
       "      <td>0.003002</td>\n",
       "      <td>0.002395</td>\n",
       "      <td>0.002630</td>\n",
       "      <td>0.000210</td>\n",
       "      <td>0.003113</td>\n",
       "      <td>0.006901</td>\n",
       "      <td>0.001755</td>\n",
       "      <td>0.008774</td>\n",
       "    </tr>\n",
       "    <tr>\n",
       "      <th>ATIVIDADE_ENDERECO</th>\n",
       "      <td>0.022894</td>\n",
       "      <td>0.053707</td>\n",
       "      <td>0.036434</td>\n",
       "      <td>0.033969</td>\n",
       "      <td>0.043457</td>\n",
       "      <td>0.020355</td>\n",
       "      <td>0.021810</td>\n",
       "      <td>0.053765</td>\n",
       "      <td>0.004899</td>\n",
       "      <td>0.010995</td>\n",
       "      <td>...</td>\n",
       "      <td>0.005599</td>\n",
       "      <td>0.001461</td>\n",
       "      <td>0.004068</td>\n",
       "      <td>0.001806</td>\n",
       "      <td>0.006177</td>\n",
       "      <td>0.005720</td>\n",
       "      <td>0.003607</td>\n",
       "      <td>0.004260</td>\n",
       "      <td>0.004610</td>\n",
       "      <td>0.017025</td>\n",
       "    </tr>\n",
       "    <tr>\n",
       "      <th>ATUALIZACAO_ENDERECO</th>\n",
       "      <td>0.079764</td>\n",
       "      <td>0.133604</td>\n",
       "      <td>0.085711</td>\n",
       "      <td>0.128637</td>\n",
       "      <td>0.028621</td>\n",
       "      <td>0.081709</td>\n",
       "      <td>0.063768</td>\n",
       "      <td>0.028367</td>\n",
       "      <td>0.009754</td>\n",
       "      <td>0.055744</td>\n",
       "      <td>...</td>\n",
       "      <td>0.003096</td>\n",
       "      <td>0.004754</td>\n",
       "      <td>0.000765</td>\n",
       "      <td>0.005503</td>\n",
       "      <td>0.004270</td>\n",
       "      <td>0.003634</td>\n",
       "      <td>0.011011</td>\n",
       "      <td>0.006841</td>\n",
       "      <td>0.005685</td>\n",
       "      <td>0.021115</td>\n",
       "    </tr>\n",
       "    <tr>\n",
       "      <th>ATUALIZACAO_EMAIL</th>\n",
       "      <td>0.022480</td>\n",
       "      <td>0.064821</td>\n",
       "      <td>0.029610</td>\n",
       "      <td>0.043340</td>\n",
       "      <td>0.007848</td>\n",
       "      <td>0.048778</td>\n",
       "      <td>0.039065</td>\n",
       "      <td>0.007181</td>\n",
       "      <td>0.026544</td>\n",
       "      <td>0.007267</td>\n",
       "      <td>...</td>\n",
       "      <td>0.003380</td>\n",
       "      <td>0.009938</td>\n",
       "      <td>0.002884</td>\n",
       "      <td>0.000042</td>\n",
       "      <td>0.001869</td>\n",
       "      <td>0.001017</td>\n",
       "      <td>0.000632</td>\n",
       "      <td>0.005740</td>\n",
       "      <td>0.000358</td>\n",
       "      <td>0.011939</td>\n",
       "    </tr>\n",
       "    <tr>\n",
       "      <th>EXPOSICAO_CONSUMIDOR_EMAILS</th>\n",
       "      <td>0.028191</td>\n",
       "      <td>0.100637</td>\n",
       "      <td>0.066333</td>\n",
       "      <td>0.092479</td>\n",
       "      <td>0.003326</td>\n",
       "      <td>0.056396</td>\n",
       "      <td>0.055250</td>\n",
       "      <td>0.029127</td>\n",
       "      <td>0.002422</td>\n",
       "      <td>0.026866</td>\n",
       "      <td>...</td>\n",
       "      <td>0.011044</td>\n",
       "      <td>0.017121</td>\n",
       "      <td>0.000029</td>\n",
       "      <td>0.002683</td>\n",
       "      <td>0.002318</td>\n",
       "      <td>0.001352</td>\n",
       "      <td>0.004446</td>\n",
       "      <td>0.007219</td>\n",
       "      <td>0.001482</td>\n",
       "      <td>0.014085</td>\n",
       "    </tr>\n",
       "    <tr>\n",
       "      <th>EXPOSICAO_CONSUMIDOR_TELEFONES</th>\n",
       "      <td>0.043818</td>\n",
       "      <td>0.123445</td>\n",
       "      <td>0.046967</td>\n",
       "      <td>0.100710</td>\n",
       "      <td>0.005675</td>\n",
       "      <td>0.038440</td>\n",
       "      <td>0.076835</td>\n",
       "      <td>0.015251</td>\n",
       "      <td>0.009026</td>\n",
       "      <td>0.042013</td>\n",
       "      <td>...</td>\n",
       "      <td>0.016380</td>\n",
       "      <td>0.012466</td>\n",
       "      <td>0.002132</td>\n",
       "      <td>0.005159</td>\n",
       "      <td>0.000541</td>\n",
       "      <td>0.001936</td>\n",
       "      <td>0.007509</td>\n",
       "      <td>0.007721</td>\n",
       "      <td>0.002992</td>\n",
       "      <td>0.015405</td>\n",
       "    </tr>\n",
       "    <tr>\n",
       "      <th>ATIVIDADE_TELEFONE</th>\n",
       "      <td>0.048842</td>\n",
       "      <td>0.123535</td>\n",
       "      <td>0.054476</td>\n",
       "      <td>0.097383</td>\n",
       "      <td>0.004529</td>\n",
       "      <td>0.060096</td>\n",
       "      <td>0.082791</td>\n",
       "      <td>0.013744</td>\n",
       "      <td>0.000816</td>\n",
       "      <td>0.029384</td>\n",
       "      <td>...</td>\n",
       "      <td>0.012557</td>\n",
       "      <td>0.015946</td>\n",
       "      <td>0.000594</td>\n",
       "      <td>0.002983</td>\n",
       "      <td>0.002939</td>\n",
       "      <td>0.001914</td>\n",
       "      <td>0.004522</td>\n",
       "      <td>0.012180</td>\n",
       "      <td>0.000529</td>\n",
       "      <td>0.018880</td>\n",
       "    </tr>\n",
       "    <tr>\n",
       "      <th>VALOR_PARCELA_BOLSA_FAMILIA</th>\n",
       "      <td>0.029549</td>\n",
       "      <td>0.078861</td>\n",
       "      <td>0.030546</td>\n",
       "      <td>0.075914</td>\n",
       "      <td>0.007226</td>\n",
       "      <td>0.034562</td>\n",
       "      <td>0.033717</td>\n",
       "      <td>0.019411</td>\n",
       "      <td>0.224650</td>\n",
       "      <td>0.015068</td>\n",
       "      <td>...</td>\n",
       "      <td>0.006317</td>\n",
       "      <td>0.000778</td>\n",
       "      <td>0.014631</td>\n",
       "      <td>0.009022</td>\n",
       "      <td>0.007882</td>\n",
       "      <td>0.008043</td>\n",
       "      <td>0.008097</td>\n",
       "      <td>0.000593</td>\n",
       "      <td>0.008237</td>\n",
       "      <td>0.016280</td>\n",
       "    </tr>\n",
       "    <tr>\n",
       "      <th>FLAG_BOLSA_FAMILIA_1</th>\n",
       "      <td>0.017125</td>\n",
       "      <td>0.076686</td>\n",
       "      <td>0.048595</td>\n",
       "      <td>0.073702</td>\n",
       "      <td>0.011201</td>\n",
       "      <td>0.057516</td>\n",
       "      <td>0.029261</td>\n",
       "      <td>0.056231</td>\n",
       "      <td>0.246700</td>\n",
       "      <td>0.018757</td>\n",
       "      <td>...</td>\n",
       "      <td>0.006456</td>\n",
       "      <td>0.000662</td>\n",
       "      <td>0.018833</td>\n",
       "      <td>0.008540</td>\n",
       "      <td>0.011924</td>\n",
       "      <td>0.008404</td>\n",
       "      <td>0.004892</td>\n",
       "      <td>0.000170</td>\n",
       "      <td>0.007389</td>\n",
       "      <td>0.018539</td>\n",
       "    </tr>\n",
       "    <tr>\n",
       "      <th>...</th>\n",
       "      <td>...</td>\n",
       "      <td>...</td>\n",
       "      <td>...</td>\n",
       "      <td>...</td>\n",
       "      <td>...</td>\n",
       "      <td>...</td>\n",
       "      <td>...</td>\n",
       "      <td>...</td>\n",
       "      <td>...</td>\n",
       "      <td>...</td>\n",
       "      <td>...</td>\n",
       "      <td>...</td>\n",
       "      <td>...</td>\n",
       "      <td>...</td>\n",
       "      <td>...</td>\n",
       "      <td>...</td>\n",
       "      <td>...</td>\n",
       "      <td>...</td>\n",
       "      <td>...</td>\n",
       "      <td>...</td>\n",
       "      <td>...</td>\n",
       "    </tr>\n",
       "    <tr>\n",
       "      <th>CEP2_6</th>\n",
       "      <td>0.010724</td>\n",
       "      <td>0.049254</td>\n",
       "      <td>0.227824</td>\n",
       "      <td>0.151508</td>\n",
       "      <td>0.067630</td>\n",
       "      <td>0.118541</td>\n",
       "      <td>0.018354</td>\n",
       "      <td>0.017671</td>\n",
       "      <td>0.002026</td>\n",
       "      <td>0.009349</td>\n",
       "      <td>...</td>\n",
       "      <td>0.028036</td>\n",
       "      <td>0.012740</td>\n",
       "      <td>0.003134</td>\n",
       "      <td>0.033257</td>\n",
       "      <td>0.041206</td>\n",
       "      <td>0.002075</td>\n",
       "      <td>0.022095</td>\n",
       "      <td>0.000501</td>\n",
       "      <td>0.033753</td>\n",
       "      <td>0.008207</td>\n",
       "    </tr>\n",
       "    <tr>\n",
       "      <th>CEP2_7</th>\n",
       "      <td>0.035253</td>\n",
       "      <td>0.036345</td>\n",
       "      <td>0.092329</td>\n",
       "      <td>0.042431</td>\n",
       "      <td>0.019542</td>\n",
       "      <td>0.107576</td>\n",
       "      <td>0.132370</td>\n",
       "      <td>0.002385</td>\n",
       "      <td>0.015988</td>\n",
       "      <td>0.013299</td>\n",
       "      <td>...</td>\n",
       "      <td>0.003456</td>\n",
       "      <td>0.021336</td>\n",
       "      <td>0.014143</td>\n",
       "      <td>0.027258</td>\n",
       "      <td>0.002792</td>\n",
       "      <td>0.003459</td>\n",
       "      <td>0.005254</td>\n",
       "      <td>0.025808</td>\n",
       "      <td>0.002482</td>\n",
       "      <td>0.016561</td>\n",
       "    </tr>\n",
       "    <tr>\n",
       "      <th>CEP2_8</th>\n",
       "      <td>0.127231</td>\n",
       "      <td>0.064413</td>\n",
       "      <td>0.153344</td>\n",
       "      <td>0.004123</td>\n",
       "      <td>0.231533</td>\n",
       "      <td>0.110188</td>\n",
       "      <td>0.080085</td>\n",
       "      <td>0.011028</td>\n",
       "      <td>0.013940</td>\n",
       "      <td>0.000648</td>\n",
       "      <td>...</td>\n",
       "      <td>0.026070</td>\n",
       "      <td>0.000659</td>\n",
       "      <td>0.023503</td>\n",
       "      <td>0.024130</td>\n",
       "      <td>0.000183</td>\n",
       "      <td>0.015350</td>\n",
       "      <td>0.001205</td>\n",
       "      <td>0.018287</td>\n",
       "      <td>0.027417</td>\n",
       "      <td>0.024925</td>\n",
       "    </tr>\n",
       "    <tr>\n",
       "      <th>CEP2_9</th>\n",
       "      <td>0.035706</td>\n",
       "      <td>0.160233</td>\n",
       "      <td>0.040816</td>\n",
       "      <td>0.157641</td>\n",
       "      <td>0.044606</td>\n",
       "      <td>0.021549</td>\n",
       "      <td>0.002541</td>\n",
       "      <td>0.006815</td>\n",
       "      <td>0.002322</td>\n",
       "      <td>0.007211</td>\n",
       "      <td>...</td>\n",
       "      <td>0.049948</td>\n",
       "      <td>0.003169</td>\n",
       "      <td>0.013246</td>\n",
       "      <td>0.003809</td>\n",
       "      <td>0.026293</td>\n",
       "      <td>0.039538</td>\n",
       "      <td>0.031095</td>\n",
       "      <td>0.007514</td>\n",
       "      <td>0.006430</td>\n",
       "      <td>0.058079</td>\n",
       "    </tr>\n",
       "    <tr>\n",
       "      <th>CEP3_1</th>\n",
       "      <td>0.079478</td>\n",
       "      <td>0.013082</td>\n",
       "      <td>0.024672</td>\n",
       "      <td>0.115169</td>\n",
       "      <td>0.019630</td>\n",
       "      <td>0.076478</td>\n",
       "      <td>0.047759</td>\n",
       "      <td>0.030490</td>\n",
       "      <td>0.003950</td>\n",
       "      <td>0.005457</td>\n",
       "      <td>...</td>\n",
       "      <td>0.011758</td>\n",
       "      <td>0.026038</td>\n",
       "      <td>0.048094</td>\n",
       "      <td>0.033452</td>\n",
       "      <td>0.058999</td>\n",
       "      <td>0.035789</td>\n",
       "      <td>0.047201</td>\n",
       "      <td>0.033384</td>\n",
       "      <td>0.017597</td>\n",
       "      <td>0.019042</td>\n",
       "    </tr>\n",
       "    <tr>\n",
       "      <th>CEP3_2</th>\n",
       "      <td>0.095808</td>\n",
       "      <td>0.012289</td>\n",
       "      <td>0.032843</td>\n",
       "      <td>0.019285</td>\n",
       "      <td>0.013063</td>\n",
       "      <td>0.086146</td>\n",
       "      <td>0.050879</td>\n",
       "      <td>0.022153</td>\n",
       "      <td>0.006760</td>\n",
       "      <td>0.010664</td>\n",
       "      <td>...</td>\n",
       "      <td>0.027264</td>\n",
       "      <td>0.054886</td>\n",
       "      <td>0.053113</td>\n",
       "      <td>0.054921</td>\n",
       "      <td>0.079345</td>\n",
       "      <td>0.059479</td>\n",
       "      <td>0.034065</td>\n",
       "      <td>0.006475</td>\n",
       "      <td>0.003271</td>\n",
       "      <td>0.059274</td>\n",
       "    </tr>\n",
       "    <tr>\n",
       "      <th>CEP3_3</th>\n",
       "      <td>0.005244</td>\n",
       "      <td>0.044583</td>\n",
       "      <td>0.021466</td>\n",
       "      <td>0.047603</td>\n",
       "      <td>0.044638</td>\n",
       "      <td>0.005848</td>\n",
       "      <td>0.033995</td>\n",
       "      <td>0.009803</td>\n",
       "      <td>0.009796</td>\n",
       "      <td>0.004269</td>\n",
       "      <td>...</td>\n",
       "      <td>0.011289</td>\n",
       "      <td>0.012343</td>\n",
       "      <td>0.054169</td>\n",
       "      <td>0.021250</td>\n",
       "      <td>0.004511</td>\n",
       "      <td>0.018212</td>\n",
       "      <td>0.011057</td>\n",
       "      <td>0.061374</td>\n",
       "      <td>0.019429</td>\n",
       "      <td>0.040716</td>\n",
       "    </tr>\n",
       "    <tr>\n",
       "      <th>CEP3_4</th>\n",
       "      <td>0.036935</td>\n",
       "      <td>0.068332</td>\n",
       "      <td>0.002233</td>\n",
       "      <td>0.006970</td>\n",
       "      <td>0.018711</td>\n",
       "      <td>0.067506</td>\n",
       "      <td>0.046090</td>\n",
       "      <td>0.000177</td>\n",
       "      <td>0.004429</td>\n",
       "      <td>0.005953</td>\n",
       "      <td>...</td>\n",
       "      <td>0.015391</td>\n",
       "      <td>0.025864</td>\n",
       "      <td>0.056434</td>\n",
       "      <td>0.021252</td>\n",
       "      <td>0.014778</td>\n",
       "      <td>0.034971</td>\n",
       "      <td>0.021035</td>\n",
       "      <td>0.015093</td>\n",
       "      <td>0.002690</td>\n",
       "      <td>0.003043</td>\n",
       "    </tr>\n",
       "    <tr>\n",
       "      <th>CEP3_5</th>\n",
       "      <td>0.018686</td>\n",
       "      <td>0.007016</td>\n",
       "      <td>0.044004</td>\n",
       "      <td>0.021937</td>\n",
       "      <td>0.035649</td>\n",
       "      <td>0.034387</td>\n",
       "      <td>0.055902</td>\n",
       "      <td>0.020135</td>\n",
       "      <td>0.005227</td>\n",
       "      <td>0.000593</td>\n",
       "      <td>...</td>\n",
       "      <td>0.026954</td>\n",
       "      <td>0.014938</td>\n",
       "      <td>0.021426</td>\n",
       "      <td>0.007138</td>\n",
       "      <td>0.051028</td>\n",
       "      <td>0.003520</td>\n",
       "      <td>0.016496</td>\n",
       "      <td>0.019804</td>\n",
       "      <td>0.003867</td>\n",
       "      <td>0.011449</td>\n",
       "    </tr>\n",
       "    <tr>\n",
       "      <th>CEP3_6</th>\n",
       "      <td>0.030020</td>\n",
       "      <td>0.033136</td>\n",
       "      <td>0.100501</td>\n",
       "      <td>0.026748</td>\n",
       "      <td>0.014460</td>\n",
       "      <td>0.010951</td>\n",
       "      <td>0.084968</td>\n",
       "      <td>0.008376</td>\n",
       "      <td>0.004291</td>\n",
       "      <td>0.000195</td>\n",
       "      <td>...</td>\n",
       "      <td>0.013941</td>\n",
       "      <td>0.033553</td>\n",
       "      <td>0.008870</td>\n",
       "      <td>0.013424</td>\n",
       "      <td>0.008919</td>\n",
       "      <td>0.068129</td>\n",
       "      <td>0.010120</td>\n",
       "      <td>0.009546</td>\n",
       "      <td>0.002526</td>\n",
       "      <td>0.058430</td>\n",
       "    </tr>\n",
       "    <tr>\n",
       "      <th>CEP3_7</th>\n",
       "      <td>0.005571</td>\n",
       "      <td>0.070140</td>\n",
       "      <td>0.066772</td>\n",
       "      <td>0.044413</td>\n",
       "      <td>0.111133</td>\n",
       "      <td>0.078501</td>\n",
       "      <td>0.082090</td>\n",
       "      <td>0.006493</td>\n",
       "      <td>0.004277</td>\n",
       "      <td>0.004795</td>\n",
       "      <td>...</td>\n",
       "      <td>0.037716</td>\n",
       "      <td>0.032734</td>\n",
       "      <td>0.042090</td>\n",
       "      <td>0.028335</td>\n",
       "      <td>0.022631</td>\n",
       "      <td>0.009884</td>\n",
       "      <td>0.006030</td>\n",
       "      <td>0.043659</td>\n",
       "      <td>0.022275</td>\n",
       "      <td>0.006181</td>\n",
       "    </tr>\n",
       "    <tr>\n",
       "      <th>CEP3_8</th>\n",
       "      <td>0.007747</td>\n",
       "      <td>0.038914</td>\n",
       "      <td>0.014766</td>\n",
       "      <td>0.155868</td>\n",
       "      <td>0.078621</td>\n",
       "      <td>0.040540</td>\n",
       "      <td>0.019838</td>\n",
       "      <td>0.002797</td>\n",
       "      <td>0.009405</td>\n",
       "      <td>0.009370</td>\n",
       "      <td>...</td>\n",
       "      <td>0.013239</td>\n",
       "      <td>0.020391</td>\n",
       "      <td>0.001042</td>\n",
       "      <td>0.021430</td>\n",
       "      <td>0.030134</td>\n",
       "      <td>0.009896</td>\n",
       "      <td>0.036293</td>\n",
       "      <td>0.005137</td>\n",
       "      <td>0.000335</td>\n",
       "      <td>0.002855</td>\n",
       "    </tr>\n",
       "    <tr>\n",
       "      <th>CEP3_9</th>\n",
       "      <td>0.007316</td>\n",
       "      <td>0.051206</td>\n",
       "      <td>0.018560</td>\n",
       "      <td>0.050332</td>\n",
       "      <td>0.065487</td>\n",
       "      <td>0.088553</td>\n",
       "      <td>0.028149</td>\n",
       "      <td>0.007804</td>\n",
       "      <td>0.002677</td>\n",
       "      <td>0.000952</td>\n",
       "      <td>...</td>\n",
       "      <td>0.003629</td>\n",
       "      <td>0.058565</td>\n",
       "      <td>0.002754</td>\n",
       "      <td>0.048102</td>\n",
       "      <td>0.039036</td>\n",
       "      <td>0.006741</td>\n",
       "      <td>0.009801</td>\n",
       "      <td>0.007158</td>\n",
       "      <td>0.023076</td>\n",
       "      <td>0.001276</td>\n",
       "    </tr>\n",
       "    <tr>\n",
       "      <th>CEP3_10</th>\n",
       "      <td>0.037401</td>\n",
       "      <td>0.122573</td>\n",
       "      <td>0.032248</td>\n",
       "      <td>0.009712</td>\n",
       "      <td>0.040417</td>\n",
       "      <td>0.054517</td>\n",
       "      <td>0.020581</td>\n",
       "      <td>0.007211</td>\n",
       "      <td>0.003127</td>\n",
       "      <td>0.003563</td>\n",
       "      <td>...</td>\n",
       "      <td>0.012316</td>\n",
       "      <td>0.011996</td>\n",
       "      <td>0.001078</td>\n",
       "      <td>0.021077</td>\n",
       "      <td>0.042262</td>\n",
       "      <td>0.038610</td>\n",
       "      <td>0.005878</td>\n",
       "      <td>0.034739</td>\n",
       "      <td>0.034160</td>\n",
       "      <td>0.015346</td>\n",
       "    </tr>\n",
       "    <tr>\n",
       "      <th>CEP3_11</th>\n",
       "      <td>0.038761</td>\n",
       "      <td>0.003692</td>\n",
       "      <td>0.032516</td>\n",
       "      <td>0.032584</td>\n",
       "      <td>0.059035</td>\n",
       "      <td>0.029763</td>\n",
       "      <td>0.002990</td>\n",
       "      <td>0.019295</td>\n",
       "      <td>0.004793</td>\n",
       "      <td>0.004151</td>\n",
       "      <td>...</td>\n",
       "      <td>0.001041</td>\n",
       "      <td>0.024088</td>\n",
       "      <td>0.016885</td>\n",
       "      <td>0.016830</td>\n",
       "      <td>0.016259</td>\n",
       "      <td>0.008468</td>\n",
       "      <td>0.004203</td>\n",
       "      <td>0.011100</td>\n",
       "      <td>0.007912</td>\n",
       "      <td>0.012464</td>\n",
       "    </tr>\n",
       "    <tr>\n",
       "      <th>CEP3_12</th>\n",
       "      <td>0.009115</td>\n",
       "      <td>0.089565</td>\n",
       "      <td>0.044717</td>\n",
       "      <td>0.027196</td>\n",
       "      <td>0.014113</td>\n",
       "      <td>0.003386</td>\n",
       "      <td>0.009442</td>\n",
       "      <td>0.001182</td>\n",
       "      <td>0.005584</td>\n",
       "      <td>0.000917</td>\n",
       "      <td>...</td>\n",
       "      <td>0.005185</td>\n",
       "      <td>0.008472</td>\n",
       "      <td>0.038325</td>\n",
       "      <td>0.030986</td>\n",
       "      <td>0.021511</td>\n",
       "      <td>0.011453</td>\n",
       "      <td>0.014967</td>\n",
       "      <td>0.014722</td>\n",
       "      <td>0.004071</td>\n",
       "      <td>0.009819</td>\n",
       "    </tr>\n",
       "    <tr>\n",
       "      <th>CEP4_1</th>\n",
       "      <td>0.003057</td>\n",
       "      <td>0.023137</td>\n",
       "      <td>0.010847</td>\n",
       "      <td>0.042641</td>\n",
       "      <td>0.007986</td>\n",
       "      <td>0.053411</td>\n",
       "      <td>0.013797</td>\n",
       "      <td>0.026147</td>\n",
       "      <td>0.002971</td>\n",
       "      <td>0.012223</td>\n",
       "      <td>...</td>\n",
       "      <td>0.050156</td>\n",
       "      <td>0.066598</td>\n",
       "      <td>0.062154</td>\n",
       "      <td>0.069148</td>\n",
       "      <td>0.057546</td>\n",
       "      <td>0.034671</td>\n",
       "      <td>0.079745</td>\n",
       "      <td>0.080468</td>\n",
       "      <td>0.042412</td>\n",
       "      <td>0.056045</td>\n",
       "    </tr>\n",
       "    <tr>\n",
       "      <th>CEP4_2</th>\n",
       "      <td>0.041778</td>\n",
       "      <td>0.003489</td>\n",
       "      <td>0.045959</td>\n",
       "      <td>0.016462</td>\n",
       "      <td>0.072975</td>\n",
       "      <td>0.115646</td>\n",
       "      <td>0.026872</td>\n",
       "      <td>0.014857</td>\n",
       "      <td>0.000759</td>\n",
       "      <td>0.009663</td>\n",
       "      <td>...</td>\n",
       "      <td>0.077276</td>\n",
       "      <td>0.079951</td>\n",
       "      <td>0.108763</td>\n",
       "      <td>0.099927</td>\n",
       "      <td>0.064027</td>\n",
       "      <td>0.066742</td>\n",
       "      <td>0.060307</td>\n",
       "      <td>0.064826</td>\n",
       "      <td>0.068966</td>\n",
       "      <td>0.079220</td>\n",
       "    </tr>\n",
       "    <tr>\n",
       "      <th>CEP4_3</th>\n",
       "      <td>0.023338</td>\n",
       "      <td>0.015772</td>\n",
       "      <td>0.025754</td>\n",
       "      <td>0.002694</td>\n",
       "      <td>0.050612</td>\n",
       "      <td>0.092219</td>\n",
       "      <td>0.005744</td>\n",
       "      <td>0.009344</td>\n",
       "      <td>0.008977</td>\n",
       "      <td>0.000904</td>\n",
       "      <td>...</td>\n",
       "      <td>0.055127</td>\n",
       "      <td>0.100593</td>\n",
       "      <td>0.098300</td>\n",
       "      <td>0.068514</td>\n",
       "      <td>0.091356</td>\n",
       "      <td>0.126188</td>\n",
       "      <td>0.057642</td>\n",
       "      <td>0.055201</td>\n",
       "      <td>0.096777</td>\n",
       "      <td>0.092043</td>\n",
       "    </tr>\n",
       "    <tr>\n",
       "      <th>CEP4_4</th>\n",
       "      <td>0.012945</td>\n",
       "      <td>0.051797</td>\n",
       "      <td>0.016761</td>\n",
       "      <td>0.004748</td>\n",
       "      <td>0.018837</td>\n",
       "      <td>0.014398</td>\n",
       "      <td>0.018447</td>\n",
       "      <td>0.003289</td>\n",
       "      <td>0.005784</td>\n",
       "      <td>0.001465</td>\n",
       "      <td>...</td>\n",
       "      <td>0.110578</td>\n",
       "      <td>0.082239</td>\n",
       "      <td>0.059399</td>\n",
       "      <td>0.102702</td>\n",
       "      <td>0.086201</td>\n",
       "      <td>0.092063</td>\n",
       "      <td>0.089606</td>\n",
       "      <td>0.091386</td>\n",
       "      <td>0.093666</td>\n",
       "      <td>0.076223</td>\n",
       "    </tr>\n",
       "    <tr>\n",
       "      <th>CEP4_5</th>\n",
       "      <td>0.025403</td>\n",
       "      <td>0.040997</td>\n",
       "      <td>0.011452</td>\n",
       "      <td>0.001024</td>\n",
       "      <td>0.000297</td>\n",
       "      <td>0.002480</td>\n",
       "      <td>0.044504</td>\n",
       "      <td>0.001120</td>\n",
       "      <td>0.000789</td>\n",
       "      <td>0.002201</td>\n",
       "      <td>...</td>\n",
       "      <td>1.000000</td>\n",
       "      <td>0.081452</td>\n",
       "      <td>0.084146</td>\n",
       "      <td>0.068273</td>\n",
       "      <td>0.074884</td>\n",
       "      <td>0.114886</td>\n",
       "      <td>0.076358</td>\n",
       "      <td>0.081288</td>\n",
       "      <td>0.077429</td>\n",
       "      <td>0.070549</td>\n",
       "    </tr>\n",
       "    <tr>\n",
       "      <th>CEP4_6</th>\n",
       "      <td>0.017901</td>\n",
       "      <td>0.006801</td>\n",
       "      <td>0.008139</td>\n",
       "      <td>0.005757</td>\n",
       "      <td>0.002524</td>\n",
       "      <td>0.023013</td>\n",
       "      <td>0.024435</td>\n",
       "      <td>0.004402</td>\n",
       "      <td>0.008388</td>\n",
       "      <td>0.004603</td>\n",
       "      <td>...</td>\n",
       "      <td>0.081452</td>\n",
       "      <td>1.000000</td>\n",
       "      <td>0.061243</td>\n",
       "      <td>0.055286</td>\n",
       "      <td>0.057445</td>\n",
       "      <td>0.067454</td>\n",
       "      <td>0.093325</td>\n",
       "      <td>0.109380</td>\n",
       "      <td>0.059392</td>\n",
       "      <td>0.105031</td>\n",
       "    </tr>\n",
       "    <tr>\n",
       "      <th>CEP4_7</th>\n",
       "      <td>0.002279</td>\n",
       "      <td>0.002159</td>\n",
       "      <td>0.009605</td>\n",
       "      <td>0.009747</td>\n",
       "      <td>0.060533</td>\n",
       "      <td>0.067999</td>\n",
       "      <td>0.005311</td>\n",
       "      <td>0.013037</td>\n",
       "      <td>0.000917</td>\n",
       "      <td>0.001246</td>\n",
       "      <td>...</td>\n",
       "      <td>0.084146</td>\n",
       "      <td>0.061243</td>\n",
       "      <td>1.000000</td>\n",
       "      <td>0.076438</td>\n",
       "      <td>0.065009</td>\n",
       "      <td>0.079427</td>\n",
       "      <td>0.053802</td>\n",
       "      <td>0.095205</td>\n",
       "      <td>0.093120</td>\n",
       "      <td>0.079717</td>\n",
       "    </tr>\n",
       "    <tr>\n",
       "      <th>CEP4_8</th>\n",
       "      <td>0.000400</td>\n",
       "      <td>0.035769</td>\n",
       "      <td>0.062716</td>\n",
       "      <td>0.021085</td>\n",
       "      <td>0.009569</td>\n",
       "      <td>0.022139</td>\n",
       "      <td>0.000662</td>\n",
       "      <td>0.001559</td>\n",
       "      <td>0.002623</td>\n",
       "      <td>0.002234</td>\n",
       "      <td>...</td>\n",
       "      <td>0.068273</td>\n",
       "      <td>0.055286</td>\n",
       "      <td>0.076438</td>\n",
       "      <td>1.000000</td>\n",
       "      <td>0.070476</td>\n",
       "      <td>0.081482</td>\n",
       "      <td>0.094420</td>\n",
       "      <td>0.037541</td>\n",
       "      <td>0.100988</td>\n",
       "      <td>0.089647</td>\n",
       "    </tr>\n",
       "    <tr>\n",
       "      <th>CEP4_9</th>\n",
       "      <td>0.041249</td>\n",
       "      <td>0.002821</td>\n",
       "      <td>0.011476</td>\n",
       "      <td>0.012738</td>\n",
       "      <td>0.000885</td>\n",
       "      <td>0.029033</td>\n",
       "      <td>0.006608</td>\n",
       "      <td>0.008037</td>\n",
       "      <td>0.002129</td>\n",
       "      <td>0.003535</td>\n",
       "      <td>...</td>\n",
       "      <td>0.074884</td>\n",
       "      <td>0.057445</td>\n",
       "      <td>0.065009</td>\n",
       "      <td>0.070476</td>\n",
       "      <td>1.000000</td>\n",
       "      <td>0.056205</td>\n",
       "      <td>0.107209</td>\n",
       "      <td>0.104018</td>\n",
       "      <td>0.096174</td>\n",
       "      <td>0.081960</td>\n",
       "    </tr>\n",
       "    <tr>\n",
       "      <th>CEP4_10</th>\n",
       "      <td>0.004074</td>\n",
       "      <td>0.023900</td>\n",
       "      <td>0.038354</td>\n",
       "      <td>0.019959</td>\n",
       "      <td>0.000713</td>\n",
       "      <td>0.065947</td>\n",
       "      <td>0.035075</td>\n",
       "      <td>0.004025</td>\n",
       "      <td>0.002683</td>\n",
       "      <td>0.001846</td>\n",
       "      <td>...</td>\n",
       "      <td>0.114886</td>\n",
       "      <td>0.067454</td>\n",
       "      <td>0.079427</td>\n",
       "      <td>0.081482</td>\n",
       "      <td>0.056205</td>\n",
       "      <td>1.000000</td>\n",
       "      <td>0.077964</td>\n",
       "      <td>0.093005</td>\n",
       "      <td>0.059894</td>\n",
       "      <td>0.067307</td>\n",
       "    </tr>\n",
       "    <tr>\n",
       "      <th>CEP4_11</th>\n",
       "      <td>0.004246</td>\n",
       "      <td>0.012583</td>\n",
       "      <td>0.017366</td>\n",
       "      <td>0.028406</td>\n",
       "      <td>0.001331</td>\n",
       "      <td>0.025372</td>\n",
       "      <td>0.001038</td>\n",
       "      <td>0.000544</td>\n",
       "      <td>0.001580</td>\n",
       "      <td>0.000003</td>\n",
       "      <td>...</td>\n",
       "      <td>0.076358</td>\n",
       "      <td>0.093325</td>\n",
       "      <td>0.053802</td>\n",
       "      <td>0.094420</td>\n",
       "      <td>0.107209</td>\n",
       "      <td>0.077964</td>\n",
       "      <td>1.000000</td>\n",
       "      <td>0.065892</td>\n",
       "      <td>0.077590</td>\n",
       "      <td>0.087774</td>\n",
       "    </tr>\n",
       "    <tr>\n",
       "      <th>CEP4_12</th>\n",
       "      <td>0.009868</td>\n",
       "      <td>0.021424</td>\n",
       "      <td>0.002350</td>\n",
       "      <td>0.010240</td>\n",
       "      <td>0.023599</td>\n",
       "      <td>0.000670</td>\n",
       "      <td>0.017101</td>\n",
       "      <td>0.002066</td>\n",
       "      <td>0.004715</td>\n",
       "      <td>0.000372</td>\n",
       "      <td>...</td>\n",
       "      <td>0.081288</td>\n",
       "      <td>0.109380</td>\n",
       "      <td>0.095205</td>\n",
       "      <td>0.037541</td>\n",
       "      <td>0.104018</td>\n",
       "      <td>0.093005</td>\n",
       "      <td>0.065892</td>\n",
       "      <td>1.000000</td>\n",
       "      <td>0.078021</td>\n",
       "      <td>0.064582</td>\n",
       "    </tr>\n",
       "    <tr>\n",
       "      <th>CEP4_13</th>\n",
       "      <td>0.022239</td>\n",
       "      <td>0.007369</td>\n",
       "      <td>0.018033</td>\n",
       "      <td>0.023383</td>\n",
       "      <td>0.026219</td>\n",
       "      <td>0.015740</td>\n",
       "      <td>0.034493</td>\n",
       "      <td>0.000616</td>\n",
       "      <td>0.002303</td>\n",
       "      <td>0.004002</td>\n",
       "      <td>...</td>\n",
       "      <td>0.077429</td>\n",
       "      <td>0.059392</td>\n",
       "      <td>0.093120</td>\n",
       "      <td>0.100988</td>\n",
       "      <td>0.096174</td>\n",
       "      <td>0.059894</td>\n",
       "      <td>0.077590</td>\n",
       "      <td>0.078021</td>\n",
       "      <td>1.000000</td>\n",
       "      <td>0.068267</td>\n",
       "    </tr>\n",
       "    <tr>\n",
       "      <th>CEP4_14</th>\n",
       "      <td>0.035315</td>\n",
       "      <td>0.029016</td>\n",
       "      <td>0.011395</td>\n",
       "      <td>0.047764</td>\n",
       "      <td>0.026264</td>\n",
       "      <td>0.003706</td>\n",
       "      <td>0.003431</td>\n",
       "      <td>0.006353</td>\n",
       "      <td>0.003675</td>\n",
       "      <td>0.005085</td>\n",
       "      <td>...</td>\n",
       "      <td>0.070549</td>\n",
       "      <td>0.105031</td>\n",
       "      <td>0.079717</td>\n",
       "      <td>0.089647</td>\n",
       "      <td>0.081960</td>\n",
       "      <td>0.067307</td>\n",
       "      <td>0.087774</td>\n",
       "      <td>0.064582</td>\n",
       "      <td>0.068267</td>\n",
       "      <td>1.000000</td>\n",
       "    </tr>\n",
       "  </tbody>\n",
       "</table>\n",
       "<p>243 rows × 243 columns</p>\n",
       "</div>"
      ],
      "text/plain": [
       "                                    UF_1      UF_2      UF_3      UF_4  \\\n",
       "UF_1                            1.000000  0.209093  0.048255  0.146628   \n",
       "UF_2                            0.209093  1.000000  0.123264  0.247423   \n",
       "UF_3                            0.048255  0.123264  1.000000  0.275167   \n",
       "UF_4                            0.146628  0.247423  0.275167  1.000000   \n",
       "UF_5                            0.118488  0.187327  0.269899  0.126074   \n",
       "UF_6                            0.100570  0.171868  0.246315  0.126333   \n",
       "UF_7                            0.087990  0.180898  0.216494  0.135131   \n",
       "IDADE                           0.019386  0.012217  0.031256  0.020921   \n",
       "SEXO_1                          0.007811  0.013103  0.003892  0.004924   \n",
       "NIVEL_RELACIONAMENTO_CREDITO01  0.006435  0.014506  0.013546  0.041647   \n",
       "NIVEL_RELACIONAMENTO_CREDITO02  0.001615  0.000890  0.010338  0.009182   \n",
       "BANCO_REST_IRPF_ULTIMA_1        0.007550  0.048365  0.042261  0.036186   \n",
       "BANCO_REST_IRPF_ULTIMA_2        0.027318  0.013636  0.009286  0.000790   \n",
       "BANCO_REST_IRPF_ULTIMA_3        0.031309  0.049316  0.007395  0.035204   \n",
       "BANCO_REST_IRPF_ULTIMA_4        0.009614  0.011060  0.029721  0.024070   \n",
       "BANCO_REST_IRPF_ULTIMA_5        0.000016  0.003451  0.007674  0.002916   \n",
       "BANCO_REST_IRPF_ULTIMA_6        0.004719  0.036600  0.024210  0.031489   \n",
       "BANCO_REST_IRPF_ULTIMA_7        0.004345  0.048489  0.038199  0.031314   \n",
       "ATIVIDADE_EMAIL                 0.029827  0.102135  0.053917  0.079640   \n",
       "EXPOSICAO_ENDERECO              0.050144  0.068285  0.010087  0.071787   \n",
       "EXPOSICAO_EMAIL                 0.023400  0.076136  0.038393  0.065260   \n",
       "EXPOSICAO_TELEFONE              0.036865  0.089696  0.040969  0.067006   \n",
       "ATIVIDADE_ENDERECO              0.022894  0.053707  0.036434  0.033969   \n",
       "ATUALIZACAO_ENDERECO            0.079764  0.133604  0.085711  0.128637   \n",
       "ATUALIZACAO_EMAIL               0.022480  0.064821  0.029610  0.043340   \n",
       "EXPOSICAO_CONSUMIDOR_EMAILS     0.028191  0.100637  0.066333  0.092479   \n",
       "EXPOSICAO_CONSUMIDOR_TELEFONES  0.043818  0.123445  0.046967  0.100710   \n",
       "ATIVIDADE_TELEFONE              0.048842  0.123535  0.054476  0.097383   \n",
       "VALOR_PARCELA_BOLSA_FAMILIA     0.029549  0.078861  0.030546  0.075914   \n",
       "FLAG_BOLSA_FAMILIA_1            0.017125  0.076686  0.048595  0.073702   \n",
       "...                                  ...       ...       ...       ...   \n",
       "CEP2_6                          0.010724  0.049254  0.227824  0.151508   \n",
       "CEP2_7                          0.035253  0.036345  0.092329  0.042431   \n",
       "CEP2_8                          0.127231  0.064413  0.153344  0.004123   \n",
       "CEP2_9                          0.035706  0.160233  0.040816  0.157641   \n",
       "CEP3_1                          0.079478  0.013082  0.024672  0.115169   \n",
       "CEP3_2                          0.095808  0.012289  0.032843  0.019285   \n",
       "CEP3_3                          0.005244  0.044583  0.021466  0.047603   \n",
       "CEP3_4                          0.036935  0.068332  0.002233  0.006970   \n",
       "CEP3_5                          0.018686  0.007016  0.044004  0.021937   \n",
       "CEP3_6                          0.030020  0.033136  0.100501  0.026748   \n",
       "CEP3_7                          0.005571  0.070140  0.066772  0.044413   \n",
       "CEP3_8                          0.007747  0.038914  0.014766  0.155868   \n",
       "CEP3_9                          0.007316  0.051206  0.018560  0.050332   \n",
       "CEP3_10                         0.037401  0.122573  0.032248  0.009712   \n",
       "CEP3_11                         0.038761  0.003692  0.032516  0.032584   \n",
       "CEP3_12                         0.009115  0.089565  0.044717  0.027196   \n",
       "CEP4_1                          0.003057  0.023137  0.010847  0.042641   \n",
       "CEP4_2                          0.041778  0.003489  0.045959  0.016462   \n",
       "CEP4_3                          0.023338  0.015772  0.025754  0.002694   \n",
       "CEP4_4                          0.012945  0.051797  0.016761  0.004748   \n",
       "CEP4_5                          0.025403  0.040997  0.011452  0.001024   \n",
       "CEP4_6                          0.017901  0.006801  0.008139  0.005757   \n",
       "CEP4_7                          0.002279  0.002159  0.009605  0.009747   \n",
       "CEP4_8                          0.000400  0.035769  0.062716  0.021085   \n",
       "CEP4_9                          0.041249  0.002821  0.011476  0.012738   \n",
       "CEP4_10                         0.004074  0.023900  0.038354  0.019959   \n",
       "CEP4_11                         0.004246  0.012583  0.017366  0.028406   \n",
       "CEP4_12                         0.009868  0.021424  0.002350  0.010240   \n",
       "CEP4_13                         0.022239  0.007369  0.018033  0.023383   \n",
       "CEP4_14                         0.035315  0.029016  0.011395  0.047764   \n",
       "\n",
       "                                    UF_5      UF_6      UF_7     IDADE  \\\n",
       "UF_1                            0.118488  0.100570  0.087990  0.019386   \n",
       "UF_2                            0.187327  0.171868  0.180898  0.012217   \n",
       "UF_3                            0.269899  0.246315  0.216494  0.031256   \n",
       "UF_4                            0.126074  0.126333  0.135131  0.020921   \n",
       "UF_5                            1.000000  0.156790  0.121600  0.003239   \n",
       "UF_6                            0.156790  1.000000  0.137971  0.026368   \n",
       "UF_7                            0.121600  0.137971  1.000000  0.002974   \n",
       "IDADE                           0.003239  0.026368  0.002974  1.000000   \n",
       "SEXO_1                          0.006073  0.017433  0.022839  0.017405   \n",
       "NIVEL_RELACIONAMENTO_CREDITO01  0.018759  0.028672  0.000691  0.029988   \n",
       "NIVEL_RELACIONAMENTO_CREDITO02  0.007102  0.002931  0.000145  0.009357   \n",
       "BANCO_REST_IRPF_ULTIMA_1        0.006520  0.036946  0.028865  0.011831   \n",
       "BANCO_REST_IRPF_ULTIMA_2        0.015587  0.012387  0.002948  0.035525   \n",
       "BANCO_REST_IRPF_ULTIMA_3        0.002591  0.009251  0.039252  0.002203   \n",
       "BANCO_REST_IRPF_ULTIMA_4        0.004330  0.012961  0.021763  0.010099   \n",
       "BANCO_REST_IRPF_ULTIMA_5        0.009894  0.020938  0.000802  0.013540   \n",
       "BANCO_REST_IRPF_ULTIMA_6        0.008058  0.008847  0.023075  0.017595   \n",
       "BANCO_REST_IRPF_ULTIMA_7        0.012052  0.021653  0.037037  0.017687   \n",
       "ATIVIDADE_EMAIL                 0.008905  0.067921  0.058710  0.022313   \n",
       "EXPOSICAO_ENDERECO              0.007488  0.025830  0.014593  0.037784   \n",
       "EXPOSICAO_EMAIL                 0.000574  0.041351  0.038661  0.036607   \n",
       "EXPOSICAO_TELEFONE              0.002890  0.053896  0.049747  0.012228   \n",
       "ATIVIDADE_ENDERECO              0.043457  0.020355  0.021810  0.053765   \n",
       "ATUALIZACAO_ENDERECO            0.028621  0.081709  0.063768  0.028367   \n",
       "ATUALIZACAO_EMAIL               0.007848  0.048778  0.039065  0.007181   \n",
       "EXPOSICAO_CONSUMIDOR_EMAILS     0.003326  0.056396  0.055250  0.029127   \n",
       "EXPOSICAO_CONSUMIDOR_TELEFONES  0.005675  0.038440  0.076835  0.015251   \n",
       "ATIVIDADE_TELEFONE              0.004529  0.060096  0.082791  0.013744   \n",
       "VALOR_PARCELA_BOLSA_FAMILIA     0.007226  0.034562  0.033717  0.019411   \n",
       "FLAG_BOLSA_FAMILIA_1            0.011201  0.057516  0.029261  0.056231   \n",
       "...                                  ...       ...       ...       ...   \n",
       "CEP2_6                          0.067630  0.118541  0.018354  0.017671   \n",
       "CEP2_7                          0.019542  0.107576  0.132370  0.002385   \n",
       "CEP2_8                          0.231533  0.110188  0.080085  0.011028   \n",
       "CEP2_9                          0.044606  0.021549  0.002541  0.006815   \n",
       "CEP3_1                          0.019630  0.076478  0.047759  0.030490   \n",
       "CEP3_2                          0.013063  0.086146  0.050879  0.022153   \n",
       "CEP3_3                          0.044638  0.005848  0.033995  0.009803   \n",
       "CEP3_4                          0.018711  0.067506  0.046090  0.000177   \n",
       "CEP3_5                          0.035649  0.034387  0.055902  0.020135   \n",
       "CEP3_6                          0.014460  0.010951  0.084968  0.008376   \n",
       "CEP3_7                          0.111133  0.078501  0.082090  0.006493   \n",
       "CEP3_8                          0.078621  0.040540  0.019838  0.002797   \n",
       "CEP3_9                          0.065487  0.088553  0.028149  0.007804   \n",
       "CEP3_10                         0.040417  0.054517  0.020581  0.007211   \n",
       "CEP3_11                         0.059035  0.029763  0.002990  0.019295   \n",
       "CEP3_12                         0.014113  0.003386  0.009442  0.001182   \n",
       "CEP4_1                          0.007986  0.053411  0.013797  0.026147   \n",
       "CEP4_2                          0.072975  0.115646  0.026872  0.014857   \n",
       "CEP4_3                          0.050612  0.092219  0.005744  0.009344   \n",
       "CEP4_4                          0.018837  0.014398  0.018447  0.003289   \n",
       "CEP4_5                          0.000297  0.002480  0.044504  0.001120   \n",
       "CEP4_6                          0.002524  0.023013  0.024435  0.004402   \n",
       "CEP4_7                          0.060533  0.067999  0.005311  0.013037   \n",
       "CEP4_8                          0.009569  0.022139  0.000662  0.001559   \n",
       "CEP4_9                          0.000885  0.029033  0.006608  0.008037   \n",
       "CEP4_10                         0.000713  0.065947  0.035075  0.004025   \n",
       "CEP4_11                         0.001331  0.025372  0.001038  0.000544   \n",
       "CEP4_12                         0.023599  0.000670  0.017101  0.002066   \n",
       "CEP4_13                         0.026219  0.015740  0.034493  0.000616   \n",
       "CEP4_14                         0.026264  0.003706  0.003431  0.006353   \n",
       "\n",
       "                                  SEXO_1  NIVEL_RELACIONAMENTO_CREDITO01  \\\n",
       "UF_1                            0.007811                        0.006435   \n",
       "UF_2                            0.013103                        0.014506   \n",
       "UF_3                            0.003892                        0.013546   \n",
       "UF_4                            0.004924                        0.041647   \n",
       "UF_5                            0.006073                        0.018759   \n",
       "UF_6                            0.017433                        0.028672   \n",
       "UF_7                            0.022839                        0.000691   \n",
       "IDADE                           0.017405                        0.029988   \n",
       "SEXO_1                          1.000000                        0.020646   \n",
       "NIVEL_RELACIONAMENTO_CREDITO01  0.020646                        1.000000   \n",
       "NIVEL_RELACIONAMENTO_CREDITO02  0.004807                        0.239705   \n",
       "BANCO_REST_IRPF_ULTIMA_1        0.041594                        0.014328   \n",
       "BANCO_REST_IRPF_ULTIMA_2        0.010267                        0.012884   \n",
       "BANCO_REST_IRPF_ULTIMA_3        0.022476                        0.003451   \n",
       "BANCO_REST_IRPF_ULTIMA_4        0.031053                        0.008848   \n",
       "BANCO_REST_IRPF_ULTIMA_5        0.019192                        0.009553   \n",
       "BANCO_REST_IRPF_ULTIMA_6        0.041111                        0.015834   \n",
       "BANCO_REST_IRPF_ULTIMA_7        0.040374                        0.016688   \n",
       "ATIVIDADE_EMAIL                 0.010091                        0.015398   \n",
       "EXPOSICAO_ENDERECO              0.029683                        0.043574   \n",
       "EXPOSICAO_EMAIL                 0.010047                        0.013042   \n",
       "EXPOSICAO_TELEFONE              0.008596                        0.029972   \n",
       "ATIVIDADE_ENDERECO              0.004899                        0.010995   \n",
       "ATUALIZACAO_ENDERECO            0.009754                        0.055744   \n",
       "ATUALIZACAO_EMAIL               0.026544                        0.007267   \n",
       "EXPOSICAO_CONSUMIDOR_EMAILS     0.002422                        0.026866   \n",
       "EXPOSICAO_CONSUMIDOR_TELEFONES  0.009026                        0.042013   \n",
       "ATIVIDADE_TELEFONE              0.000816                        0.029384   \n",
       "VALOR_PARCELA_BOLSA_FAMILIA     0.224650                        0.015068   \n",
       "FLAG_BOLSA_FAMILIA_1            0.246700                        0.018757   \n",
       "...                                  ...                             ...   \n",
       "CEP2_6                          0.002026                        0.009349   \n",
       "CEP2_7                          0.015988                        0.013299   \n",
       "CEP2_8                          0.013940                        0.000648   \n",
       "CEP2_9                          0.002322                        0.007211   \n",
       "CEP3_1                          0.003950                        0.005457   \n",
       "CEP3_2                          0.006760                        0.010664   \n",
       "CEP3_3                          0.009796                        0.004269   \n",
       "CEP3_4                          0.004429                        0.005953   \n",
       "CEP3_5                          0.005227                        0.000593   \n",
       "CEP3_6                          0.004291                        0.000195   \n",
       "CEP3_7                          0.004277                        0.004795   \n",
       "CEP3_8                          0.009405                        0.009370   \n",
       "CEP3_9                          0.002677                        0.000952   \n",
       "CEP3_10                         0.003127                        0.003563   \n",
       "CEP3_11                         0.004793                        0.004151   \n",
       "CEP3_12                         0.005584                        0.000917   \n",
       "CEP4_1                          0.002971                        0.012223   \n",
       "CEP4_2                          0.000759                        0.009663   \n",
       "CEP4_3                          0.008977                        0.000904   \n",
       "CEP4_4                          0.005784                        0.001465   \n",
       "CEP4_5                          0.000789                        0.002201   \n",
       "CEP4_6                          0.008388                        0.004603   \n",
       "CEP4_7                          0.000917                        0.001246   \n",
       "CEP4_8                          0.002623                        0.002234   \n",
       "CEP4_9                          0.002129                        0.003535   \n",
       "CEP4_10                         0.002683                        0.001846   \n",
       "CEP4_11                         0.001580                        0.000003   \n",
       "CEP4_12                         0.004715                        0.000372   \n",
       "CEP4_13                         0.002303                        0.004002   \n",
       "CEP4_14                         0.003675                        0.005085   \n",
       "\n",
       "                                  ...       CEP4_5    CEP4_6    CEP4_7  \\\n",
       "UF_1                              ...     0.025403  0.017901  0.002279   \n",
       "UF_2                              ...     0.040997  0.006801  0.002159   \n",
       "UF_3                              ...     0.011452  0.008139  0.009605   \n",
       "UF_4                              ...     0.001024  0.005757  0.009747   \n",
       "UF_5                              ...     0.000297  0.002524  0.060533   \n",
       "UF_6                              ...     0.002480  0.023013  0.067999   \n",
       "UF_7                              ...     0.044504  0.024435  0.005311   \n",
       "IDADE                             ...     0.001120  0.004402  0.013037   \n",
       "SEXO_1                            ...     0.000789  0.008388  0.000917   \n",
       "NIVEL_RELACIONAMENTO_CREDITO01    ...     0.002201  0.004603  0.001246   \n",
       "NIVEL_RELACIONAMENTO_CREDITO02    ...     0.001662  0.000234  0.000432   \n",
       "BANCO_REST_IRPF_ULTIMA_1          ...     0.012245  0.016455  0.005782   \n",
       "BANCO_REST_IRPF_ULTIMA_2          ...     0.004858  0.009597  0.004823   \n",
       "BANCO_REST_IRPF_ULTIMA_3          ...     0.011136  0.002867  0.002796   \n",
       "BANCO_REST_IRPF_ULTIMA_4          ...     0.006003  0.005124  0.008856   \n",
       "BANCO_REST_IRPF_ULTIMA_5          ...     0.003891  0.008531  0.007255   \n",
       "BANCO_REST_IRPF_ULTIMA_6          ...     0.012357  0.015106  0.006938   \n",
       "BANCO_REST_IRPF_ULTIMA_7          ...     0.012903  0.014959  0.007677   \n",
       "ATIVIDADE_EMAIL                   ...     0.009134  0.017565  0.001078   \n",
       "EXPOSICAO_ENDERECO                ...     0.000716  0.000250  0.002238   \n",
       "EXPOSICAO_EMAIL                   ...     0.008211  0.016051  0.001216   \n",
       "EXPOSICAO_TELEFONE                ...     0.008441  0.012044  0.003002   \n",
       "ATIVIDADE_ENDERECO                ...     0.005599  0.001461  0.004068   \n",
       "ATUALIZACAO_ENDERECO              ...     0.003096  0.004754  0.000765   \n",
       "ATUALIZACAO_EMAIL                 ...     0.003380  0.009938  0.002884   \n",
       "EXPOSICAO_CONSUMIDOR_EMAILS       ...     0.011044  0.017121  0.000029   \n",
       "EXPOSICAO_CONSUMIDOR_TELEFONES    ...     0.016380  0.012466  0.002132   \n",
       "ATIVIDADE_TELEFONE                ...     0.012557  0.015946  0.000594   \n",
       "VALOR_PARCELA_BOLSA_FAMILIA       ...     0.006317  0.000778  0.014631   \n",
       "FLAG_BOLSA_FAMILIA_1              ...     0.006456  0.000662  0.018833   \n",
       "...                               ...          ...       ...       ...   \n",
       "CEP2_6                            ...     0.028036  0.012740  0.003134   \n",
       "CEP2_7                            ...     0.003456  0.021336  0.014143   \n",
       "CEP2_8                            ...     0.026070  0.000659  0.023503   \n",
       "CEP2_9                            ...     0.049948  0.003169  0.013246   \n",
       "CEP3_1                            ...     0.011758  0.026038  0.048094   \n",
       "CEP3_2                            ...     0.027264  0.054886  0.053113   \n",
       "CEP3_3                            ...     0.011289  0.012343  0.054169   \n",
       "CEP3_4                            ...     0.015391  0.025864  0.056434   \n",
       "CEP3_5                            ...     0.026954  0.014938  0.021426   \n",
       "CEP3_6                            ...     0.013941  0.033553  0.008870   \n",
       "CEP3_7                            ...     0.037716  0.032734  0.042090   \n",
       "CEP3_8                            ...     0.013239  0.020391  0.001042   \n",
       "CEP3_9                            ...     0.003629  0.058565  0.002754   \n",
       "CEP3_10                           ...     0.012316  0.011996  0.001078   \n",
       "CEP3_11                           ...     0.001041  0.024088  0.016885   \n",
       "CEP3_12                           ...     0.005185  0.008472  0.038325   \n",
       "CEP4_1                            ...     0.050156  0.066598  0.062154   \n",
       "CEP4_2                            ...     0.077276  0.079951  0.108763   \n",
       "CEP4_3                            ...     0.055127  0.100593  0.098300   \n",
       "CEP4_4                            ...     0.110578  0.082239  0.059399   \n",
       "CEP4_5                            ...     1.000000  0.081452  0.084146   \n",
       "CEP4_6                            ...     0.081452  1.000000  0.061243   \n",
       "CEP4_7                            ...     0.084146  0.061243  1.000000   \n",
       "CEP4_8                            ...     0.068273  0.055286  0.076438   \n",
       "CEP4_9                            ...     0.074884  0.057445  0.065009   \n",
       "CEP4_10                           ...     0.114886  0.067454  0.079427   \n",
       "CEP4_11                           ...     0.076358  0.093325  0.053802   \n",
       "CEP4_12                           ...     0.081288  0.109380  0.095205   \n",
       "CEP4_13                           ...     0.077429  0.059392  0.093120   \n",
       "CEP4_14                           ...     0.070549  0.105031  0.079717   \n",
       "\n",
       "                                  CEP4_8    CEP4_9   CEP4_10   CEP4_11  \\\n",
       "UF_1                            0.000400  0.041249  0.004074  0.004246   \n",
       "UF_2                            0.035769  0.002821  0.023900  0.012583   \n",
       "UF_3                            0.062716  0.011476  0.038354  0.017366   \n",
       "UF_4                            0.021085  0.012738  0.019959  0.028406   \n",
       "UF_5                            0.009569  0.000885  0.000713  0.001331   \n",
       "UF_6                            0.022139  0.029033  0.065947  0.025372   \n",
       "UF_7                            0.000662  0.006608  0.035075  0.001038   \n",
       "IDADE                           0.001559  0.008037  0.004025  0.000544   \n",
       "SEXO_1                          0.002623  0.002129  0.002683  0.001580   \n",
       "NIVEL_RELACIONAMENTO_CREDITO01  0.002234  0.003535  0.001846  0.000003   \n",
       "NIVEL_RELACIONAMENTO_CREDITO02  0.002970  0.000242  0.003913  0.002860   \n",
       "BANCO_REST_IRPF_ULTIMA_1        0.004235  0.002374  0.004159  0.004780   \n",
       "BANCO_REST_IRPF_ULTIMA_2        0.009435  0.003250  0.007759  0.002070   \n",
       "BANCO_REST_IRPF_ULTIMA_3        0.000919  0.006268  0.004781  0.009614   \n",
       "BANCO_REST_IRPF_ULTIMA_4        0.002532  0.001209  0.002564  0.003083   \n",
       "BANCO_REST_IRPF_ULTIMA_5        0.003513  0.001576  0.003156  0.000101   \n",
       "BANCO_REST_IRPF_ULTIMA_6        0.006781  0.000470  0.004426  0.005728   \n",
       "BANCO_REST_IRPF_ULTIMA_7        0.006785  0.001073  0.002700  0.003872   \n",
       "ATIVIDADE_EMAIL                 0.000889  0.003669  0.001380  0.002623   \n",
       "EXPOSICAO_ENDERECO              0.001343  0.000541  0.005199  0.002688   \n",
       "EXPOSICAO_EMAIL                 0.002955  0.000915  0.000205  0.001108   \n",
       "EXPOSICAO_TELEFONE              0.002395  0.002630  0.000210  0.003113   \n",
       "ATIVIDADE_ENDERECO              0.001806  0.006177  0.005720  0.003607   \n",
       "ATUALIZACAO_ENDERECO            0.005503  0.004270  0.003634  0.011011   \n",
       "ATUALIZACAO_EMAIL               0.000042  0.001869  0.001017  0.000632   \n",
       "EXPOSICAO_CONSUMIDOR_EMAILS     0.002683  0.002318  0.001352  0.004446   \n",
       "EXPOSICAO_CONSUMIDOR_TELEFONES  0.005159  0.000541  0.001936  0.007509   \n",
       "ATIVIDADE_TELEFONE              0.002983  0.002939  0.001914  0.004522   \n",
       "VALOR_PARCELA_BOLSA_FAMILIA     0.009022  0.007882  0.008043  0.008097   \n",
       "FLAG_BOLSA_FAMILIA_1            0.008540  0.011924  0.008404  0.004892   \n",
       "...                                  ...       ...       ...       ...   \n",
       "CEP2_6                          0.033257  0.041206  0.002075  0.022095   \n",
       "CEP2_7                          0.027258  0.002792  0.003459  0.005254   \n",
       "CEP2_8                          0.024130  0.000183  0.015350  0.001205   \n",
       "CEP2_9                          0.003809  0.026293  0.039538  0.031095   \n",
       "CEP3_1                          0.033452  0.058999  0.035789  0.047201   \n",
       "CEP3_2                          0.054921  0.079345  0.059479  0.034065   \n",
       "CEP3_3                          0.021250  0.004511  0.018212  0.011057   \n",
       "CEP3_4                          0.021252  0.014778  0.034971  0.021035   \n",
       "CEP3_5                          0.007138  0.051028  0.003520  0.016496   \n",
       "CEP3_6                          0.013424  0.008919  0.068129  0.010120   \n",
       "CEP3_7                          0.028335  0.022631  0.009884  0.006030   \n",
       "CEP3_8                          0.021430  0.030134  0.009896  0.036293   \n",
       "CEP3_9                          0.048102  0.039036  0.006741  0.009801   \n",
       "CEP3_10                         0.021077  0.042262  0.038610  0.005878   \n",
       "CEP3_11                         0.016830  0.016259  0.008468  0.004203   \n",
       "CEP3_12                         0.030986  0.021511  0.011453  0.014967   \n",
       "CEP4_1                          0.069148  0.057546  0.034671  0.079745   \n",
       "CEP4_2                          0.099927  0.064027  0.066742  0.060307   \n",
       "CEP4_3                          0.068514  0.091356  0.126188  0.057642   \n",
       "CEP4_4                          0.102702  0.086201  0.092063  0.089606   \n",
       "CEP4_5                          0.068273  0.074884  0.114886  0.076358   \n",
       "CEP4_6                          0.055286  0.057445  0.067454  0.093325   \n",
       "CEP4_7                          0.076438  0.065009  0.079427  0.053802   \n",
       "CEP4_8                          1.000000  0.070476  0.081482  0.094420   \n",
       "CEP4_9                          0.070476  1.000000  0.056205  0.107209   \n",
       "CEP4_10                         0.081482  0.056205  1.000000  0.077964   \n",
       "CEP4_11                         0.094420  0.107209  0.077964  1.000000   \n",
       "CEP4_12                         0.037541  0.104018  0.093005  0.065892   \n",
       "CEP4_13                         0.100988  0.096174  0.059894  0.077590   \n",
       "CEP4_14                         0.089647  0.081960  0.067307  0.087774   \n",
       "\n",
       "                                 CEP4_12   CEP4_13   CEP4_14  \n",
       "UF_1                            0.009868  0.022239  0.035315  \n",
       "UF_2                            0.021424  0.007369  0.029016  \n",
       "UF_3                            0.002350  0.018033  0.011395  \n",
       "UF_4                            0.010240  0.023383  0.047764  \n",
       "UF_5                            0.023599  0.026219  0.026264  \n",
       "UF_6                            0.000670  0.015740  0.003706  \n",
       "UF_7                            0.017101  0.034493  0.003431  \n",
       "IDADE                           0.002066  0.000616  0.006353  \n",
       "SEXO_1                          0.004715  0.002303  0.003675  \n",
       "NIVEL_RELACIONAMENTO_CREDITO01  0.000372  0.004002  0.005085  \n",
       "NIVEL_RELACIONAMENTO_CREDITO02  0.001918  0.000591  0.001580  \n",
       "BANCO_REST_IRPF_ULTIMA_1        0.007634  0.000321  0.011306  \n",
       "BANCO_REST_IRPF_ULTIMA_2        0.006667  0.002163  0.012610  \n",
       "BANCO_REST_IRPF_ULTIMA_3        0.000145  0.004880  0.004504  \n",
       "BANCO_REST_IRPF_ULTIMA_4        0.001932  0.001854  0.000901  \n",
       "BANCO_REST_IRPF_ULTIMA_5        0.004460  0.000758  0.006276  \n",
       "BANCO_REST_IRPF_ULTIMA_6        0.006814  0.000359  0.012221  \n",
       "BANCO_REST_IRPF_ULTIMA_7        0.006262  0.001432  0.011833  \n",
       "ATIVIDADE_EMAIL                 0.008246  0.001737  0.015123  \n",
       "EXPOSICAO_ENDERECO              0.000534  0.006409  0.019879  \n",
       "EXPOSICAO_EMAIL                 0.006326  0.002026  0.007416  \n",
       "EXPOSICAO_TELEFONE              0.006901  0.001755  0.008774  \n",
       "ATIVIDADE_ENDERECO              0.004260  0.004610  0.017025  \n",
       "ATUALIZACAO_ENDERECO            0.006841  0.005685  0.021115  \n",
       "ATUALIZACAO_EMAIL               0.005740  0.000358  0.011939  \n",
       "EXPOSICAO_CONSUMIDOR_EMAILS     0.007219  0.001482  0.014085  \n",
       "EXPOSICAO_CONSUMIDOR_TELEFONES  0.007721  0.002992  0.015405  \n",
       "ATIVIDADE_TELEFONE              0.012180  0.000529  0.018880  \n",
       "VALOR_PARCELA_BOLSA_FAMILIA     0.000593  0.008237  0.016280  \n",
       "FLAG_BOLSA_FAMILIA_1            0.000170  0.007389  0.018539  \n",
       "...                                  ...       ...       ...  \n",
       "CEP2_6                          0.000501  0.033753  0.008207  \n",
       "CEP2_7                          0.025808  0.002482  0.016561  \n",
       "CEP2_8                          0.018287  0.027417  0.024925  \n",
       "CEP2_9                          0.007514  0.006430  0.058079  \n",
       "CEP3_1                          0.033384  0.017597  0.019042  \n",
       "CEP3_2                          0.006475  0.003271  0.059274  \n",
       "CEP3_3                          0.061374  0.019429  0.040716  \n",
       "CEP3_4                          0.015093  0.002690  0.003043  \n",
       "CEP3_5                          0.019804  0.003867  0.011449  \n",
       "CEP3_6                          0.009546  0.002526  0.058430  \n",
       "CEP3_7                          0.043659  0.022275  0.006181  \n",
       "CEP3_8                          0.005137  0.000335  0.002855  \n",
       "CEP3_9                          0.007158  0.023076  0.001276  \n",
       "CEP3_10                         0.034739  0.034160  0.015346  \n",
       "CEP3_11                         0.011100  0.007912  0.012464  \n",
       "CEP3_12                         0.014722  0.004071  0.009819  \n",
       "CEP4_1                          0.080468  0.042412  0.056045  \n",
       "CEP4_2                          0.064826  0.068966  0.079220  \n",
       "CEP4_3                          0.055201  0.096777  0.092043  \n",
       "CEP4_4                          0.091386  0.093666  0.076223  \n",
       "CEP4_5                          0.081288  0.077429  0.070549  \n",
       "CEP4_6                          0.109380  0.059392  0.105031  \n",
       "CEP4_7                          0.095205  0.093120  0.079717  \n",
       "CEP4_8                          0.037541  0.100988  0.089647  \n",
       "CEP4_9                          0.104018  0.096174  0.081960  \n",
       "CEP4_10                         0.093005  0.059894  0.067307  \n",
       "CEP4_11                         0.065892  0.077590  0.087774  \n",
       "CEP4_12                         1.000000  0.078021  0.064582  \n",
       "CEP4_13                         0.078021  1.000000  0.068267  \n",
       "CEP4_14                         0.064582  0.068267  1.000000  \n",
       "\n",
       "[243 rows x 243 columns]"
      ]
     },
     "execution_count": 27,
     "metadata": {},
     "output_type": "execute_result"
    }
   ],
   "source": [
    "features.corr().abs()"
   ]
  },
  {
   "cell_type": "code",
   "execution_count": 28,
   "metadata": {
    "colab": {
     "autoexec": {
      "startup": false,
      "wait_interval": 0
     }
    },
    "colab_type": "code",
    "id": "Zt72Gp2gf7We",
    "outputId": "b461faa1-d8cf-4d94-ccb3-20784271de10"
   },
   "outputs": [
    {
     "data": {
      "text/html": [
       "<div>\n",
       "<style scoped>\n",
       "    .dataframe tbody tr th:only-of-type {\n",
       "        vertical-align: middle;\n",
       "    }\n",
       "\n",
       "    .dataframe tbody tr th {\n",
       "        vertical-align: top;\n",
       "    }\n",
       "\n",
       "    .dataframe thead th {\n",
       "        text-align: right;\n",
       "    }\n",
       "</style>\n",
       "<table border=\"1\" class=\"dataframe\">\n",
       "  <thead>\n",
       "    <tr style=\"text-align: right;\">\n",
       "      <th></th>\n",
       "      <th>id</th>\n",
       "      <th>UF_1</th>\n",
       "      <th>UF_2</th>\n",
       "      <th>UF_3</th>\n",
       "      <th>UF_4</th>\n",
       "      <th>UF_5</th>\n",
       "      <th>UF_6</th>\n",
       "      <th>UF_7</th>\n",
       "      <th>IDADE</th>\n",
       "      <th>SEXO_1</th>\n",
       "      <th>...</th>\n",
       "      <th>CEP4_7</th>\n",
       "      <th>CEP4_8</th>\n",
       "      <th>CEP4_9</th>\n",
       "      <th>CEP4_10</th>\n",
       "      <th>CEP4_11</th>\n",
       "      <th>CEP4_12</th>\n",
       "      <th>CEP4_13</th>\n",
       "      <th>CEP4_14</th>\n",
       "      <th>IND_BOM_1_1</th>\n",
       "      <th>IND_BOM_1_2</th>\n",
       "    </tr>\n",
       "  </thead>\n",
       "  <tbody>\n",
       "    <tr>\n",
       "      <th>0</th>\n",
       "      <td>33220</td>\n",
       "      <td>1</td>\n",
       "      <td>1</td>\n",
       "      <td>1</td>\n",
       "      <td>0</td>\n",
       "      <td>0</td>\n",
       "      <td>0</td>\n",
       "      <td>0</td>\n",
       "      <td>0.217846</td>\n",
       "      <td>0</td>\n",
       "      <td>...</td>\n",
       "      <td>0</td>\n",
       "      <td>0</td>\n",
       "      <td>1</td>\n",
       "      <td>1</td>\n",
       "      <td>0</td>\n",
       "      <td>0</td>\n",
       "      <td>0</td>\n",
       "      <td>0</td>\n",
       "      <td>0</td>\n",
       "      <td>1</td>\n",
       "    </tr>\n",
       "    <tr>\n",
       "      <th>1</th>\n",
       "      <td>164123</td>\n",
       "      <td>0</td>\n",
       "      <td>0</td>\n",
       "      <td>1</td>\n",
       "      <td>1</td>\n",
       "      <td>0</td>\n",
       "      <td>1</td>\n",
       "      <td>0</td>\n",
       "      <td>0.750400</td>\n",
       "      <td>0</td>\n",
       "      <td>...</td>\n",
       "      <td>0</td>\n",
       "      <td>1</td>\n",
       "      <td>0</td>\n",
       "      <td>1</td>\n",
       "      <td>1</td>\n",
       "      <td>0</td>\n",
       "      <td>0</td>\n",
       "      <td>0</td>\n",
       "      <td>0</td>\n",
       "      <td>1</td>\n",
       "    </tr>\n",
       "    <tr>\n",
       "      <th>2</th>\n",
       "      <td>340086</td>\n",
       "      <td>1</td>\n",
       "      <td>0</td>\n",
       "      <td>0</td>\n",
       "      <td>0</td>\n",
       "      <td>1</td>\n",
       "      <td>1</td>\n",
       "      <td>0</td>\n",
       "      <td>0.074953</td>\n",
       "      <td>0</td>\n",
       "      <td>...</td>\n",
       "      <td>0</td>\n",
       "      <td>0</td>\n",
       "      <td>0</td>\n",
       "      <td>0</td>\n",
       "      <td>0</td>\n",
       "      <td>1</td>\n",
       "      <td>1</td>\n",
       "      <td>1</td>\n",
       "      <td>1</td>\n",
       "      <td>0</td>\n",
       "    </tr>\n",
       "    <tr>\n",
       "      <th>3</th>\n",
       "      <td>237182</td>\n",
       "      <td>1</td>\n",
       "      <td>1</td>\n",
       "      <td>1</td>\n",
       "      <td>0</td>\n",
       "      <td>0</td>\n",
       "      <td>0</td>\n",
       "      <td>0</td>\n",
       "      <td>0.355855</td>\n",
       "      <td>0</td>\n",
       "      <td>...</td>\n",
       "      <td>0</td>\n",
       "      <td>1</td>\n",
       "      <td>1</td>\n",
       "      <td>1</td>\n",
       "      <td>0</td>\n",
       "      <td>0</td>\n",
       "      <td>0</td>\n",
       "      <td>1</td>\n",
       "      <td>1</td>\n",
       "      <td>0</td>\n",
       "    </tr>\n",
       "    <tr>\n",
       "      <th>4</th>\n",
       "      <td>335250</td>\n",
       "      <td>1</td>\n",
       "      <td>0</td>\n",
       "      <td>1</td>\n",
       "      <td>0</td>\n",
       "      <td>0</td>\n",
       "      <td>1</td>\n",
       "      <td>0</td>\n",
       "      <td>0.930834</td>\n",
       "      <td>1</td>\n",
       "      <td>...</td>\n",
       "      <td>0</td>\n",
       "      <td>1</td>\n",
       "      <td>0</td>\n",
       "      <td>0</td>\n",
       "      <td>0</td>\n",
       "      <td>1</td>\n",
       "      <td>0</td>\n",
       "      <td>0</td>\n",
       "      <td>1</td>\n",
       "      <td>0</td>\n",
       "    </tr>\n",
       "    <tr>\n",
       "      <th>5</th>\n",
       "      <td>149584</td>\n",
       "      <td>1</td>\n",
       "      <td>1</td>\n",
       "      <td>1</td>\n",
       "      <td>0</td>\n",
       "      <td>0</td>\n",
       "      <td>0</td>\n",
       "      <td>0</td>\n",
       "      <td>0.678045</td>\n",
       "      <td>0</td>\n",
       "      <td>...</td>\n",
       "      <td>1</td>\n",
       "      <td>0</td>\n",
       "      <td>0</td>\n",
       "      <td>1</td>\n",
       "      <td>0</td>\n",
       "      <td>0</td>\n",
       "      <td>1</td>\n",
       "      <td>0</td>\n",
       "      <td>1</td>\n",
       "      <td>0</td>\n",
       "    </tr>\n",
       "    <tr>\n",
       "      <th>6</th>\n",
       "      <td>71560</td>\n",
       "      <td>1</td>\n",
       "      <td>1</td>\n",
       "      <td>0</td>\n",
       "      <td>0</td>\n",
       "      <td>0</td>\n",
       "      <td>0</td>\n",
       "      <td>1</td>\n",
       "      <td>0.485231</td>\n",
       "      <td>1</td>\n",
       "      <td>...</td>\n",
       "      <td>1</td>\n",
       "      <td>0</td>\n",
       "      <td>1</td>\n",
       "      <td>0</td>\n",
       "      <td>1</td>\n",
       "      <td>0</td>\n",
       "      <td>0</td>\n",
       "      <td>0</td>\n",
       "      <td>1</td>\n",
       "      <td>0</td>\n",
       "    </tr>\n",
       "    <tr>\n",
       "      <th>7</th>\n",
       "      <td>118664</td>\n",
       "      <td>0</td>\n",
       "      <td>1</td>\n",
       "      <td>1</td>\n",
       "      <td>0</td>\n",
       "      <td>1</td>\n",
       "      <td>0</td>\n",
       "      <td>0</td>\n",
       "      <td>0.654419</td>\n",
       "      <td>1</td>\n",
       "      <td>...</td>\n",
       "      <td>0</td>\n",
       "      <td>0</td>\n",
       "      <td>0</td>\n",
       "      <td>0</td>\n",
       "      <td>0</td>\n",
       "      <td>1</td>\n",
       "      <td>1</td>\n",
       "      <td>1</td>\n",
       "      <td>1</td>\n",
       "      <td>0</td>\n",
       "    </tr>\n",
       "    <tr>\n",
       "      <th>8</th>\n",
       "      <td>19053</td>\n",
       "      <td>1</td>\n",
       "      <td>1</td>\n",
       "      <td>0</td>\n",
       "      <td>1</td>\n",
       "      <td>0</td>\n",
       "      <td>0</td>\n",
       "      <td>0</td>\n",
       "      <td>0.358808</td>\n",
       "      <td>1</td>\n",
       "      <td>...</td>\n",
       "      <td>0</td>\n",
       "      <td>0</td>\n",
       "      <td>0</td>\n",
       "      <td>0</td>\n",
       "      <td>1</td>\n",
       "      <td>1</td>\n",
       "      <td>0</td>\n",
       "      <td>1</td>\n",
       "      <td>1</td>\n",
       "      <td>0</td>\n",
       "    </tr>\n",
       "    <tr>\n",
       "      <th>9</th>\n",
       "      <td>368546</td>\n",
       "      <td>1</td>\n",
       "      <td>1</td>\n",
       "      <td>1</td>\n",
       "      <td>0</td>\n",
       "      <td>0</td>\n",
       "      <td>0</td>\n",
       "      <td>0</td>\n",
       "      <td>0.132485</td>\n",
       "      <td>1</td>\n",
       "      <td>...</td>\n",
       "      <td>1</td>\n",
       "      <td>1</td>\n",
       "      <td>1</td>\n",
       "      <td>1</td>\n",
       "      <td>0</td>\n",
       "      <td>0</td>\n",
       "      <td>0</td>\n",
       "      <td>1</td>\n",
       "      <td>1</td>\n",
       "      <td>0</td>\n",
       "    </tr>\n",
       "  </tbody>\n",
       "</table>\n",
       "<p>10 rows × 246 columns</p>\n",
       "</div>"
      ],
      "text/plain": [
       "       id UF_1 UF_2 UF_3 UF_4 UF_5 UF_6 UF_7     IDADE  SEXO_1     ...       \\\n",
       "0   33220    1    1    1    0    0    0    0  0.217846       0     ...        \n",
       "1  164123    0    0    1    1    0    1    0  0.750400       0     ...        \n",
       "2  340086    1    0    0    0    1    1    0  0.074953       0     ...        \n",
       "3  237182    1    1    1    0    0    0    0  0.355855       0     ...        \n",
       "4  335250    1    0    1    0    0    1    0  0.930834       1     ...        \n",
       "5  149584    1    1    1    0    0    0    0  0.678045       0     ...        \n",
       "6   71560    1    1    0    0    0    0    1  0.485231       1     ...        \n",
       "7  118664    0    1    1    0    1    0    0  0.654419       1     ...        \n",
       "8   19053    1    1    0    1    0    0    0  0.358808       1     ...        \n",
       "9  368546    1    1    1    0    0    0    0  0.132485       1     ...        \n",
       "\n",
       "   CEP4_7  CEP4_8 CEP4_9 CEP4_10 CEP4_11 CEP4_12 CEP4_13 CEP4_14 IND_BOM_1_1  \\\n",
       "0       0       0      1       1       0       0       0       0           0   \n",
       "1       0       1      0       1       1       0       0       0           0   \n",
       "2       0       0      0       0       0       1       1       1           1   \n",
       "3       0       1      1       1       0       0       0       1           1   \n",
       "4       0       1      0       0       0       1       0       0           1   \n",
       "5       1       0      0       1       0       0       1       0           1   \n",
       "6       1       0      1       0       1       0       0       0           1   \n",
       "7       0       0      0       0       0       1       1       1           1   \n",
       "8       0       0      0       0       1       1       0       1           1   \n",
       "9       1       1      1       1       0       0       0       1           1   \n",
       "\n",
       "   IND_BOM_1_2  \n",
       "0            1  \n",
       "1            1  \n",
       "2            0  \n",
       "3            0  \n",
       "4            0  \n",
       "5            0  \n",
       "6            0  \n",
       "7            0  \n",
       "8            0  \n",
       "9            0  \n",
       "\n",
       "[10 rows x 246 columns]"
      ]
     },
     "execution_count": 28,
     "metadata": {},
     "output_type": "execute_result"
    }
   ],
   "source": [
    "training_data.head(10)"
   ]
  },
  {
   "cell_type": "code",
   "execution_count": 29,
   "metadata": {
    "colab": {
     "autoexec": {
      "startup": false,
      "wait_interval": 0
     }
    },
    "colab_type": "code",
    "collapsed": true,
    "id": "8SWa1sFkf7Wh"
   },
   "outputs": [],
   "source": [
    "corr_matrix = features.corr().abs()"
   ]
  },
  {
   "cell_type": "code",
   "execution_count": 30,
   "metadata": {
    "colab": {
     "autoexec": {
      "startup": false,
      "wait_interval": 0
     }
    },
    "colab_type": "code",
    "collapsed": true,
    "id": "Mmg3lV6df7Wk"
   },
   "outputs": [],
   "source": [
    "values = corr_matrix[corr_matrix > 0.95].count()"
   ]
  },
  {
   "cell_type": "code",
   "execution_count": 31,
   "metadata": {
    "colab": {
     "autoexec": {
      "startup": false,
      "wait_interval": 0
     }
    },
    "colab_type": "code",
    "id": "xDl_gqVdf7Wn",
    "outputId": "8e97c2b1-d549-477f-ca37-3d85adc4205a"
   },
   "outputs": [
    {
     "data": {
      "text/plain": [
       "FLAG_BOLSA_FAMILIA_1        2\n",
       "RENDA_VIZINHANCA_1          2\n",
       "RENDA_VIZINHANCA_4          2\n",
       "FLAG_PROGRAMAS_SOCIAIS_1    2\n",
       "dtype: int64"
      ]
     },
     "execution_count": 31,
     "metadata": {},
     "output_type": "execute_result"
    }
   ],
   "source": [
    "values[values > 1]"
   ]
  },
  {
   "cell_type": "code",
   "execution_count": 32,
   "metadata": {
    "colab": {
     "autoexec": {
      "startup": false,
      "wait_interval": 0
     }
    },
    "colab_type": "code",
    "id": "p4_M6HP1f7Wq",
    "outputId": "e6d2bd55-082c-450c-8f45-ac7d2f30852a"
   },
   "outputs": [
    {
     "data": {
      "text/html": [
       "<div>\n",
       "<style scoped>\n",
       "    .dataframe tbody tr th:only-of-type {\n",
       "        vertical-align: middle;\n",
       "    }\n",
       "\n",
       "    .dataframe tbody tr th {\n",
       "        vertical-align: top;\n",
       "    }\n",
       "\n",
       "    .dataframe thead th {\n",
       "        text-align: right;\n",
       "    }\n",
       "</style>\n",
       "<table border=\"1\" class=\"dataframe\">\n",
       "  <thead>\n",
       "    <tr style=\"text-align: right;\">\n",
       "      <th></th>\n",
       "      <th>UF_1</th>\n",
       "      <th>UF_2</th>\n",
       "      <th>UF_3</th>\n",
       "      <th>UF_4</th>\n",
       "      <th>UF_5</th>\n",
       "      <th>UF_6</th>\n",
       "      <th>UF_7</th>\n",
       "      <th>IDADE</th>\n",
       "      <th>SEXO_1</th>\n",
       "      <th>NIVEL_RELACIONAMENTO_CREDITO01</th>\n",
       "      <th>...</th>\n",
       "      <th>CEP4_5</th>\n",
       "      <th>CEP4_6</th>\n",
       "      <th>CEP4_7</th>\n",
       "      <th>CEP4_8</th>\n",
       "      <th>CEP4_9</th>\n",
       "      <th>CEP4_10</th>\n",
       "      <th>CEP4_11</th>\n",
       "      <th>CEP4_12</th>\n",
       "      <th>CEP4_13</th>\n",
       "      <th>CEP4_14</th>\n",
       "    </tr>\n",
       "  </thead>\n",
       "  <tbody>\n",
       "    <tr>\n",
       "      <th>RENDA_VIZINHANCA_1</th>\n",
       "      <td>0.039497</td>\n",
       "      <td>0.126106</td>\n",
       "      <td>0.095179</td>\n",
       "      <td>0.120255</td>\n",
       "      <td>0.040225</td>\n",
       "      <td>0.021913</td>\n",
       "      <td>0.094908</td>\n",
       "      <td>0.056833</td>\n",
       "      <td>0.011343</td>\n",
       "      <td>0.004249</td>\n",
       "      <td>...</td>\n",
       "      <td>0.014022</td>\n",
       "      <td>0.030272</td>\n",
       "      <td>0.002249</td>\n",
       "      <td>0.002028</td>\n",
       "      <td>0.003034</td>\n",
       "      <td>0.005432</td>\n",
       "      <td>0.003514</td>\n",
       "      <td>0.008236</td>\n",
       "      <td>0.007406</td>\n",
       "      <td>0.022686</td>\n",
       "    </tr>\n",
       "    <tr>\n",
       "      <th>RENDA_VIZINHANCA_4</th>\n",
       "      <td>0.042773</td>\n",
       "      <td>0.123006</td>\n",
       "      <td>0.096118</td>\n",
       "      <td>0.121031</td>\n",
       "      <td>0.041934</td>\n",
       "      <td>0.020677</td>\n",
       "      <td>0.093601</td>\n",
       "      <td>0.053994</td>\n",
       "      <td>0.009825</td>\n",
       "      <td>0.003914</td>\n",
       "      <td>...</td>\n",
       "      <td>0.014699</td>\n",
       "      <td>0.027470</td>\n",
       "      <td>0.003278</td>\n",
       "      <td>0.000880</td>\n",
       "      <td>0.003880</td>\n",
       "      <td>0.005072</td>\n",
       "      <td>0.002067</td>\n",
       "      <td>0.006980</td>\n",
       "      <td>0.006323</td>\n",
       "      <td>0.020939</td>\n",
       "    </tr>\n",
       "  </tbody>\n",
       "</table>\n",
       "<p>2 rows × 243 columns</p>\n",
       "</div>"
      ],
      "text/plain": [
       "                        UF_1      UF_2      UF_3      UF_4      UF_5  \\\n",
       "RENDA_VIZINHANCA_1  0.039497  0.126106  0.095179  0.120255  0.040225   \n",
       "RENDA_VIZINHANCA_4  0.042773  0.123006  0.096118  0.121031  0.041934   \n",
       "\n",
       "                        UF_6      UF_7     IDADE    SEXO_1  \\\n",
       "RENDA_VIZINHANCA_1  0.021913  0.094908  0.056833  0.011343   \n",
       "RENDA_VIZINHANCA_4  0.020677  0.093601  0.053994  0.009825   \n",
       "\n",
       "                    NIVEL_RELACIONAMENTO_CREDITO01    ...       CEP4_5  \\\n",
       "RENDA_VIZINHANCA_1                        0.004249    ...     0.014022   \n",
       "RENDA_VIZINHANCA_4                        0.003914    ...     0.014699   \n",
       "\n",
       "                      CEP4_6    CEP4_7    CEP4_8    CEP4_9   CEP4_10  \\\n",
       "RENDA_VIZINHANCA_1  0.030272  0.002249  0.002028  0.003034  0.005432   \n",
       "RENDA_VIZINHANCA_4  0.027470  0.003278  0.000880  0.003880  0.005072   \n",
       "\n",
       "                     CEP4_11   CEP4_12   CEP4_13   CEP4_14  \n",
       "RENDA_VIZINHANCA_1  0.003514  0.008236  0.007406  0.022686  \n",
       "RENDA_VIZINHANCA_4  0.002067  0.006980  0.006323  0.020939  \n",
       "\n",
       "[2 rows x 243 columns]"
      ]
     },
     "execution_count": 32,
     "metadata": {},
     "output_type": "execute_result"
    }
   ],
   "source": [
    "corr_matrix[corr_matrix[\"RENDA_VIZINHANCA_1\"] > 0.90]"
   ]
  },
  {
   "cell_type": "markdown",
   "metadata": {
    "colab_type": "text",
    "id": "M-EcYcC7f7Ws"
   },
   "source": [
    "RENDA_VIZINHANCA_1 e  RENDA_VIZINHANCA_4 possuem alta correlação e FLAG_BOLSA_FAMILIA_1 e FLAG_PROGRAMAS_SOCIAIS_1\n",
    "também. Logo, vou ficar com somente duas das 4.\n",
    "Contudo, este teste é para apenas para variáveis correlacionadas linearmente, existem testes melhores para as variáveis categóricas."
   ]
  },
  {
   "cell_type": "code",
   "execution_count": null,
   "metadata": {
    "colab": {
     "autoexec": {
      "startup": false,
      "wait_interval": 0
     }
    },
    "colab_type": "code",
    "collapsed": true,
    "id": "CUw5h-3-f7Wv"
   },
   "outputs": [],
   "source": [
    "features = features.drop([\"RENDA_VIZINHANCA_1\", \"FLAG_BOLSA_FAMILIA_1\"], axis=\"columns\")"
   ]
  },
  {
   "cell_type": "code",
   "execution_count": 91,
   "metadata": {
    "colab": {
     "autoexec": {
      "startup": false,
      "wait_interval": 0
     }
    },
    "colab_type": "code",
    "id": "DW2eZPNqf7Ww",
    "outputId": "12e06a68-652f-4862-afec-c71cf7b83125"
   },
   "outputs": [
    {
     "data": {
      "text/plain": [
       "(194598, 244)"
      ]
     },
     "execution_count": 91,
     "metadata": {},
     "output_type": "execute_result"
    }
   ],
   "source": [
    "features.shape"
   ]
  },
  {
   "cell_type": "code",
   "execution_count": 92,
   "metadata": {
    "colab": {
     "autoexec": {
      "startup": false,
      "wait_interval": 0
     }
    },
    "colab_type": "code",
    "id": "r7Fy_BfIf7W0",
    "outputId": "378e6199-1661-4c9e-b6f2-53ae48ab021a"
   },
   "outputs": [
    {
     "data": {
      "text/plain": [
       "(194598, 244)"
      ]
     },
     "execution_count": 92,
     "metadata": {},
     "output_type": "execute_result"
    }
   ],
   "source": [
    "features.drop_duplicates(inplace=True)\n",
    "features.shape"
   ]
  },
  {
   "cell_type": "code",
   "execution_count": null,
   "metadata": {
    "colab": {
     "autoexec": {
      "startup": false,
      "wait_interval": 0
     }
    },
    "colab_type": "code",
    "collapsed": true,
    "id": "pMKX3EYpf7W2"
   },
   "outputs": [],
   "source": [
    "training_data_model = pandas.concat([features, labels], axis=1)"
   ]
  },
  {
   "cell_type": "code",
   "execution_count": null,
   "metadata": {
    "colab": {
     "autoexec": {
      "startup": false,
      "wait_interval": 0
     }
    },
    "colab_type": "code",
    "id": "qDz38AF4f7W4",
    "outputId": "7d52be84-9540-40da-f835-55f9b0f77aca"
   },
   "outputs": [],
   "source": [
    "training_data_model.head(10)"
   ]
  },
  {
   "cell_type": "code",
   "execution_count": 38,
   "metadata": {
    "colab": {
     "autoexec": {
      "startup": false,
      "wait_interval": 0
     }
    },
    "colab_type": "code",
    "id": "5IRkO1O5f7W8",
    "outputId": "5cec10ba-db60-4ef9-d629-a1a906377ee6",
    "scrolled": true
   },
   "outputs": [
    {
     "data": {
      "text/plain": [
       "1    76592\n",
       "0    40167\n",
       "Name: IND_BOM_1_1, dtype: int64"
      ]
     },
     "execution_count": 38,
     "metadata": {},
     "output_type": "execute_result"
    }
   ],
   "source": [
    "labels.value_counts()"
   ]
  },
  {
   "cell_type": "markdown",
   "metadata": {
    "colab_type": "text",
    "id": "paWFizV2f7W-"
   },
   "source": [
    "# Feature Engineering"
   ]
  },
  {
   "cell_type": "markdown",
   "metadata": {
    "colab_type": "text",
    "id": "c4WPUJbff7XC"
   },
   "source": [
    "In this module we're trying to build the feature that we see will be more useful in order to learn about\n",
    "the class we need to predict."
   ]
  },
  {
   "cell_type": "markdown",
   "metadata": {
    "colab_type": "text",
    "id": "NHVg252Vf7XF"
   },
   "source": [
    "# Model Tranining"
   ]
  },
  {
   "cell_type": "code",
   "execution_count": 6,
   "metadata": {
    "colab": {
     "autoexec": {
      "startup": false,
      "wait_interval": 0
     }
    },
    "colab_type": "code",
    "collapsed": true,
    "id": "VtaX3fzFf7XH"
   },
   "outputs": [],
   "source": [
    "features = training_data.drop([\"IND_BOM_1_1\"], axis=1)"
   ]
  },
  {
   "cell_type": "code",
   "execution_count": 7,
   "metadata": {
    "colab": {
     "autoexec": {
      "startup": false,
      "wait_interval": 0
     }
    },
    "colab_type": "code",
    "id": "DfSOkMvof7XK",
    "outputId": "b53fa1b1-6050-4d99-deee-156cc011dedc",
    "scrolled": true
   },
   "outputs": [
    {
     "data": {
      "text/html": [
       "<div>\n",
       "<style scoped>\n",
       "    .dataframe tbody tr th:only-of-type {\n",
       "        vertical-align: middle;\n",
       "    }\n",
       "\n",
       "    .dataframe tbody tr th {\n",
       "        vertical-align: top;\n",
       "    }\n",
       "\n",
       "    .dataframe thead th {\n",
       "        text-align: right;\n",
       "    }\n",
       "</style>\n",
       "<table border=\"1\" class=\"dataframe\">\n",
       "  <thead>\n",
       "    <tr style=\"text-align: right;\">\n",
       "      <th></th>\n",
       "      <th>UF_1</th>\n",
       "      <th>UF_2</th>\n",
       "      <th>UF_3</th>\n",
       "      <th>UF_4</th>\n",
       "      <th>UF_5</th>\n",
       "      <th>UF_6</th>\n",
       "      <th>UF_7</th>\n",
       "      <th>IDADE</th>\n",
       "      <th>SEXO_1</th>\n",
       "      <th>NIVEL_RELACIONAMENTO_CREDITO01</th>\n",
       "      <th>...</th>\n",
       "      <th>CEP4_5</th>\n",
       "      <th>CEP4_6</th>\n",
       "      <th>CEP4_7</th>\n",
       "      <th>CEP4_8</th>\n",
       "      <th>CEP4_9</th>\n",
       "      <th>CEP4_10</th>\n",
       "      <th>CEP4_11</th>\n",
       "      <th>CEP4_12</th>\n",
       "      <th>CEP4_13</th>\n",
       "      <th>CEP4_14</th>\n",
       "    </tr>\n",
       "  </thead>\n",
       "  <tbody>\n",
       "    <tr>\n",
       "      <th>264499</th>\n",
       "      <td>1</td>\n",
       "      <td>1</td>\n",
       "      <td>0</td>\n",
       "      <td>0</td>\n",
       "      <td>0</td>\n",
       "      <td>0</td>\n",
       "      <td>1</td>\n",
       "      <td>0.365567</td>\n",
       "      <td>0</td>\n",
       "      <td>0.111111</td>\n",
       "      <td>...</td>\n",
       "      <td>1</td>\n",
       "      <td>0</td>\n",
       "      <td>1</td>\n",
       "      <td>0</td>\n",
       "      <td>1</td>\n",
       "      <td>0</td>\n",
       "      <td>0</td>\n",
       "      <td>0</td>\n",
       "      <td>1</td>\n",
       "      <td>0</td>\n",
       "    </tr>\n",
       "    <tr>\n",
       "      <th>37020</th>\n",
       "      <td>1</td>\n",
       "      <td>0</td>\n",
       "      <td>1</td>\n",
       "      <td>1</td>\n",
       "      <td>0</td>\n",
       "      <td>0</td>\n",
       "      <td>0</td>\n",
       "      <td>0.400268</td>\n",
       "      <td>0</td>\n",
       "      <td>0.111111</td>\n",
       "      <td>...</td>\n",
       "      <td>0</td>\n",
       "      <td>1</td>\n",
       "      <td>0</td>\n",
       "      <td>1</td>\n",
       "      <td>1</td>\n",
       "      <td>0</td>\n",
       "      <td>0</td>\n",
       "      <td>0</td>\n",
       "      <td>1</td>\n",
       "      <td>0</td>\n",
       "    </tr>\n",
       "    <tr>\n",
       "      <th>69476</th>\n",
       "      <td>1</td>\n",
       "      <td>0</td>\n",
       "      <td>1</td>\n",
       "      <td>0</td>\n",
       "      <td>1</td>\n",
       "      <td>0</td>\n",
       "      <td>0</td>\n",
       "      <td>0.272141</td>\n",
       "      <td>0</td>\n",
       "      <td>0.111111</td>\n",
       "      <td>...</td>\n",
       "      <td>1</td>\n",
       "      <td>0</td>\n",
       "      <td>0</td>\n",
       "      <td>1</td>\n",
       "      <td>1</td>\n",
       "      <td>1</td>\n",
       "      <td>1</td>\n",
       "      <td>0</td>\n",
       "      <td>1</td>\n",
       "      <td>0</td>\n",
       "    </tr>\n",
       "    <tr>\n",
       "      <th>333590</th>\n",
       "      <td>1</td>\n",
       "      <td>1</td>\n",
       "      <td>0</td>\n",
       "      <td>0</td>\n",
       "      <td>1</td>\n",
       "      <td>0</td>\n",
       "      <td>0</td>\n",
       "      <td>0.803275</td>\n",
       "      <td>0</td>\n",
       "      <td>1.000000</td>\n",
       "      <td>...</td>\n",
       "      <td>0</td>\n",
       "      <td>1</td>\n",
       "      <td>1</td>\n",
       "      <td>1</td>\n",
       "      <td>1</td>\n",
       "      <td>1</td>\n",
       "      <td>0</td>\n",
       "      <td>0</td>\n",
       "      <td>0</td>\n",
       "      <td>0</td>\n",
       "    </tr>\n",
       "    <tr>\n",
       "      <th>306057</th>\n",
       "      <td>1</td>\n",
       "      <td>0</td>\n",
       "      <td>0</td>\n",
       "      <td>1</td>\n",
       "      <td>0</td>\n",
       "      <td>0</td>\n",
       "      <td>1</td>\n",
       "      <td>0.399416</td>\n",
       "      <td>0</td>\n",
       "      <td>0.111111</td>\n",
       "      <td>...</td>\n",
       "      <td>1</td>\n",
       "      <td>1</td>\n",
       "      <td>1</td>\n",
       "      <td>0</td>\n",
       "      <td>0</td>\n",
       "      <td>0</td>\n",
       "      <td>0</td>\n",
       "      <td>0</td>\n",
       "      <td>0</td>\n",
       "      <td>0</td>\n",
       "    </tr>\n",
       "    <tr>\n",
       "      <th>113343</th>\n",
       "      <td>1</td>\n",
       "      <td>1</td>\n",
       "      <td>1</td>\n",
       "      <td>0</td>\n",
       "      <td>0</td>\n",
       "      <td>0</td>\n",
       "      <td>0</td>\n",
       "      <td>0.285260</td>\n",
       "      <td>1</td>\n",
       "      <td>0.111111</td>\n",
       "      <td>...</td>\n",
       "      <td>1</td>\n",
       "      <td>1</td>\n",
       "      <td>0</td>\n",
       "      <td>0</td>\n",
       "      <td>1</td>\n",
       "      <td>0</td>\n",
       "      <td>0</td>\n",
       "      <td>0</td>\n",
       "      <td>1</td>\n",
       "      <td>0</td>\n",
       "    </tr>\n",
       "    <tr>\n",
       "      <th>85214</th>\n",
       "      <td>1</td>\n",
       "      <td>1</td>\n",
       "      <td>0</td>\n",
       "      <td>1</td>\n",
       "      <td>0</td>\n",
       "      <td>0</td>\n",
       "      <td>0</td>\n",
       "      <td>0.782262</td>\n",
       "      <td>0</td>\n",
       "      <td>0.111111</td>\n",
       "      <td>...</td>\n",
       "      <td>1</td>\n",
       "      <td>1</td>\n",
       "      <td>0</td>\n",
       "      <td>0</td>\n",
       "      <td>0</td>\n",
       "      <td>0</td>\n",
       "      <td>0</td>\n",
       "      <td>1</td>\n",
       "      <td>1</td>\n",
       "      <td>1</td>\n",
       "    </tr>\n",
       "    <tr>\n",
       "      <th>273478</th>\n",
       "      <td>1</td>\n",
       "      <td>1</td>\n",
       "      <td>1</td>\n",
       "      <td>0</td>\n",
       "      <td>0</td>\n",
       "      <td>0</td>\n",
       "      <td>0</td>\n",
       "      <td>0.580417</td>\n",
       "      <td>0</td>\n",
       "      <td>0.111111</td>\n",
       "      <td>...</td>\n",
       "      <td>0</td>\n",
       "      <td>1</td>\n",
       "      <td>1</td>\n",
       "      <td>0</td>\n",
       "      <td>1</td>\n",
       "      <td>1</td>\n",
       "      <td>0</td>\n",
       "      <td>0</td>\n",
       "      <td>1</td>\n",
       "      <td>0</td>\n",
       "    </tr>\n",
       "    <tr>\n",
       "      <th>84863</th>\n",
       "      <td>1</td>\n",
       "      <td>1</td>\n",
       "      <td>0</td>\n",
       "      <td>1</td>\n",
       "      <td>0</td>\n",
       "      <td>0</td>\n",
       "      <td>0</td>\n",
       "      <td>0.911808</td>\n",
       "      <td>1</td>\n",
       "      <td>0.111111</td>\n",
       "      <td>...</td>\n",
       "      <td>1</td>\n",
       "      <td>0</td>\n",
       "      <td>0</td>\n",
       "      <td>0</td>\n",
       "      <td>1</td>\n",
       "      <td>0</td>\n",
       "      <td>0</td>\n",
       "      <td>1</td>\n",
       "      <td>1</td>\n",
       "      <td>0</td>\n",
       "    </tr>\n",
       "    <tr>\n",
       "      <th>277854</th>\n",
       "      <td>1</td>\n",
       "      <td>1</td>\n",
       "      <td>0</td>\n",
       "      <td>0</td>\n",
       "      <td>0</td>\n",
       "      <td>1</td>\n",
       "      <td>0</td>\n",
       "      <td>0.521636</td>\n",
       "      <td>1</td>\n",
       "      <td>0.111111</td>\n",
       "      <td>...</td>\n",
       "      <td>1</td>\n",
       "      <td>0</td>\n",
       "      <td>0</td>\n",
       "      <td>1</td>\n",
       "      <td>1</td>\n",
       "      <td>0</td>\n",
       "      <td>0</td>\n",
       "      <td>0</td>\n",
       "      <td>1</td>\n",
       "      <td>1</td>\n",
       "    </tr>\n",
       "  </tbody>\n",
       "</table>\n",
       "<p>10 rows × 243 columns</p>\n",
       "</div>"
      ],
      "text/plain": [
       "        UF_1  UF_2  UF_3  UF_4  UF_5  UF_6  UF_7     IDADE  SEXO_1  \\\n",
       "264499     1     1     0     0     0     0     1  0.365567       0   \n",
       "37020      1     0     1     1     0     0     0  0.400268       0   \n",
       "69476      1     0     1     0     1     0     0  0.272141       0   \n",
       "333590     1     1     0     0     1     0     0  0.803275       0   \n",
       "306057     1     0     0     1     0     0     1  0.399416       0   \n",
       "113343     1     1     1     0     0     0     0  0.285260       1   \n",
       "85214      1     1     0     1     0     0     0  0.782262       0   \n",
       "273478     1     1     1     0     0     0     0  0.580417       0   \n",
       "84863      1     1     0     1     0     0     0  0.911808       1   \n",
       "277854     1     1     0     0     0     1     0  0.521636       1   \n",
       "\n",
       "        NIVEL_RELACIONAMENTO_CREDITO01   ...     CEP4_5  CEP4_6  CEP4_7  \\\n",
       "264499                        0.111111   ...          1       0       1   \n",
       "37020                         0.111111   ...          0       1       0   \n",
       "69476                         0.111111   ...          1       0       0   \n",
       "333590                        1.000000   ...          0       1       1   \n",
       "306057                        0.111111   ...          1       1       1   \n",
       "113343                        0.111111   ...          1       1       0   \n",
       "85214                         0.111111   ...          1       1       0   \n",
       "273478                        0.111111   ...          0       1       1   \n",
       "84863                         0.111111   ...          1       0       0   \n",
       "277854                        0.111111   ...          1       0       0   \n",
       "\n",
       "        CEP4_8  CEP4_9  CEP4_10  CEP4_11  CEP4_12  CEP4_13  CEP4_14  \n",
       "264499       0       1        0        0        0        1        0  \n",
       "37020        1       1        0        0        0        1        0  \n",
       "69476        1       1        1        1        0        1        0  \n",
       "333590       1       1        1        0        0        0        0  \n",
       "306057       0       0        0        0        0        0        0  \n",
       "113343       0       1        0        0        0        1        0  \n",
       "85214        0       0        0        0        1        1        1  \n",
       "273478       0       1        1        0        0        1        0  \n",
       "84863        0       1        0        0        1        1        0  \n",
       "277854       1       1        0        0        0        1        1  \n",
       "\n",
       "[10 rows x 243 columns]"
      ]
     },
     "execution_count": 7,
     "metadata": {},
     "output_type": "execute_result"
    }
   ],
   "source": [
    "features.head(10)"
   ]
  },
  {
   "cell_type": "code",
   "execution_count": 8,
   "metadata": {
    "colab": {
     "autoexec": {
      "startup": false,
      "wait_interval": 0
     }
    },
    "colab_type": "code",
    "collapsed": true,
    "id": "vrTBDGb0f7XO"
   },
   "outputs": [],
   "source": [
    "labels = training_data[\"IND_BOM_1_1\"]"
   ]
  },
  {
   "cell_type": "code",
   "execution_count": 9,
   "metadata": {},
   "outputs": [
    {
     "data": {
      "text/plain": [
       "(260761,)"
      ]
     },
     "execution_count": 9,
     "metadata": {},
     "output_type": "execute_result"
    }
   ],
   "source": [
    "labels.shape"
   ]
  },
  {
   "cell_type": "code",
   "execution_count": 10,
   "metadata": {
    "colab": {
     "autoexec": {
      "startup": false,
      "wait_interval": 0
     }
    },
    "colab_type": "code",
    "collapsed": true,
    "id": "pt0S5t9yf7XQ"
   },
   "outputs": [],
   "source": [
    "from sklearn.model_selection import train_test_split\n",
    "from keras.models import Sequential\n",
    "from keras.layers import Dense\n",
    "\n",
    "from sklearn.preprocessing import StandardScaler\n",
    "from imblearn.over_sampling import SMOTE"
   ]
  },
  {
   "cell_type": "markdown",
   "metadata": {},
   "source": [
    "### Before Oversampling"
   ]
  },
  {
   "cell_type": "code",
   "execution_count": 19,
   "metadata": {
    "colab": {
     "autoexec": {
      "startup": false,
      "wait_interval": 0
     }
    },
    "colab_type": "code",
    "collapsed": true,
    "id": "xrXbhsrRf7XT"
   },
   "outputs": [],
   "source": [
    "#X_train, X_test, y_train, y_test = train_test_split(features, labels, test_size=1/4, \n",
    "#                                                    random_state=42, stratify=labels)\n",
    "#X_train, X_val, y_train, y_val = train_test_split(X_train, y_train, test_size=1/3, \n",
    "#                                                  random_state=42, stratify=y_train)"
   ]
  },
  {
   "cell_type": "code",
   "execution_count": 28,
   "metadata": {
    "colab": {
     "autoexec": {
      "startup": false,
      "wait_interval": 0
     }
    },
    "colab_type": "code",
    "collapsed": true,
    "id": "xrXbhsrRf7XT"
   },
   "outputs": [],
   "source": [
    "X_train, X_test, y_train, y_test = train_test_split(features, labels, test_size=0.3, random_state=0)"
   ]
  },
  {
   "cell_type": "code",
   "execution_count": null,
   "metadata": {},
   "outputs": [],
   "source": [
    "print(\"Before OverSampling, counts of label '1': {}\".format(sum(y_train==1)))\n",
    "print(\"Before OverSampling, counts of label '0': {} \\n\".format(sum(y_train==0)))\n",
    "\n",
    "sm = SMOTE(random_state=2)\n",
    "X_train_res, y_train_res = sm.fit_sample(X_train, y_train.ravel())\n",
    "\n",
    "print('After OverSampling, the shape of train_X: {}'.format(X_train_res.shape))\n",
    "print('After OverSampling, the shape of train_y: {} \\n'.format(y_train_res.shape))\n",
    "\n",
    "print(\"After OverSampling, counts of label '1': {}\".format(sum(y_train_res==1)))\n",
    "print(\"After OverSampling, counts of label '0': {}\".format(sum(y_train_res==0)))\n",
    "\n"
   ]
  },
  {
   "cell_type": "markdown",
   "metadata": {},
   "source": [
    "# CORRECT SAMPLING"
   ]
  },
  {
   "cell_type": "code",
   "execution_count": 5,
   "metadata": {},
   "outputs": [],
   "source": [
    "X_test, y_test = (test_data.drop(\"IND_BOM_1_1\", axis=1), test_data[\"IND_BOM_1_1\"])"
   ]
  },
  {
   "cell_type": "code",
   "execution_count": 76,
   "metadata": {},
   "outputs": [],
   "source": [
    "X_train, y_train = (training_data.drop(\"IND_BOM_1_1\", axis=1), training_data[\"IND_BOM_1_1\"])"
   ]
  },
  {
   "cell_type": "code",
   "execution_count": 80,
   "metadata": {},
   "outputs": [
    {
     "data": {
      "text/plain": [
       "(260761,)"
      ]
     },
     "execution_count": 80,
     "metadata": {},
     "output_type": "execute_result"
    }
   ],
   "source": [
    "y_train.shape"
   ]
  },
  {
   "cell_type": "code",
   "execution_count": 85,
   "metadata": {},
   "outputs": [],
   "source": [
    "X_train_whole = pandas.concat([X_train, X_test])"
   ]
  },
  {
   "cell_type": "code",
   "execution_count": 86,
   "metadata": {},
   "outputs": [
    {
     "data": {
      "text/plain": [
       "(389196, 243)"
      ]
     },
     "execution_count": 86,
     "metadata": {},
     "output_type": "execute_result"
    }
   ],
   "source": [
    "X_train_whole.shape"
   ]
  },
  {
   "cell_type": "code",
   "execution_count": 87,
   "metadata": {},
   "outputs": [],
   "source": [
    "y_train_whole = pandas.concat([y_train, y_test])"
   ]
  },
  {
   "cell_type": "code",
   "execution_count": 88,
   "metadata": {},
   "outputs": [
    {
     "data": {
      "text/plain": [
       "(389196,)"
      ]
     },
     "execution_count": 88,
     "metadata": {},
     "output_type": "execute_result"
    }
   ],
   "source": [
    "y_train_whole.shape"
   ]
  },
  {
   "cell_type": "code",
   "execution_count": null,
   "metadata": {},
   "outputs": [],
   "source": [
    "# if creating different samples from training set, use this paragraph\n",
    "training_data_sample = training_data.sample(frac=0.7)\n",
    "X_train, y_train = (training_data_sample.drop(\"IND_BOM_1_1\", axis=1), training_data_sample[\"IND_BOM_1_1\"])"
   ]
  },
  {
   "cell_type": "code",
   "execution_count": 13,
   "metadata": {},
   "outputs": [
    {
     "data": {
      "text/plain": [
       "(260761, 243)"
      ]
     },
     "execution_count": 13,
     "metadata": {},
     "output_type": "execute_result"
    }
   ],
   "source": [
    "X_train.shape"
   ]
  },
  {
   "cell_type": "code",
   "execution_count": 18,
   "metadata": {},
   "outputs": [
    {
     "data": {
      "text/plain": [
       "(128435, 243)"
      ]
     },
     "execution_count": 18,
     "metadata": {},
     "output_type": "execute_result"
    }
   ],
   "source": [
    "X_test.shape"
   ]
  },
  {
   "cell_type": "markdown",
   "metadata": {},
   "source": [
    "# Create function to plot AUC_ROC given model and test dataset"
   ]
  },
  {
   "cell_type": "code",
   "execution_count": 7,
   "metadata": {},
   "outputs": [],
   "source": [
    "from sklearn.metrics import roc_curve, auc\n",
    "import matplotlib.pyplot as plt"
   ]
  },
  {
   "cell_type": "code",
   "execution_count": 8,
   "metadata": {},
   "outputs": [],
   "source": [
    "def plot_auc_roc(model, x_test, y_test):\n",
    "    probs = model.predict_proba(x_test)\n",
    "    preds = probs[:, 1]\n",
    "    fpr, tpr, threshold = roc_curve(y_test, preds)\n",
    "    roc_auc = auc(fpr, tpr)\n",
    "    \n",
    "    plt.title('Receiver Operating Characteristic')\n",
    "    plt.plot(fpr, tpr, 'b', label = 'AUC = %0.2f' % roc_auc)\n",
    "    plt.legend(loc = 'lower right')\n",
    "    plt.plot([0, 1], [0, 1],'r--')\n",
    "    plt.xlim([0, 1])\n",
    "    plt.ylim([0, 1])\n",
    "    plt.ylabel('True Positive Rate')\n",
    "    plt.xlabel('False Positive Rate')\n",
    "    plt.show()"
   ]
  },
  {
   "cell_type": "markdown",
   "metadata": {
    "colab_type": "text",
    "id": "BnMarR8Cf7Xx"
   },
   "source": [
    "# Evaluation"
   ]
  },
  {
   "cell_type": "code",
   "execution_count": 9,
   "metadata": {
    "colab": {
     "autoexec": {
      "startup": false,
      "wait_interval": 0
     }
    },
    "colab_type": "code",
    "collapsed": true,
    "id": "1PYMF-fcf7Xx"
   },
   "outputs": [],
   "source": [
    "from sklearn.metrics import mean_squared_error as mse\n",
    "from sklearn.metrics import r2_score\n",
    "from sklearn.metrics import accuracy_score, recall_score, precision_score, f1_score\n",
    "from sklearn.metrics import roc_auc_score, average_precision_score"
   ]
  },
  {
   "cell_type": "code",
   "execution_count": 10,
   "metadata": {
    "colab": {
     "autoexec": {
      "startup": false,
      "wait_interval": 0
     }
    },
    "colab_type": "code",
    "collapsed": true,
    "id": "5iRz5PRVf7X6"
   },
   "outputs": [],
   "source": [
    "def compute_performance_metrics(y, y_pred_class, y_pred_scores=None):\n",
    "    accuracy = accuracy_score(y, y_pred_class)\n",
    "    recall = recall_score(y, y_pred_class)\n",
    "    precision = precision_score(y, y_pred_class)\n",
    "    f1 = f1_score(y, y_pred_class)\n",
    "    performance_metrics = (accuracy, recall, precision, f1)\n",
    "    if y_pred_scores is not None:\n",
    "        auroc = roc_auc_score(y, y_pred_scores)\n",
    "        aupr = average_precision_score(y, y_pred_scores)\n",
    "        performance_metrics = performance_metrics + (auroc, aupr)\n",
    "    return performance_metrics"
   ]
  },
  {
   "cell_type": "code",
   "execution_count": 11,
   "metadata": {
    "colab": {
     "autoexec": {
      "startup": false,
      "wait_interval": 0
     }
    },
    "colab_type": "code",
    "collapsed": true,
    "id": "X4UtgNY5f7X6"
   },
   "outputs": [],
   "source": [
    "def print_metrics_summary(accuracy, recall, precision, f1, auroc=None, aupr=None):\n",
    "    print()\n",
    "    print(\"{metric:<18}{value:.4f}\".format(metric=\"Accuracy:\", value=accuracy))\n",
    "    print(\"{metric:<18}{value:.4f}\".format(metric=\"Recall:\", value=recall))\n",
    "    print(\"{metric:<18}{value:.4f}\".format(metric=\"Precision:\", value=precision))\n",
    "    print(\"{metric:<18}{value:.4f}\".format(metric=\"F1:\", value=f1))\n",
    "    if auroc is not None:\n",
    "        print(\"{metric:<18}{value:.4f}\".format(metric=\"AUROC:\", value=auroc))\n",
    "    if aupr is not None:\n",
    "        print(\"{metric:<18}{value:.4f}\".format(metric=\"AUPR:\", value=aupr))"
   ]
  },
  {
   "cell_type": "markdown",
   "metadata": {},
   "source": [
    "# Neural Networks"
   ]
  },
  {
   "cell_type": "code",
   "execution_count": 36,
   "metadata": {},
   "outputs": [],
   "source": [
    "early_stopping = keras.callbacks.EarlyStopping(monitor='val_loss',\n",
    "                              min_delta=0,\n",
    "                              patience=20,\n",
    "                              verbose=0, mode='auto')"
   ]
  },
  {
   "cell_type": "code",
   "execution_count": 37,
   "metadata": {},
   "outputs": [],
   "source": [
    "classifier_1 = Sequential()\n",
    "classifier_1.add(Dense(16, activation='tanh', input_dim=input_dimension))\n",
    "classifier_1.add(Dense(16, activation='relu', input_dim=input_dimension))\n",
    "classifier_1.add(Dense(1, activation='sigmoid'))\n",
    "\n",
    "classifier_1.compile(optimizer='adam', loss='mean_squared_error', metrics=[\"accuracy\"])"
   ]
  },
  {
   "cell_type": "code",
   "execution_count": 38,
   "metadata": {
    "colab": {
     "autoexec": {
      "startup": false,
      "wait_interval": 0
     }
    },
    "colab_type": "code",
    "id": "senmQCDef7Xc"
   },
   "outputs": [],
   "source": [
    "classifier_2 = Sequential()\n",
    "classifier_2.add(Dense(16, activation='tanh', input_dim=input_dimension))\n",
    "classifier_2.add(Dense(16, activation='tanh', input_dim=input_dimension))\n",
    "classifier_2.add(Dense(8, activation='relu', input_dim=input_dimension/2))\n",
    "classifier_2.add(Dense(1, activation='sigmoid'))\n",
    "\n",
    "classifier_2.compile(optimizer='adam', loss='mean_squared_error', metrics=[\"accuracy\"])"
   ]
  },
  {
   "cell_type": "code",
   "execution_count": 39,
   "metadata": {},
   "outputs": [],
   "source": [
    "classifier_3 = Sequential()\n",
    "classifier_3.add(Dense(16, activation='relu', input_dim=input_dimension))\n",
    "classifier_3.add(Dense(8, activation='relu', input_dim=input_dimension))\n",
    "classifier_3.add(Dense(1, activation='sigmoid'))\n",
    "\n",
    "classifier_3.compile(optimizer='adam', loss='mean_squared_error', metrics=[\"accuracy\"])"
   ]
  },
  {
   "cell_type": "markdown",
   "metadata": {
    "colab_type": "text",
    "id": "z7_JtotLf7Xe"
   },
   "source": [
    "I use as_matrix because Keras expects a Numpy array instead of a dataframe."
   ]
  },
  {
   "cell_type": "code",
   "execution_count": 40,
   "metadata": {
    "colab": {
     "autoexec": {
      "startup": false,
      "wait_interval": 0
     }
    },
    "colab_type": "code",
    "id": "Rri7yLInf7Xf",
    "outputId": "7f969378-2d9a-4069-98d5-578e60ec4ee3"
   },
   "outputs": [
    {
     "name": "stdout",
     "output_type": "stream",
     "text": [
      "_________________________________________________________________\n",
      "Layer (type)                 Output Shape              Param #   \n",
      "=================================================================\n",
      "dense_1 (Dense)              (None, 16)                3904      \n",
      "_________________________________________________________________\n",
      "dense_2 (Dense)              (None, 16)                272       \n",
      "_________________________________________________________________\n",
      "dense_3 (Dense)              (None, 1)                 17        \n",
      "=================================================================\n",
      "Total params: 4,193\n",
      "Trainable params: 4,193\n",
      "Non-trainable params: 0\n",
      "_________________________________________________________________\n"
     ]
    }
   ],
   "source": [
    "classifier_1.summary()"
   ]
  },
  {
   "cell_type": "code",
   "execution_count": 41,
   "metadata": {},
   "outputs": [
    {
     "name": "stdout",
     "output_type": "stream",
     "text": [
      "_________________________________________________________________\n",
      "Layer (type)                 Output Shape              Param #   \n",
      "=================================================================\n",
      "dense_4 (Dense)              (None, 16)                3904      \n",
      "_________________________________________________________________\n",
      "dense_5 (Dense)              (None, 16)                272       \n",
      "_________________________________________________________________\n",
      "dense_6 (Dense)              (None, 8)                 136       \n",
      "_________________________________________________________________\n",
      "dense_7 (Dense)              (None, 1)                 9         \n",
      "=================================================================\n",
      "Total params: 4,321\n",
      "Trainable params: 4,321\n",
      "Non-trainable params: 0\n",
      "_________________________________________________________________\n"
     ]
    }
   ],
   "source": [
    "classifier_2.summary()"
   ]
  },
  {
   "cell_type": "code",
   "execution_count": 42,
   "metadata": {},
   "outputs": [
    {
     "name": "stdout",
     "output_type": "stream",
     "text": [
      "_________________________________________________________________\n",
      "Layer (type)                 Output Shape              Param #   \n",
      "=================================================================\n",
      "dense_8 (Dense)              (None, 16)                3904      \n",
      "_________________________________________________________________\n",
      "dense_9 (Dense)              (None, 8)                 136       \n",
      "_________________________________________________________________\n",
      "dense_10 (Dense)             (None, 1)                 9         \n",
      "=================================================================\n",
      "Total params: 4,049\n",
      "Trainable params: 4,049\n",
      "Non-trainable params: 0\n",
      "_________________________________________________________________\n"
     ]
    }
   ],
   "source": [
    "classifier_3.summary()"
   ]
  },
  {
   "cell_type": "code",
   "execution_count": 43,
   "metadata": {},
   "outputs": [
    {
     "name": "stderr",
     "output_type": "stream",
     "text": [
      "C:\\Users\\danil\\Anaconda3\\lib\\site-packages\\ipykernel_launcher.py:1: FutureWarning: Method .as_matrix will be removed in a future version. Use .values instead.\n",
      "  \"\"\"Entry point for launching an IPython kernel.\n"
     ]
    },
    {
     "name": "stdout",
     "output_type": "stream",
     "text": [
      "Train on 49622 samples, validate on 8757 samples\n",
      "Epoch 1/500\n",
      "49622/49622 [==============================] - 6s 124us/step - loss: 0.2145 - acc: 0.6632 - val_loss: 0.2072 - val_acc: 0.6735\n",
      "Epoch 2/500\n",
      "49622/49622 [==============================] - 7s 134us/step - loss: 0.2083 - acc: 0.6707 - val_loss: 0.2057 - val_acc: 0.6763\n",
      "Epoch 3/500\n",
      "49622/49622 [==============================] - 6s 124us/step - loss: 0.2066 - acc: 0.6737 - val_loss: 0.2047 - val_acc: 0.6788\n",
      "Epoch 4/500\n",
      "49622/49622 [==============================] - 5s 110us/step - loss: 0.2050 - acc: 0.6768 - val_loss: 0.2047 - val_acc: 0.6752\n",
      "Epoch 5/500\n",
      "49622/49622 [==============================] - 5s 105us/step - loss: 0.2039 - acc: 0.6798 - val_loss: 0.2041 - val_acc: 0.6780\n",
      "Epoch 6/500\n",
      "49622/49622 [==============================] - 8s 160us/step - loss: 0.2030 - acc: 0.6832 - val_loss: 0.2039 - val_acc: 0.6753\n",
      "Epoch 7/500\n",
      "49622/49622 [==============================] - 7s 144us/step - loss: 0.2021 - acc: 0.6834 - val_loss: 0.2041 - val_acc: 0.6788\n",
      "Epoch 8/500\n",
      "49622/49622 [==============================] - 9s 188us/step - loss: 0.2016 - acc: 0.6842 - val_loss: 0.2038 - val_acc: 0.6779\n",
      "Epoch 9/500\n",
      "49622/49622 [==============================] - 8s 156us/step - loss: 0.2010 - acc: 0.6860 - val_loss: 0.2041 - val_acc: 0.6782\n",
      "Epoch 10/500\n",
      "49622/49622 [==============================] - 6s 127us/step - loss: 0.1999 - acc: 0.6872 - val_loss: 0.2037 - val_acc: 0.6766\n",
      "Epoch 11/500\n",
      "49622/49622 [==============================] - 6s 124us/step - loss: 0.1994 - acc: 0.6888 - val_loss: 0.2052 - val_acc: 0.6800\n",
      "Epoch 12/500\n",
      "49622/49622 [==============================] - 7s 143us/step - loss: 0.1988 - acc: 0.6892 - val_loss: 0.2045 - val_acc: 0.6749\n",
      "Epoch 13/500\n",
      "49622/49622 [==============================] - 6s 120us/step - loss: 0.1981 - acc: 0.6911 - val_loss: 0.2051 - val_acc: 0.6732\n",
      "Epoch 14/500\n",
      "49622/49622 [==============================] - 7s 150us/step - loss: 0.1976 - acc: 0.6929 - val_loss: 0.2063 - val_acc: 0.6815\n",
      "Epoch 15/500\n",
      "49622/49622 [==============================] - 7s 148us/step - loss: 0.1965 - acc: 0.6957 - val_loss: 0.2054 - val_acc: 0.6741\n",
      "Epoch 16/500\n",
      "49622/49622 [==============================] - 9s 188us/step - loss: 0.1962 - acc: 0.6963 - val_loss: 0.2067 - val_acc: 0.6726\n",
      "Epoch 17/500\n",
      "49622/49622 [==============================] - 7s 140us/step - loss: 0.1956 - acc: 0.6960 - val_loss: 0.2058 - val_acc: 0.6765\n",
      "Epoch 18/500\n",
      "49622/49622 [==============================] - 6s 126us/step - loss: 0.1949 - acc: 0.6996 - val_loss: 0.2062 - val_acc: 0.6736\n",
      "Epoch 19/500\n",
      "49622/49622 [==============================] - 6s 126us/step - loss: 0.1944 - acc: 0.7000 - val_loss: 0.2083 - val_acc: 0.6690\n",
      "Epoch 20/500\n",
      "49622/49622 [==============================] - 7s 140us/step - loss: 0.1941 - acc: 0.7030 - val_loss: 0.2086 - val_acc: 0.6646\n",
      "Epoch 21/500\n",
      "49622/49622 [==============================] - 9s 187us/step - loss: 0.1933 - acc: 0.7033 - val_loss: 0.2081 - val_acc: 0.6662\n",
      "Epoch 22/500\n",
      "49622/49622 [==============================] - 7s 139us/step - loss: 0.1927 - acc: 0.7048 - val_loss: 0.2083 - val_acc: 0.6648\n",
      "Epoch 23/500\n",
      "49622/49622 [==============================] - 7s 141us/step - loss: 0.1926 - acc: 0.7058 - val_loss: 0.2094 - val_acc: 0.6663\n",
      "Epoch 24/500\n",
      "49622/49622 [==============================] - 8s 168us/step - loss: 0.1919 - acc: 0.7067 - val_loss: 0.2087 - val_acc: 0.6679\n",
      "Epoch 25/500\n",
      "49622/49622 [==============================] - 7s 147us/step - loss: 0.1914 - acc: 0.7085 - val_loss: 0.2105 - val_acc: 0.6610\n",
      "Epoch 26/500\n",
      "49622/49622 [==============================] - 6s 128us/step - loss: 0.1908 - acc: 0.7109 - val_loss: 0.2115 - val_acc: 0.6724\n",
      "Epoch 27/500\n",
      "49622/49622 [==============================] - 7s 135us/step - loss: 0.1906 - acc: 0.7087 - val_loss: 0.2111 - val_acc: 0.6598\n",
      "Epoch 28/500\n",
      "49622/49622 [==============================] - 7s 136us/step - loss: 0.1903 - acc: 0.7120 - val_loss: 0.2104 - val_acc: 0.6676\n",
      "Epoch 29/500\n",
      "49622/49622 [==============================] - 9s 187us/step - loss: 0.1898 - acc: 0.7120 - val_loss: 0.2111 - val_acc: 0.6713\n",
      "Epoch 30/500\n",
      "49622/49622 [==============================] - 6s 119us/step - loss: 0.1893 - acc: 0.7103 - val_loss: 0.2105 - val_acc: 0.6674\n"
     ]
    }
   ],
   "source": [
    "model = classifier_1.fit(X_train.as_matrix(), y_train.as_matrix(),epochs=500, callbacks=[early_stopping], validation_split=0.15)"
   ]
  },
  {
   "cell_type": "code",
   "execution_count": 45,
   "metadata": {},
   "outputs": [
    {
     "name": "stderr",
     "output_type": "stream",
     "text": [
      "C:\\Users\\danil\\Anaconda3\\lib\\site-packages\\ipykernel_launcher.py:1: FutureWarning: Method .as_matrix will be removed in a future version. Use .values instead.\n",
      "  \"\"\"Entry point for launching an IPython kernel.\n"
     ]
    },
    {
     "name": "stdout",
     "output_type": "stream",
     "text": [
      "Train on 49622 samples, validate on 8757 samples\n",
      "Epoch 1/500\n",
      "49622/49622 [==============================] - 8s 164us/step - loss: 0.2154 - acc: 0.6602 - val_loss: 0.2080 - val_acc: 0.6726\n",
      "Epoch 2/500\n",
      "49622/49622 [==============================] - 7s 136us/step - loss: 0.2080 - acc: 0.6707 - val_loss: 0.2056 - val_acc: 0.6783\n",
      "Epoch 3/500\n",
      "49622/49622 [==============================] - 8s 167us/step - loss: 0.2059 - acc: 0.6748 - val_loss: 0.2071 - val_acc: 0.6758\n",
      "Epoch 4/500\n",
      "49622/49622 [==============================] - 6s 122us/step - loss: 0.2049 - acc: 0.6765 - val_loss: 0.2038 - val_acc: 0.6763\n",
      "Epoch 5/500\n",
      "49622/49622 [==============================] - 7s 139us/step - loss: 0.2039 - acc: 0.6809 - val_loss: 0.2052 - val_acc: 0.6750\n",
      "Epoch 6/500\n",
      "49622/49622 [==============================] - 7s 132us/step - loss: 0.2030 - acc: 0.6818 - val_loss: 0.2060 - val_acc: 0.6684\n",
      "Epoch 7/500\n",
      "49622/49622 [==============================] - 6s 130us/step - loss: 0.2026 - acc: 0.6838 - val_loss: 0.2033 - val_acc: 0.6775\n",
      "Epoch 8/500\n",
      "49622/49622 [==============================] - 6s 124us/step - loss: 0.2019 - acc: 0.6840 - val_loss: 0.2051 - val_acc: 0.6725\n",
      "Epoch 9/500\n",
      "49622/49622 [==============================] - 6s 115us/step - loss: 0.2015 - acc: 0.6844 - val_loss: 0.2047 - val_acc: 0.6784\n",
      "Epoch 10/500\n",
      "49622/49622 [==============================] - 6s 116us/step - loss: 0.2010 - acc: 0.6859 - val_loss: 0.2064 - val_acc: 0.6696\n",
      "Epoch 11/500\n",
      "49622/49622 [==============================] - 6s 116us/step - loss: 0.2005 - acc: 0.6884 - val_loss: 0.2052 - val_acc: 0.6800\n",
      "Epoch 12/500\n",
      "49622/49622 [==============================] - 6s 113us/step - loss: 0.2001 - acc: 0.6882 - val_loss: 0.2040 - val_acc: 0.6775\n",
      "Epoch 13/500\n",
      "49622/49622 [==============================] - 6s 116us/step - loss: 0.1995 - acc: 0.6899 - val_loss: 0.2064 - val_acc: 0.6699\n",
      "Epoch 14/500\n",
      "49622/49622 [==============================] - 6s 120us/step - loss: 0.1993 - acc: 0.6901 - val_loss: 0.2064 - val_acc: 0.6685\n",
      "Epoch 15/500\n",
      "49622/49622 [==============================] - 6s 116us/step - loss: 0.1987 - acc: 0.6906 - val_loss: 0.2065 - val_acc: 0.6779\n",
      "Epoch 16/500\n",
      "49622/49622 [==============================] - 6s 111us/step - loss: 0.1981 - acc: 0.6927 - val_loss: 0.2055 - val_acc: 0.6789\n",
      "Epoch 17/500\n",
      "49622/49622 [==============================] - 6s 118us/step - loss: 0.1976 - acc: 0.6945 - val_loss: 0.2083 - val_acc: 0.6655\n",
      "Epoch 18/500\n",
      "49622/49622 [==============================] - 6s 117us/step - loss: 0.1974 - acc: 0.6952 - val_loss: 0.2075 - val_acc: 0.6660\n",
      "Epoch 19/500\n",
      "49622/49622 [==============================] - 6s 117us/step - loss: 0.1970 - acc: 0.6960 - val_loss: 0.2061 - val_acc: 0.6775\n",
      "Epoch 20/500\n",
      "49622/49622 [==============================] - 6s 113us/step - loss: 0.1966 - acc: 0.6972 - val_loss: 0.2068 - val_acc: 0.6796\n",
      "Epoch 21/500\n",
      "49622/49622 [==============================] - 6s 115us/step - loss: 0.1964 - acc: 0.6976 - val_loss: 0.2069 - val_acc: 0.6675\n",
      "Epoch 22/500\n",
      "49622/49622 [==============================] - 6s 113us/step - loss: 0.1958 - acc: 0.6978 - val_loss: 0.2067 - val_acc: 0.6765\n",
      "Epoch 23/500\n",
      "49622/49622 [==============================] - 6s 116us/step - loss: 0.1958 - acc: 0.6972 - val_loss: 0.2087 - val_acc: 0.6639\n",
      "Epoch 24/500\n",
      "49622/49622 [==============================] - 6s 118us/step - loss: 0.1954 - acc: 0.7001 - val_loss: 0.2087 - val_acc: 0.6771\n",
      "Epoch 25/500\n",
      "49622/49622 [==============================] - 6s 113us/step - loss: 0.1951 - acc: 0.7002 - val_loss: 0.2088 - val_acc: 0.6701\n",
      "Epoch 26/500\n",
      "49622/49622 [==============================] - 6s 112us/step - loss: 0.1948 - acc: 0.7010 - val_loss: 0.2078 - val_acc: 0.6757\n",
      "Epoch 27/500\n",
      "49622/49622 [==============================] - 6s 111us/step - loss: 0.1946 - acc: 0.7021 - val_loss: 0.2085 - val_acc: 0.6694\n"
     ]
    }
   ],
   "source": [
    "model = classifier_3.fit(X_train.as_matrix(), y_train.as_matrix(),epochs=500, callbacks=[early_stopping], validation_split=0.15)"
   ]
  },
  {
   "cell_type": "code",
   "execution_count": 44,
   "metadata": {
    "colab": {
     "autoexec": {
      "startup": false,
      "wait_interval": 0
     }
    },
    "colab_type": "code",
    "id": "96eZigggf7Xg",
    "outputId": "a59b89bb-a36b-4145-9574-55dd6d273c8b"
   },
   "outputs": [
    {
     "name": "stderr",
     "output_type": "stream",
     "text": [
      "C:\\Users\\danil\\Anaconda3\\lib\\site-packages\\ipykernel_launcher.py:1: FutureWarning: Method .as_matrix will be removed in a future version. Use .values instead.\n",
      "  \"\"\"Entry point for launching an IPython kernel.\n"
     ]
    },
    {
     "name": "stdout",
     "output_type": "stream",
     "text": [
      "Train on 49622 samples, validate on 8757 samples\n",
      "Epoch 1/500\n",
      "49622/49622 [==============================] - 6s 125us/step - loss: 0.2142 - acc: 0.6627 - val_loss: 0.2063 - val_acc: 0.6773\n",
      "Epoch 2/500\n",
      "49622/49622 [==============================] - 6s 114us/step - loss: 0.2075 - acc: 0.6710 - val_loss: 0.2053 - val_acc: 0.6817\n",
      "Epoch 3/500\n",
      "49622/49622 [==============================] - 6s 118us/step - loss: 0.2057 - acc: 0.6737 - val_loss: 0.2077 - val_acc: 0.6815\n",
      "Epoch 4/500\n",
      "49622/49622 [==============================] - 6s 127us/step - loss: 0.2042 - acc: 0.6785 - val_loss: 0.2043 - val_acc: 0.6824\n",
      "Epoch 5/500\n",
      "49622/49622 [==============================] - 8s 156us/step - loss: 0.2034 - acc: 0.6784 - val_loss: 0.2042 - val_acc: 0.6845\n",
      "Epoch 6/500\n",
      "49622/49622 [==============================] - 6s 125us/step - loss: 0.2024 - acc: 0.6815 - val_loss: 0.2042 - val_acc: 0.6759\n",
      "Epoch 7/500\n",
      "49622/49622 [==============================] - 6s 119us/step - loss: 0.2014 - acc: 0.6844 - val_loss: 0.2036 - val_acc: 0.6838\n",
      "Epoch 8/500\n",
      "49622/49622 [==============================] - 6s 116us/step - loss: 0.2008 - acc: 0.6842 - val_loss: 0.2058 - val_acc: 0.6871\n",
      "Epoch 9/500\n",
      "49622/49622 [==============================] - 6s 119us/step - loss: 0.1999 - acc: 0.6870 - val_loss: 0.2035 - val_acc: 0.6831\n",
      "Epoch 10/500\n",
      "49622/49622 [==============================] - 5s 107us/step - loss: 0.1994 - acc: 0.6883 - val_loss: 0.2045 - val_acc: 0.6788\n",
      "Epoch 11/500\n",
      "49622/49622 [==============================] - 5s 100us/step - loss: 0.1984 - acc: 0.6902 - val_loss: 0.2061 - val_acc: 0.6680\n",
      "Epoch 12/500\n",
      "49622/49622 [==============================] - 5s 108us/step - loss: 0.1978 - acc: 0.6911 - val_loss: 0.2059 - val_acc: 0.6732\n",
      "Epoch 13/500\n",
      "49622/49622 [==============================] - 7s 142us/step - loss: 0.1971 - acc: 0.6943 - val_loss: 0.2052 - val_acc: 0.6825\n",
      "Epoch 14/500\n",
      "49622/49622 [==============================] - 9s 187us/step - loss: 0.1969 - acc: 0.6926 - val_loss: 0.2060 - val_acc: 0.6815\n",
      "Epoch 15/500\n",
      "49622/49622 [==============================] - 7s 138us/step - loss: 0.1961 - acc: 0.6958 - val_loss: 0.2055 - val_acc: 0.6733\n",
      "Epoch 16/500\n",
      "49622/49622 [==============================] - 6s 120us/step - loss: 0.1952 - acc: 0.6981 - val_loss: 0.2063 - val_acc: 0.6723\n",
      "Epoch 17/500\n",
      "49622/49622 [==============================] - 6s 119us/step - loss: 0.1947 - acc: 0.6984 - val_loss: 0.2064 - val_acc: 0.6731\n",
      "Epoch 18/500\n",
      "49622/49622 [==============================] - 7s 133us/step - loss: 0.1940 - acc: 0.7009 - val_loss: 0.2081 - val_acc: 0.6623\n",
      "Epoch 19/500\n",
      "49622/49622 [==============================] - 6s 118us/step - loss: 0.1933 - acc: 0.7013 - val_loss: 0.2074 - val_acc: 0.6753\n",
      "Epoch 20/500\n",
      "49622/49622 [==============================] - 6s 114us/step - loss: 0.1929 - acc: 0.7040 - val_loss: 0.2071 - val_acc: 0.6708\n",
      "Epoch 21/500\n",
      "49622/49622 [==============================] - 6s 115us/step - loss: 0.1925 - acc: 0.7044 - val_loss: 0.2101 - val_acc: 0.6622\n",
      "Epoch 22/500\n",
      "49622/49622 [==============================] - 6s 114us/step - loss: 0.1921 - acc: 0.7049 - val_loss: 0.2088 - val_acc: 0.6692\n",
      "Epoch 23/500\n",
      "49622/49622 [==============================] - 6s 118us/step - loss: 0.1916 - acc: 0.7051 - val_loss: 0.2093 - val_acc: 0.6739\n",
      "Epoch 24/500\n",
      "49622/49622 [==============================] - 6s 120us/step - loss: 0.1910 - acc: 0.7074 - val_loss: 0.2108 - val_acc: 0.6686\n",
      "Epoch 25/500\n",
      "49622/49622 [==============================] - 7s 147us/step - loss: 0.1906 - acc: 0.7093 - val_loss: 0.2097 - val_acc: 0.6751\n",
      "Epoch 26/500\n",
      "49622/49622 [==============================] - 7s 146us/step - loss: 0.1901 - acc: 0.7100 - val_loss: 0.2089 - val_acc: 0.6721\n",
      "Epoch 27/500\n",
      "49622/49622 [==============================] - 7s 146us/step - loss: 0.1894 - acc: 0.7115 - val_loss: 0.2102 - val_acc: 0.6693\n",
      "Epoch 28/500\n",
      "49622/49622 [==============================] - 9s 175us/step - loss: 0.1891 - acc: 0.7128 - val_loss: 0.2112 - val_acc: 0.6646\n",
      "Epoch 29/500\n",
      "49622/49622 [==============================] - 12s 246us/step - loss: 0.1889 - acc: 0.7139 - val_loss: 0.2118 - val_acc: 0.6634\n"
     ]
    }
   ],
   "source": [
    "model = classifier_2.fit(X_train.as_matrix(), y_train.as_matrix(),epochs=500, callbacks=[early_stopping], validation_split=0.15)"
   ]
  },
  {
   "cell_type": "code",
   "execution_count": 46,
   "metadata": {},
   "outputs": [],
   "source": [
    "from keras.layers import concatenate\n",
    "from keras.models import Model\n",
    "from keras.layers import Input\n",
    "from keras.layers.core import Dense\n",
    "from keras.layers.merge import concatenate"
   ]
  },
  {
   "cell_type": "code",
   "execution_count": 47,
   "metadata": {},
   "outputs": [],
   "source": [
    "inputs = Input(shape=(243,))\n",
    "\n",
    "x1 = Dense(16, activation=\"tanh\")(inputs)\n",
    "x1 = Dense(16, activation=\"relu\")(x1)\n",
    "\n",
    "x2 = Dense(16, activation=\"tanh\")(inputs)\n",
    "x2 = Dense(8, activation=\"relu\")(x2)\n",
    "\n",
    "x3 = Dense(16, activation=\"tanh\")(inputs)\n",
    "x3 = Dense(16, activation=\"tanh\")(x3)\n",
    "x3 = Dense(8, activation=\"relu\")(x3)\n",
    "\n",
    "x4 = concatenate([x1,x2,x3])\n",
    "\n",
    "prediction = Dense(1, activation=\"sigmoid\")(x4)\n",
    "\n",
    "voting_classifier = Model(inputs=inputs, outputs= prediction)\n",
    "voting_classifier.compile(optimizer='adam', loss='mean_squared_error', metrics=[\"accuracy\"])"
   ]
  },
  {
   "cell_type": "code",
   "execution_count": 53,
   "metadata": {},
   "outputs": [],
   "source": [
    "early_stopping_voting = keras.callbacks.EarlyStopping(monitor='val_loss',\n",
    "                              min_delta=0,\n",
    "                              patience=10,\n",
    "                              verbose=0, mode='auto')"
   ]
  },
  {
   "cell_type": "code",
   "execution_count": 54,
   "metadata": {},
   "outputs": [
    {
     "name": "stderr",
     "output_type": "stream",
     "text": [
      "C:\\Users\\danil\\Anaconda3\\lib\\site-packages\\ipykernel_launcher.py:1: FutureWarning: Method .as_matrix will be removed in a future version. Use .values instead.\n",
      "  \"\"\"Entry point for launching an IPython kernel.\n"
     ]
    },
    {
     "name": "stdout",
     "output_type": "stream",
     "text": [
      "Train on 49622 samples, validate on 8757 samples\n",
      "Epoch 1/500\n",
      "49622/49622 [==============================] - 6s 127us/step - loss: 0.1666 - acc: 0.7577 - val_loss: 0.2292 - val_acc: 0.6459\n",
      "Epoch 2/500\n",
      "49622/49622 [==============================] - 7s 136us/step - loss: 0.1654 - acc: 0.7612 - val_loss: 0.2301 - val_acc: 0.6517\n",
      "Epoch 3/500\n",
      "49622/49622 [==============================] - 7s 140us/step - loss: 0.1639 - acc: 0.7650 - val_loss: 0.2323 - val_acc: 0.6433\n",
      "Epoch 4/500\n",
      "49622/49622 [==============================] - 6s 126us/step - loss: 0.1629 - acc: 0.7669 - val_loss: 0.2308 - val_acc: 0.6599\n",
      "Epoch 5/500\n",
      "49622/49622 [==============================] - 7s 131us/step - loss: 0.1617 - acc: 0.7688 - val_loss: 0.2331 - val_acc: 0.6493\n",
      "Epoch 6/500\n",
      "49622/49622 [==============================] - 7s 136us/step - loss: 0.1604 - acc: 0.7738 - val_loss: 0.2350 - val_acc: 0.6433\n",
      "Epoch 7/500\n",
      "49622/49622 [==============================] - 7s 135us/step - loss: 0.1592 - acc: 0.7733 - val_loss: 0.2365 - val_acc: 0.6426\n",
      "Epoch 8/500\n",
      "49622/49622 [==============================] - 7s 133us/step - loss: 0.1583 - acc: 0.7753 - val_loss: 0.2370 - val_acc: 0.6437\n",
      "Epoch 9/500\n",
      "49622/49622 [==============================] - 6s 129us/step - loss: 0.1569 - acc: 0.7787 - val_loss: 0.2341 - val_acc: 0.6558\n",
      "Epoch 10/500\n",
      "49622/49622 [==============================] - 7s 132us/step - loss: 0.1563 - acc: 0.7801 - val_loss: 0.2376 - val_acc: 0.6571\n",
      "Epoch 11/500\n",
      "49622/49622 [==============================] - 7s 133us/step - loss: 0.1547 - acc: 0.7836 - val_loss: 0.2374 - val_acc: 0.6534\n"
     ]
    },
    {
     "data": {
      "text/plain": [
       "<keras.callbacks.History at 0x2a449f3c9e8>"
      ]
     },
     "execution_count": 54,
     "metadata": {},
     "output_type": "execute_result"
    }
   ],
   "source": [
    "voting_classifier.fit(X_train.as_matrix(), y_train.as_matrix(),epochs=500, callbacks=[early_stopping_voting], validation_split=0.15)"
   ]
  },
  {
   "cell_type": "code",
   "execution_count": null,
   "metadata": {
    "colab": {
     "autoexec": {
      "startup": false,
      "wait_interval": 0
     }
    },
    "colab_type": "code",
    "id": "IPdXIjuef7Xk"
   },
   "outputs": [],
   "source": [
    "from sklearn.ensemble import GradientBoostingClassifier, RandomForestClassifier, VotingClassifier"
   ]
  },
  {
   "cell_type": "code",
   "execution_count": null,
   "metadata": {},
   "outputs": [],
   "source": [
    "voting_classifier = VotingClassifier([('classifier_1', classifier_1), ('classifier_2', classifier_2), ('classifier_3',classifier_3)], voting='soft')"
   ]
  },
  {
   "cell_type": "code",
   "execution_count": null,
   "metadata": {},
   "outputs": [],
   "source": [
    "voting_classifier.fit(X_train, y_train)"
   ]
  },
  {
   "cell_type": "markdown",
   "metadata": {
    "colab_type": "text",
    "id": "gltINz0wf7Xn"
   },
   "source": [
    "# Random Forest"
   ]
  },
  {
   "cell_type": "code",
   "execution_count": 65,
   "metadata": {},
   "outputs": [],
   "source": [
    "# parameters to choose\n",
    "number_estimators = [70]\n",
    "max_depth = [15]"
   ]
  },
  {
   "cell_type": "code",
   "execution_count": 66,
   "metadata": {},
   "outputs": [],
   "source": [
    "rf_classifier = GridSearchCV(estimator=RandomForestClassifier(), \n",
    "                          param_grid=dict(\n",
    "                              n_estimators=number_estimators,\n",
    "                              max_depth=max_depth), cv=5, verbose=5, n_jobs=2)"
   ]
  },
  {
   "cell_type": "code",
   "execution_count": 67,
   "metadata": {},
   "outputs": [
    {
     "name": "stdout",
     "output_type": "stream",
     "text": [
      "Fitting 5 folds for each of 1 candidates, totalling 5 fits\n",
      "[CV] max_depth=15, n_estimators=70 ...................................\n",
      "[CV] max_depth=15, n_estimators=70 ...................................\n",
      "[CV]  max_depth=15, n_estimators=70, score=0.6802101509021533, total= 3.6min\n",
      "[CV] max_depth=15, n_estimators=70 ...................................\n",
      "[CV]  max_depth=15, n_estimators=70, score=0.678791248825571, total= 3.8min\n",
      "[CV] max_depth=15, n_estimators=70 ...................................\n",
      "[CV]  max_depth=15, n_estimators=70, score=0.6794178554993097, total= 2.8min\n",
      "[CV] max_depth=15, n_estimators=70 ...................................\n",
      "[CV]  max_depth=15, n_estimators=70, score=0.6795520785396533, total= 2.7min\n",
      "[CV]  max_depth=15, n_estimators=70, score=0.6817318939234147, total= 2.4min\n"
     ]
    },
    {
     "name": "stderr",
     "output_type": "stream",
     "text": [
      "[Parallel(n_jobs=2)]: Done   5 out of   5 | elapsed:  9.4min finished\n"
     ]
    },
    {
     "data": {
      "text/plain": [
       "GridSearchCV(cv=5, error_score='raise',\n",
       "       estimator=RandomForestClassifier(bootstrap=True, class_weight=None, criterion='gini',\n",
       "            max_depth=None, max_features='auto', max_leaf_nodes=None,\n",
       "            min_impurity_decrease=0.0, min_impurity_split=None,\n",
       "            min_samples_leaf=1, min_samples_split=2,\n",
       "            min_weight_fraction_leaf=0.0, n_estimators=10, n_jobs=1,\n",
       "            oob_score=False, random_state=None, verbose=0,\n",
       "            warm_start=False),\n",
       "       fit_params=None, iid=True, n_jobs=2,\n",
       "       param_grid={'n_estimators': [70], 'max_depth': [15]},\n",
       "       pre_dispatch='2*n_jobs', refit=True, return_train_score=True,\n",
       "       scoring=None, verbose=5)"
      ]
     },
     "execution_count": 67,
     "metadata": {},
     "output_type": "execute_result"
    }
   ],
   "source": [
    "rf_classifier.fit(X_train, y_train)"
   ]
  },
  {
   "cell_type": "code",
   "execution_count": 68,
   "metadata": {},
   "outputs": [
    {
     "data": {
      "text/plain": [
       "GridSearchCV(cv=5, error_score='raise',\n",
       "       estimator=RandomForestClassifier(bootstrap=True, class_weight=None, criterion='gini',\n",
       "            max_depth=None, max_features='auto', max_leaf_nodes=None,\n",
       "            min_impurity_decrease=0.0, min_impurity_split=None,\n",
       "            min_samples_leaf=1, min_samples_split=2,\n",
       "            min_weight_fraction_leaf=0.0, n_estimators=10, n_jobs=1,\n",
       "            oob_score=False, random_state=None, verbose=0,\n",
       "            warm_start=False),\n",
       "       fit_params=None, iid=True, n_jobs=2,\n",
       "       param_grid={'n_estimators': [70], 'max_depth': [15]},\n",
       "       pre_dispatch='2*n_jobs', refit=True, return_train_score=True,\n",
       "       scoring=None, verbose=5)"
      ]
     },
     "execution_count": 68,
     "metadata": {},
     "output_type": "execute_result"
    }
   ],
   "source": [
    "rf_classifier"
   ]
  },
  {
   "cell_type": "code",
   "execution_count": 69,
   "metadata": {},
   "outputs": [
    {
     "data": {
      "text/plain": [
       "RandomForestClassifier(bootstrap=True, class_weight=None, criterion='gini',\n",
       "            max_depth=15, max_features='auto', max_leaf_nodes=None,\n",
       "            min_impurity_decrease=0.0, min_impurity_split=None,\n",
       "            min_samples_leaf=1, min_samples_split=2,\n",
       "            min_weight_fraction_leaf=0.0, n_estimators=70, n_jobs=1,\n",
       "            oob_score=False, random_state=None, verbose=0,\n",
       "            warm_start=False)"
      ]
     },
     "execution_count": 69,
     "metadata": {},
     "output_type": "execute_result"
    }
   ],
   "source": [
    "rf_classifier.best_estimator_"
   ]
  },
  {
   "cell_type": "code",
   "execution_count": 70,
   "metadata": {},
   "outputs": [
    {
     "data": {
      "text/plain": [
       "{'max_depth': 15, 'n_estimators': 70}"
      ]
     },
     "execution_count": 70,
     "metadata": {},
     "output_type": "execute_result"
    }
   ],
   "source": [
    "rf_classifier.best_params_"
   ]
  },
  {
   "cell_type": "code",
   "execution_count": 71,
   "metadata": {},
   "outputs": [
    {
     "data": {
      "image/png": "[encoded data removed]",
      "text/plain": [
       "<matplotlib.figure.Figure at 0x7fada05ba3c8>"
      ]
     },
     "metadata": {},
     "output_type": "display_data"
    }
   ],
   "source": [
    "plot_auc_roc(rf_classifier.best_estimator_, X_test, y_test)"
   ]
  },
  {
   "cell_type": "code",
   "execution_count": 73,
   "metadata": {},
   "outputs": [
    {
     "data": {
      "image/png": "[encoded data removed]",
      "text/plain": [
       "<matplotlib.figure.Figure at 0x7fada0672518>"
      ]
     },
     "metadata": {},
     "output_type": "display_data"
    }
   ],
   "source": [
    "plot_auc_roc(rf_classifier.best_estimator_, kaggle_x_test, kaggle_y_test)"
   ]
  },
  {
   "cell_type": "markdown",
   "metadata": {},
   "source": [
    "### The score of the rf_classifier alone"
   ]
  },
  {
   "cell_type": "code",
   "execution_count": 19,
   "metadata": {},
   "outputs": [],
   "source": [
    "classifier = rf_classifier.best_estimator_"
   ]
  },
  {
   "cell_type": "code",
   "execution_count": 20,
   "metadata": {
    "colab": {
     "autoexec": {
      "startup": false,
      "wait_interval": 0
     }
    },
    "colab_type": "code",
    "id": "ylrT4mitf7Xz",
    "outputId": "c30b5e81-1e7c-4db9-c0ab-88a4805fcd98"
   },
   "outputs": [
    {
     "name": "stderr",
     "output_type": "stream",
     "text": [
      "/home/fbormann/anaconda3/envs/IF702-redes-neurais/lib/python3.6/site-packages/ipykernel_launcher.py:1: FutureWarning: Method .as_matrix will be removed in a future version. Use .values instead.\n",
      "  \"\"\"Entry point for launching an IPython kernel.\n",
      "/home/fbormann/anaconda3/envs/IF702-redes-neurais/lib/python3.6/site-packages/ipykernel_launcher.py:2: FutureWarning: Method .as_matrix will be removed in a future version. Use .values instead.\n",
      "  \n"
     ]
    }
   ],
   "source": [
    "y_train_pred = classifier.predict(X_train.as_matrix()).ravel()\n",
    "y_test_pred = classifier.predict(X_test.as_matrix()).ravel()"
   ]
  },
  {
   "cell_type": "code",
   "execution_count": 21,
   "metadata": {
    "colab": {
     "autoexec": {
      "startup": false,
      "wait_interval": 0
     }
    },
    "colab_type": "code",
    "id": "XXpon-XGf7X9",
    "outputId": "e3724372-f7c7-42b7-ab07-db29750a1d3f"
   },
   "outputs": [
    {
     "name": "stderr",
     "output_type": "stream",
     "text": [
      "/home/fbormann/anaconda3/envs/IF702-redes-neurais/lib/python3.6/site-packages/ipykernel_launcher.py:3: FutureWarning: Method .as_matrix will be removed in a future version. Use .values instead.\n",
      "  This is separate from the ipykernel package so we can avoid doing imports until\n"
     ]
    }
   ],
   "source": [
    "# This returns an array for the probabilities of being each class, so it depends what the focus will be\n",
    "# in our case, the focus is at class 1\n",
    "y_test_pred_prob = classifier.predict_proba(X_test.as_matrix())[:, 1]"
   ]
  },
  {
   "cell_type": "code",
   "execution_count": 22,
   "metadata": {
    "colab": {
     "autoexec": {
      "startup": false,
      "wait_interval": 0
     }
    },
    "colab_type": "code",
    "id": "HC--sBLtf7YC",
    "outputId": "5633e246-2e20-4b4a-ee44-0dd2056dc0da"
   },
   "outputs": [
    {
     "name": "stdout",
     "output_type": "stream",
     "text": [
      "\n",
      "Performance no conjunto de teste:\n",
      "\n",
      "Accuracy:         0.6811\n",
      "Recall:           0.9354\n",
      "Precision:        0.6895\n",
      "F1:               0.7938\n",
      "AUROC:            0.6954\n",
      "AUPR:             0.8071\n"
     ]
    }
   ],
   "source": [
    "print('\\nPerformance no conjunto de teste:')\n",
    "accuracy, recall, precision, f1, auroc, aupr = compute_performance_metrics(y_test, y_test_pred.round(), y_test_pred_prob)\n",
    "print_metrics_summary(accuracy, recall, precision, f1, auroc, aupr)"
   ]
  },
  {
   "cell_type": "markdown",
   "metadata": {},
   "source": [
    "# XGBoost"
   ]
  },
  {
   "cell_type": "markdown",
   "metadata": {},
   "source": [
    "## Parameter Selection"
   ]
  },
  {
   "cell_type": "code",
   "execution_count": 23,
   "metadata": {},
   "outputs": [],
   "source": [
    "# We will use grid search to improve our search for parameters using Cross Validation\n",
    "number_estimators = [100, 120, 140]\n",
    "loss_function = [\"deviance\", \"exponential\"]\n",
    "min_samples_leaf = [1, 0.05, 0.5]\n",
    "sub_samples = [0.85, 0.8, 0.7]\n",
    "learning_rates = [0.2, 0.3, 0.35, 0.45]\n",
    "xgboost_classifier = GridSearchCV(estimator=GradientBoostingClassifier(), \n",
    "                          param_grid=dict(\n",
    "                              n_estimators=number_estimators,\n",
    "                              max_features=max_features,\n",
    "                              subsample=sub_samples,\n",
    "                          min_samples_leaf=min_samples_leaf,\n",
    "                          loss=loss_function, learning_rate=learning_rates), verbose=5, n_jobs=2)"
   ]
  },
  {
   "cell_type": "code",
   "execution_count": 24,
   "metadata": {
    "scrolled": true
   },
   "outputs": [
    {
     "name": "stdout",
     "output_type": "stream",
     "text": [
      "Fitting 3 folds for each of 54 candidates, totalling 162 fits\n",
      "[CV] loss=deviance, max_features=sqrt, min_samples_leaf=1, n_estimators=100, subsample=0.85 \n",
      "[CV] loss=deviance, max_features=sqrt, min_samples_leaf=1, n_estimators=100, subsample=0.85 \n",
      "[CV]  loss=deviance, max_features=sqrt, min_samples_leaf=1, n_estimators=100, subsample=0.85, score=0.6851508841361696, total= 1.1min\n",
      "[CV] loss=deviance, max_features=sqrt, min_samples_leaf=1, n_estimators=100, subsample=0.85 \n",
      "[CV]  loss=deviance, max_features=sqrt, min_samples_leaf=1, n_estimators=100, subsample=0.85, score=0.6833446462880086, total= 1.2min\n",
      "[CV] loss=deviance, max_features=sqrt, min_samples_leaf=1, n_estimators=100, subsample=0.8 \n",
      "[CV]  loss=deviance, max_features=sqrt, min_samples_leaf=1, n_estimators=100, subsample=0.8, score=0.6826198502088103, total=  45.0s\n",
      "[CV] loss=deviance, max_features=sqrt, min_samples_leaf=1, n_estimators=100, subsample=0.8 \n",
      "[CV]  loss=deviance, max_features=sqrt, min_samples_leaf=1, n_estimators=100, subsample=0.85, score=0.6835214395011447, total=  55.7s\n",
      "[CV] loss=deviance, max_features=sqrt, min_samples_leaf=1, n_estimators=100, subsample=0.8 \n",
      "[CV]  loss=deviance, max_features=sqrt, min_samples_leaf=1, n_estimators=100, subsample=0.8, score=0.6855995674232924, total=  48.8s\n",
      "[CV] loss=deviance, max_features=sqrt, min_samples_leaf=1, n_estimators=100, subsample=0.7 \n",
      "[CV]  loss=deviance, max_features=sqrt, min_samples_leaf=1, n_estimators=100, subsample=0.8, score=0.6838550834685166, total=  41.3s\n",
      "[CV] loss=deviance, max_features=sqrt, min_samples_leaf=1, n_estimators=100, subsample=0.7 \n",
      "[CV]  loss=deviance, max_features=sqrt, min_samples_leaf=1, n_estimators=100, subsample=0.7, score=0.6844375927566411, total=  41.0s\n",
      "[CV] loss=deviance, max_features=sqrt, min_samples_leaf=1, n_estimators=100, subsample=0.7 \n",
      "[CV]  loss=deviance, max_features=sqrt, min_samples_leaf=1, n_estimators=100, subsample=0.7, score=0.6859677178127265, total=  46.6s\n",
      "[CV] loss=deviance, max_features=sqrt, min_samples_leaf=1, n_estimators=120, subsample=0.85 \n",
      "[CV]  loss=deviance, max_features=sqrt, min_samples_leaf=1, n_estimators=100, subsample=0.7, score=0.6836710040382425, total=  43.4s\n",
      "[CV] loss=deviance, max_features=sqrt, min_samples_leaf=1, n_estimators=120, subsample=0.85 \n",
      "[CV]  loss=deviance, max_features=sqrt, min_samples_leaf=1, n_estimators=120, subsample=0.85, score=0.6857606332186699, total= 1.1min\n",
      "[CV] loss=deviance, max_features=sqrt, min_samples_leaf=1, n_estimators=120, subsample=0.85 \n",
      "[CV]  loss=deviance, max_features=sqrt, min_samples_leaf=1, n_estimators=120, subsample=0.85, score=0.6852429217335282, total= 1.1min\n",
      "[CV] loss=deviance, max_features=sqrt, min_samples_leaf=1, n_estimators=120, subsample=0.8 \n",
      "[CV]  loss=deviance, max_features=sqrt, min_samples_leaf=1, n_estimators=120, subsample=0.85, score=0.6843613019017706, total=  59.5s\n",
      "[CV] loss=deviance, max_features=sqrt, min_samples_leaf=1, n_estimators=120, subsample=0.8 \n",
      "[CV]  loss=deviance, max_features=sqrt, min_samples_leaf=1, n_estimators=120, subsample=0.8, score=0.6850818559381507, total= 1.0min\n",
      "[CV] loss=deviance, max_features=sqrt, min_samples_leaf=1, n_estimators=120, subsample=0.8 \n",
      "[CV]  loss=deviance, max_features=sqrt, min_samples_leaf=1, n_estimators=120, subsample=0.8, score=0.6863818870008398, total= 1.0min\n",
      "[CV] loss=deviance, max_features=sqrt, min_samples_leaf=1, n_estimators=120, subsample=0.7 \n"
     ]
    },
    {
     "name": "stderr",
     "output_type": "stream",
     "text": [
      "[Parallel(n_jobs=2)]: Done  14 tasks      | elapsed:  6.9min\n"
     ]
    },
    {
     "name": "stdout",
     "output_type": "stream",
     "text": [
      "[CV]  loss=deviance, max_features=sqrt, min_samples_leaf=1, n_estimators=120, subsample=0.8, score=0.6849250451569853, total= 1.1min\n",
      "[CV] loss=deviance, max_features=sqrt, min_samples_leaf=1, n_estimators=120, subsample=0.7 \n",
      "[CV]  loss=deviance, max_features=sqrt, min_samples_leaf=1, n_estimators=120, subsample=0.7, score=0.68450662095466, total= 1.1min\n",
      "[CV] loss=deviance, max_features=sqrt, min_samples_leaf=1, n_estimators=120, subsample=0.7 \n",
      "[CV]  loss=deviance, max_features=sqrt, min_samples_leaf=1, n_estimators=120, subsample=0.7, score=0.6852429217335282, total=  52.7s\n",
      "[CV] loss=deviance, max_features=sqrt, min_samples_leaf=1, n_estimators=140, subsample=0.85 \n",
      "[CV]  loss=deviance, max_features=sqrt, min_samples_leaf=1, n_estimators=120, subsample=0.7, score=0.6830152210678908, total=  51.8s\n",
      "[CV] loss=deviance, max_features=sqrt, min_samples_leaf=1, n_estimators=140, subsample=0.85 \n",
      "[CV]  loss=deviance, max_features=sqrt, min_samples_leaf=1, n_estimators=140, subsample=0.85, score=0.6855075298259339, total= 1.2min\n",
      "[CV] loss=deviance, max_features=sqrt, min_samples_leaf=1, n_estimators=140, subsample=0.85 \n",
      "[CV]  loss=deviance, max_features=sqrt, min_samples_leaf=1, n_estimators=140, subsample=0.85, score=0.6879695355552743, total= 1.1min\n",
      "[CV] loss=deviance, max_features=sqrt, min_samples_leaf=1, n_estimators=140, subsample=0.8 \n",
      "[CV]  loss=deviance, max_features=sqrt, min_samples_leaf=1, n_estimators=140, subsample=0.85, score=0.6859719969166695, total= 1.2min\n",
      "[CV] loss=deviance, max_features=sqrt, min_samples_leaf=1, n_estimators=140, subsample=0.8 \n",
      "[CV]  loss=deviance, max_features=sqrt, min_samples_leaf=1, n_estimators=140, subsample=0.8, score=0.6856801003209811, total= 1.4min\n",
      "[CV] loss=deviance, max_features=sqrt, min_samples_leaf=1, n_estimators=140, subsample=0.8 \n",
      "[CV]  loss=deviance, max_features=sqrt, min_samples_leaf=1, n_estimators=140, subsample=0.8, score=0.6881190966509819, total= 1.2min\n",
      "[CV] loss=deviance, max_features=sqrt, min_samples_leaf=1, n_estimators=140, subsample=0.7 \n",
      "[CV]  loss=deviance, max_features=sqrt, min_samples_leaf=1, n_estimators=140, subsample=0.8, score=0.6852701940887493, total= 1.2min\n",
      "[CV] loss=deviance, max_features=sqrt, min_samples_leaf=1, n_estimators=140, subsample=0.7 \n",
      "[CV]  loss=deviance, max_features=sqrt, min_samples_leaf=1, n_estimators=140, subsample=0.7, score=0.6857721379183397, total=  59.5s\n",
      "[CV] loss=deviance, max_features=sqrt, min_samples_leaf=1, n_estimators=140, subsample=0.7 \n",
      "[CV]  loss=deviance, max_features=sqrt, min_samples_leaf=1, n_estimators=140, subsample=0.7, score=0.6876704133638591, total= 1.1min\n",
      "[CV] loss=deviance, max_features=sqrt, min_samples_leaf=0.05, n_estimators=100, subsample=0.85 \n",
      "[CV]  loss=deviance, max_features=sqrt, min_samples_leaf=1, n_estimators=140, subsample=0.7, score=0.6857073827356505, total=  58.7s\n",
      "[CV] loss=deviance, max_features=sqrt, min_samples_leaf=0.05, n_estimators=100, subsample=0.85 \n",
      "[CV]  loss=deviance, max_features=sqrt, min_samples_leaf=0.05, n_estimators=100, subsample=0.85, score=0.6806870606642813, total=  43.8s\n",
      "[CV] loss=deviance, max_features=sqrt, min_samples_leaf=0.05, n_estimators=100, subsample=0.85 \n",
      "[CV]  loss=deviance, max_features=sqrt, min_samples_leaf=0.05, n_estimators=100, subsample=0.85, score=0.682884458301216, total=  43.5s\n",
      "[CV] loss=deviance, max_features=sqrt, min_samples_leaf=0.05, n_estimators=100, subsample=0.8 \n",
      "[CV]  loss=deviance, max_features=sqrt, min_samples_leaf=0.05, n_estimators=100, subsample=0.85, score=0.6815540905900896, total=  47.8s\n",
      "[CV] loss=deviance, max_features=sqrt, min_samples_leaf=0.05, n_estimators=100, subsample=0.8 \n",
      "[CV]  loss=deviance, max_features=sqrt, min_samples_leaf=0.05, n_estimators=100, subsample=0.8, score=0.6803189102748473, total=  46.5s\n",
      "[CV] loss=deviance, max_features=sqrt, min_samples_leaf=0.05, n_estimators=100, subsample=0.8 \n",
      "[CV]  loss=deviance, max_features=sqrt, min_samples_leaf=0.05, n_estimators=100, subsample=0.8, score=0.6839083765718296, total=  43.0s\n",
      "[CV] loss=deviance, max_features=sqrt, min_samples_leaf=0.05, n_estimators=100, subsample=0.7 \n",
      "[CV]  loss=deviance, max_features=sqrt, min_samples_leaf=0.05, n_estimators=100, subsample=0.8, score=0.6801159700410727, total=  41.8s\n",
      "[CV] loss=deviance, max_features=sqrt, min_samples_leaf=0.05, n_estimators=100, subsample=0.7 \n",
      "[CV]  loss=deviance, max_features=sqrt, min_samples_leaf=0.05, n_estimators=100, subsample=0.7, score=0.6801003209811208, total=  40.5s\n",
      "[CV] loss=deviance, max_features=sqrt, min_samples_leaf=0.05, n_estimators=100, subsample=0.7 \n",
      "[CV]  loss=deviance, max_features=sqrt, min_samples_leaf=0.05, n_estimators=100, subsample=0.7, score=0.6818835494299421, total=  40.6s\n",
      "[CV] loss=deviance, max_features=sqrt, min_samples_leaf=0.05, n_estimators=120, subsample=0.85 \n",
      "[CV]  loss=deviance, max_features=sqrt, min_samples_leaf=0.05, n_estimators=100, subsample=0.7, score=0.6802310196849941, total=  42.8s\n",
      "[CV] loss=deviance, max_features=sqrt, min_samples_leaf=0.05, n_estimators=120, subsample=0.85 \n",
      "[CV]  loss=deviance, max_features=sqrt, min_samples_leaf=0.05, n_estimators=120, subsample=0.85, score=0.6836207590800842, total=  47.3s\n",
      "[CV] loss=deviance, max_features=sqrt, min_samples_leaf=0.05, n_estimators=120, subsample=0.85 \n",
      "[CV]  loss=deviance, max_features=sqrt, min_samples_leaf=0.05, n_estimators=120, subsample=0.85, score=0.68512787473683, total=  53.8s\n",
      "[CV] loss=deviance, max_features=sqrt, min_samples_leaf=0.05, n_estimators=120, subsample=0.8 \n",
      "[CV]  loss=deviance, max_features=sqrt, min_samples_leaf=0.05, n_estimators=120, subsample=0.85, score=0.6838205685753402, total= 1.1min\n",
      "[CV] loss=deviance, max_features=sqrt, min_samples_leaf=0.05, n_estimators=120, subsample=0.8 \n",
      "[CV]  loss=deviance, max_features=sqrt, min_samples_leaf=0.05, n_estimators=120, subsample=0.8, score=0.6829074677005557, total= 1.2min\n",
      "[CV] loss=deviance, max_features=sqrt, min_samples_leaf=0.05, n_estimators=120, subsample=0.8 \n",
      "[CV]  loss=deviance, max_features=sqrt, min_samples_leaf=0.05, n_estimators=120, subsample=0.8, score=0.6843110410602731, total= 1.0min\n",
      "[CV] loss=deviance, max_features=sqrt, min_samples_leaf=0.05, n_estimators=120, subsample=0.7 \n",
      "[CV]  loss=deviance, max_features=sqrt, min_samples_leaf=0.05, n_estimators=120, subsample=0.8, score=0.6824169629194997, total=  57.0s\n",
      "[CV] loss=deviance, max_features=sqrt, min_samples_leaf=0.05, n_estimators=120, subsample=0.7 \n",
      "[CV]  loss=deviance, max_features=sqrt, min_samples_leaf=0.05, n_estimators=120, subsample=0.7, score=0.6835402261823955, total=  49.9s\n",
      "[CV] loss=deviance, max_features=sqrt, min_samples_leaf=0.05, n_estimators=120, subsample=0.7 \n",
      "[CV]  loss=deviance, max_features=sqrt, min_samples_leaf=0.05, n_estimators=120, subsample=0.7, score=0.6835977496807446, total=  52.1s\n",
      "[CV] loss=deviance, max_features=sqrt, min_samples_leaf=0.05, n_estimators=140, subsample=0.85 \n",
      "[CV]  loss=deviance, max_features=sqrt, min_samples_leaf=0.05, n_estimators=120, subsample=0.7, score=0.6825435175278133, total=  58.2s\n",
      "[CV] loss=deviance, max_features=sqrt, min_samples_leaf=0.05, n_estimators=140, subsample=0.85 \n",
      "[CV]  loss=deviance, max_features=sqrt, min_samples_leaf=0.05, n_estimators=140, subsample=0.85, score=0.6834711979843766, total= 1.1min\n",
      "[CV] loss=deviance, max_features=sqrt, min_samples_leaf=0.05, n_estimators=140, subsample=0.85 \n",
      "[CV]  loss=deviance, max_features=sqrt, min_samples_leaf=0.05, n_estimators=140, subsample=0.85, score=0.6855190345256037, total= 1.0min\n",
      "[CV] loss=deviance, max_features=sqrt, min_samples_leaf=0.05, n_estimators=140, subsample=0.8 \n",
      "[CV]  loss=deviance, max_features=sqrt, min_samples_leaf=0.05, n_estimators=140, subsample=0.85, score=0.6833373600708705, total= 1.0min\n",
      "[CV] loss=deviance, max_features=sqrt, min_samples_leaf=0.05, n_estimators=140, subsample=0.8 \n",
      "[CV]  loss=deviance, max_features=sqrt, min_samples_leaf=0.05, n_estimators=140, subsample=0.8, score=0.6854845204265942, total=  59.3s\n",
      "[CV] loss=deviance, max_features=sqrt, min_samples_leaf=0.05, n_estimators=140, subsample=0.8 \n",
      "[CV]  loss=deviance, max_features=sqrt, min_samples_leaf=0.05, n_estimators=140, subsample=0.8, score=0.6861748024067832, total= 1.1min\n",
      "[CV] loss=deviance, max_features=sqrt, min_samples_leaf=0.05, n_estimators=140, subsample=0.7 \n",
      "[CV]  loss=deviance, max_features=sqrt, min_samples_leaf=0.05, n_estimators=140, subsample=0.8, score=0.6823019132755784, total=  58.0s\n",
      "[CV] loss=deviance, max_features=sqrt, min_samples_leaf=0.05, n_estimators=140, subsample=0.7 \n",
      "[CV]  loss=deviance, max_features=sqrt, min_samples_leaf=0.05, n_estimators=140, subsample=0.7, score=0.6832180945916407, total=  55.9s\n",
      "[CV] loss=deviance, max_features=sqrt, min_samples_leaf=0.05, n_estimators=140, subsample=0.7 \n",
      "[CV]  loss=deviance, max_features=sqrt, min_samples_leaf=0.05, n_estimators=140, subsample=0.7, score=0.6852084076345187, total=  56.3s\n",
      "[CV] loss=deviance, max_features=sqrt, min_samples_leaf=0.5, n_estimators=100, subsample=0.85 \n",
      "[CV]  loss=deviance, max_features=sqrt, min_samples_leaf=0.5, n_estimators=100, subsample=0.85, score=0.6550200757009238, total=   9.9s\n",
      "[CV] loss=deviance, max_features=sqrt, min_samples_leaf=0.5, n_estimators=100, subsample=0.85 \n",
      "[CV]  loss=deviance, max_features=sqrt, min_samples_leaf=0.5, n_estimators=100, subsample=0.85, score=0.6550200757009238, total=  10.8s\n",
      "[CV] loss=deviance, max_features=sqrt, min_samples_leaf=0.5, n_estimators=100, subsample=0.85 \n",
      "[CV]  loss=deviance, max_features=sqrt, min_samples_leaf=0.05, n_estimators=140, subsample=0.7, score=0.6833143501420863, total=  55.7s\n",
      "[CV] loss=deviance, max_features=sqrt, min_samples_leaf=0.5, n_estimators=100, subsample=0.8 \n",
      "[CV]  loss=deviance, max_features=sqrt, min_samples_leaf=0.5, n_estimators=100, subsample=0.85, score=0.6550236427018259, total=  10.9s\n",
      "[CV] loss=deviance, max_features=sqrt, min_samples_leaf=0.5, n_estimators=100, subsample=0.8 \n",
      "[CV]  loss=deviance, max_features=sqrt, min_samples_leaf=0.5, n_estimators=100, subsample=0.8, score=0.6550200757009238, total=  10.4s\n",
      "[CV] loss=deviance, max_features=sqrt, min_samples_leaf=0.5, n_estimators=100, subsample=0.8 \n",
      "[CV]  loss=deviance, max_features=sqrt, min_samples_leaf=0.5, n_estimators=100, subsample=0.8, score=0.6550200757009238, total=  10.4s\n",
      "[CV] loss=deviance, max_features=sqrt, min_samples_leaf=0.5, n_estimators=100, subsample=0.7 \n",
      "[CV]  loss=deviance, max_features=sqrt, min_samples_leaf=0.5, n_estimators=100, subsample=0.8, score=0.6550236427018259, total=  10.6s\n",
      "[CV] loss=deviance, max_features=sqrt, min_samples_leaf=0.5, n_estimators=100, subsample=0.7 \n",
      "[CV]  loss=deviance, max_features=sqrt, min_samples_leaf=0.5, n_estimators=100, subsample=0.7, score=0.6550200757009238, total=  11.3s\n",
      "[CV] loss=deviance, max_features=sqrt, min_samples_leaf=0.5, n_estimators=100, subsample=0.7 \n",
      "[CV]  loss=deviance, max_features=sqrt, min_samples_leaf=0.5, n_estimators=100, subsample=0.7, score=0.6550200757009238, total=  10.8s\n",
      "[CV] loss=deviance, max_features=sqrt, min_samples_leaf=0.5, n_estimators=120, subsample=0.85 \n",
      "[CV]  loss=deviance, max_features=sqrt, min_samples_leaf=0.5, n_estimators=100, subsample=0.7, score=0.6550236427018259, total=  10.8s\n",
      "[CV] loss=deviance, max_features=sqrt, min_samples_leaf=0.5, n_estimators=120, subsample=0.85 \n",
      "[CV]  loss=deviance, max_features=sqrt, min_samples_leaf=0.5, n_estimators=120, subsample=0.85, score=0.6550200757009238, total=  11.5s\n",
      "[CV] loss=deviance, max_features=sqrt, min_samples_leaf=0.5, n_estimators=120, subsample=0.85 \n",
      "[CV]  loss=deviance, max_features=sqrt, min_samples_leaf=0.5, n_estimators=120, subsample=0.85, score=0.6550200757009238, total=  11.6s\n",
      "[CV] loss=deviance, max_features=sqrt, min_samples_leaf=0.5, n_estimators=120, subsample=0.8 \n",
      "[CV]  loss=deviance, max_features=sqrt, min_samples_leaf=0.5, n_estimators=120, subsample=0.85, score=0.6550236427018259, total=  11.7s\n",
      "[CV] loss=deviance, max_features=sqrt, min_samples_leaf=0.5, n_estimators=120, subsample=0.8 \n",
      "[CV]  loss=deviance, max_features=sqrt, min_samples_leaf=0.5, n_estimators=120, subsample=0.8, score=0.6550200757009238, total=  12.0s\n",
      "[CV] loss=deviance, max_features=sqrt, min_samples_leaf=0.5, n_estimators=120, subsample=0.8 \n",
      "[CV]  loss=deviance, max_features=sqrt, min_samples_leaf=0.5, n_estimators=120, subsample=0.8, score=0.6550200757009238, total=  11.3s\n",
      "[CV] loss=deviance, max_features=sqrt, min_samples_leaf=0.5, n_estimators=120, subsample=0.7 \n"
     ]
    },
    {
     "name": "stderr",
     "output_type": "stream",
     "text": [
      "[Parallel(n_jobs=2)]: Done  68 tasks      | elapsed: 27.9min\n"
     ]
    },
    {
     "name": "stdout",
     "output_type": "stream",
     "text": [
      "[CV]  loss=deviance, max_features=sqrt, min_samples_leaf=0.5, n_estimators=120, subsample=0.8, score=0.6550236427018259, total=  11.4s\n",
      "[CV] loss=deviance, max_features=sqrt, min_samples_leaf=0.5, n_estimators=120, subsample=0.7 \n",
      "[CV]  loss=deviance, max_features=sqrt, min_samples_leaf=0.5, n_estimators=120, subsample=0.7, score=0.6550200757009238, total=  10.7s\n",
      "[CV] loss=deviance, max_features=sqrt, min_samples_leaf=0.5, n_estimators=120, subsample=0.7 \n",
      "[CV]  loss=deviance, max_features=sqrt, min_samples_leaf=0.5, n_estimators=120, subsample=0.7, score=0.6550200757009238, total=  11.1s\n",
      "[CV] loss=deviance, max_features=sqrt, min_samples_leaf=0.5, n_estimators=140, subsample=0.85 \n",
      "[CV]  loss=deviance, max_features=sqrt, min_samples_leaf=0.5, n_estimators=120, subsample=0.7, score=0.6550236427018259, total=  11.0s\n",
      "[CV] loss=deviance, max_features=sqrt, min_samples_leaf=0.5, n_estimators=140, subsample=0.85 \n",
      "[CV]  loss=deviance, max_features=sqrt, min_samples_leaf=0.5, n_estimators=140, subsample=0.85, score=0.6550200757009238, total=  11.3s\n",
      "[CV] loss=deviance, max_features=sqrt, min_samples_leaf=0.5, n_estimators=140, subsample=0.85 \n",
      "[CV]  loss=deviance, max_features=sqrt, min_samples_leaf=0.5, n_estimators=140, subsample=0.85, score=0.6550200757009238, total=  11.1s\n",
      "[CV] loss=deviance, max_features=sqrt, min_samples_leaf=0.5, n_estimators=140, subsample=0.8 \n",
      "[CV]  loss=deviance, max_features=sqrt, min_samples_leaf=0.5, n_estimators=140, subsample=0.85, score=0.6550236427018259, total=  11.5s\n",
      "[CV] loss=deviance, max_features=sqrt, min_samples_leaf=0.5, n_estimators=140, subsample=0.8 \n",
      "[CV]  loss=deviance, max_features=sqrt, min_samples_leaf=0.5, n_estimators=140, subsample=0.8, score=0.6550200757009238, total=  11.4s\n",
      "[CV] loss=deviance, max_features=sqrt, min_samples_leaf=0.5, n_estimators=140, subsample=0.8 \n",
      "[CV]  loss=deviance, max_features=sqrt, min_samples_leaf=0.5, n_estimators=140, subsample=0.8, score=0.6550200757009238, total=  11.7s\n",
      "[CV] loss=deviance, max_features=sqrt, min_samples_leaf=0.5, n_estimators=140, subsample=0.7 \n",
      "[CV]  loss=deviance, max_features=sqrt, min_samples_leaf=0.5, n_estimators=140, subsample=0.8, score=0.6550236427018259, total=  11.6s\n",
      "[CV] loss=deviance, max_features=sqrt, min_samples_leaf=0.5, n_estimators=140, subsample=0.7 \n",
      "[CV]  loss=deviance, max_features=sqrt, min_samples_leaf=0.5, n_estimators=140, subsample=0.7, score=0.6550200757009238, total=  12.0s\n",
      "[CV] loss=deviance, max_features=sqrt, min_samples_leaf=0.5, n_estimators=140, subsample=0.7 \n",
      "[CV]  loss=deviance, max_features=sqrt, min_samples_leaf=0.5, n_estimators=140, subsample=0.7, score=0.6550200757009238, total=  11.8s\n",
      "[CV] loss=exponential, max_features=sqrt, min_samples_leaf=1, n_estimators=100, subsample=0.85 \n",
      "[CV]  loss=deviance, max_features=sqrt, min_samples_leaf=0.5, n_estimators=140, subsample=0.7, score=0.6550236427018259, total=  12.4s\n",
      "[CV] loss=exponential, max_features=sqrt, min_samples_leaf=1, n_estimators=100, subsample=0.85 \n",
      "[CV]  loss=exponential, max_features=sqrt, min_samples_leaf=1, n_estimators=100, subsample=0.85, score=0.6843455551592825, total=  45.8s\n",
      "[CV] loss=exponential, max_features=sqrt, min_samples_leaf=1, n_estimators=100, subsample=0.85 \n",
      "[CV]  loss=exponential, max_features=sqrt, min_samples_leaf=1, n_estimators=100, subsample=0.85, score=0.6841844893639052, total=  52.7s\n",
      "[CV] loss=exponential, max_features=sqrt, min_samples_leaf=1, n_estimators=100, subsample=0.8 \n",
      "[CV]  loss=exponential, max_features=sqrt, min_samples_leaf=1, n_estimators=100, subsample=0.85, score=0.6832453203557335, total=  50.9s\n",
      "[CV] loss=exponential, max_features=sqrt, min_samples_leaf=1, n_estimators=100, subsample=0.8 \n",
      "[CV]  loss=exponential, max_features=sqrt, min_samples_leaf=1, n_estimators=100, subsample=0.8, score=0.6838393483738107, total=  49.0s\n",
      "[CV] loss=exponential, max_features=sqrt, min_samples_leaf=1, n_estimators=100, subsample=0.8 \n",
      "[CV]  loss=exponential, max_features=sqrt, min_samples_leaf=1, n_estimators=100, subsample=0.8, score=0.6844836115553203, total= 1.0min\n",
      "[CV] loss=exponential, max_features=sqrt, min_samples_leaf=1, n_estimators=100, subsample=0.7 \n",
      "[CV]  loss=exponential, max_features=sqrt, min_samples_leaf=1, n_estimators=100, subsample=0.8, score=0.682014289165775, total= 1.1min\n",
      "[CV] loss=exponential, max_features=sqrt, min_samples_leaf=1, n_estimators=100, subsample=0.7 \n",
      "[CV]  loss=exponential, max_features=sqrt, min_samples_leaf=1, n_estimators=100, subsample=0.7, score=0.6836437684794239, total=  57.0s\n",
      "[CV] loss=exponential, max_features=sqrt, min_samples_leaf=1, n_estimators=100, subsample=0.7 \n",
      "[CV]  loss=exponential, max_features=sqrt, min_samples_leaf=1, n_estimators=100, subsample=0.7, score=0.68450662095466, total=  56.2s\n",
      "[CV] loss=exponential, max_features=sqrt, min_samples_leaf=1, n_estimators=120, subsample=0.85 \n",
      "[CV]  loss=exponential, max_features=sqrt, min_samples_leaf=1, n_estimators=100, subsample=0.7, score=0.6830727458898515, total=  57.5s\n",
      "[CV] loss=exponential, max_features=sqrt, min_samples_leaf=1, n_estimators=120, subsample=0.85 \n",
      "[CV]  loss=exponential, max_features=sqrt, min_samples_leaf=1, n_estimators=120, subsample=0.85, score=0.684633172651028, total= 1.1min\n",
      "[CV] loss=exponential, max_features=sqrt, min_samples_leaf=1, n_estimators=120, subsample=0.85 \n",
      "[CV]  loss=exponential, max_features=sqrt, min_samples_leaf=1, n_estimators=120, subsample=0.85, score=0.6840004141691881, total=  58.8s\n",
      "[CV] loss=exponential, max_features=sqrt, min_samples_leaf=1, n_estimators=120, subsample=0.8 \n",
      "[CV]  loss=exponential, max_features=sqrt, min_samples_leaf=1, n_estimators=120, subsample=0.85, score=0.6839241132548695, total= 1.0min\n",
      "[CV] loss=exponential, max_features=sqrt, min_samples_leaf=1, n_estimators=120, subsample=0.8 \n",
      "[CV]  loss=exponential, max_features=sqrt, min_samples_leaf=1, n_estimators=120, subsample=0.8, score=0.6842305081625845, total= 1.0min\n",
      "[CV] loss=exponential, max_features=sqrt, min_samples_leaf=1, n_estimators=120, subsample=0.8 \n",
      "[CV]  loss=exponential, max_features=sqrt, min_samples_leaf=1, n_estimators=120, subsample=0.8, score=0.6867385326906041, total=  50.0s\n",
      "[CV] loss=exponential, max_features=sqrt, min_samples_leaf=1, n_estimators=120, subsample=0.7 \n",
      "[CV]  loss=exponential, max_features=sqrt, min_samples_leaf=1, n_estimators=120, subsample=0.8, score=0.6839816380768301, total=  58.8s\n",
      "[CV] loss=exponential, max_features=sqrt, min_samples_leaf=1, n_estimators=120, subsample=0.7 \n",
      "[CV]  loss=exponential, max_features=sqrt, min_samples_leaf=1, n_estimators=120, subsample=0.7, score=0.6840234235685277, total=  46.3s\n",
      "[CV] loss=exponential, max_features=sqrt, min_samples_leaf=1, n_estimators=120, subsample=0.7 \n",
      "[CV]  loss=exponential, max_features=sqrt, min_samples_leaf=1, n_estimators=120, subsample=0.7, score=0.6865889715948965, total=  48.7s\n",
      "[CV] loss=exponential, max_features=sqrt, min_samples_leaf=1, n_estimators=140, subsample=0.85 \n",
      "[CV]  loss=exponential, max_features=sqrt, min_samples_leaf=1, n_estimators=120, subsample=0.7, score=0.6840046480056144, total=  49.4s\n",
      "[CV] loss=exponential, max_features=sqrt, min_samples_leaf=1, n_estimators=140, subsample=0.85 \n",
      "[CV]  loss=exponential, max_features=sqrt, min_samples_leaf=1, n_estimators=140, subsample=0.85, score=0.685749128519, total=  59.1s\n",
      "[CV] loss=exponential, max_features=sqrt, min_samples_leaf=1, n_estimators=140, subsample=0.85 \n",
      "[CV]  loss=exponential, max_features=sqrt, min_samples_leaf=1, n_estimators=140, subsample=0.85, score=0.6885907893374443, total= 1.1min\n",
      "[CV] loss=exponential, max_features=sqrt, min_samples_leaf=1, n_estimators=140, subsample=0.8 \n",
      "[CV]  loss=exponential, max_features=sqrt, min_samples_leaf=1, n_estimators=140, subsample=0.85, score=0.6846029061540054, total= 1.1min\n",
      "[CV] loss=exponential, max_features=sqrt, min_samples_leaf=1, n_estimators=140, subsample=0.8 \n",
      "[CV]  loss=exponential, max_features=sqrt, min_samples_leaf=1, n_estimators=140, subsample=0.8, score=0.6866004762945663, total= 1.1min\n",
      "[CV] loss=exponential, max_features=sqrt, min_samples_leaf=1, n_estimators=140, subsample=0.8 \n",
      "[CV]  loss=exponential, max_features=sqrt, min_samples_leaf=1, n_estimators=140, subsample=0.8, score=0.6861172789084341, total= 1.1min\n",
      "[CV] loss=exponential, max_features=sqrt, min_samples_leaf=1, n_estimators=140, subsample=0.7 \n",
      "[CV]  loss=exponential, max_features=sqrt, min_samples_leaf=1, n_estimators=140, subsample=0.8, score=0.6860755415961988, total= 1.1min\n",
      "[CV] loss=exponential, max_features=sqrt, min_samples_leaf=1, n_estimators=140, subsample=0.7 \n",
      "[CV]  loss=exponential, max_features=sqrt, min_samples_leaf=1, n_estimators=140, subsample=0.7, score=0.6859907272120661, total=  58.5s\n",
      "[CV] loss=exponential, max_features=sqrt, min_samples_leaf=1, n_estimators=140, subsample=0.7 \n",
      "[CV]  loss=exponential, max_features=sqrt, min_samples_leaf=1, n_estimators=140, subsample=0.7, score=0.6862668400041417, total= 1.1min\n",
      "[CV] loss=exponential, max_features=sqrt, min_samples_leaf=0.05, n_estimators=100, subsample=0.85 \n",
      "[CV]  loss=exponential, max_features=sqrt, min_samples_leaf=1, n_estimators=140, subsample=0.7, score=0.6846029061540054, total=  58.9s\n",
      "[CV] loss=exponential, max_features=sqrt, min_samples_leaf=0.05, n_estimators=100, subsample=0.85 \n",
      "[CV]  loss=exponential, max_features=sqrt, min_samples_leaf=0.05, n_estimators=100, subsample=0.85, score=0.6816764648358855, total=  46.2s\n",
      "[CV] loss=exponential, max_features=sqrt, min_samples_leaf=0.05, n_estimators=100, subsample=0.85 \n",
      "[CV]  loss=exponential, max_features=sqrt, min_samples_leaf=0.05, n_estimators=100, subsample=0.85, score=0.6841729846642354, total=  39.9s\n",
      "[CV] loss=exponential, max_features=sqrt, min_samples_leaf=0.05, n_estimators=100, subsample=0.8 \n",
      "[CV]  loss=exponential, max_features=sqrt, min_samples_leaf=0.05, n_estimators=100, subsample=0.85, score=0.6824284678838919, total=  46.8s\n",
      "[CV] loss=exponential, max_features=sqrt, min_samples_leaf=0.05, n_estimators=100, subsample=0.8 \n",
      "[CV]  loss=exponential, max_features=sqrt, min_samples_leaf=0.05, n_estimators=100, subsample=0.8, score=0.6812277815487626, total=  41.8s\n",
      "[CV] loss=exponential, max_features=sqrt, min_samples_leaf=0.05, n_estimators=100, subsample=0.8 \n",
      "[CV]  loss=exponential, max_features=sqrt, min_samples_leaf=0.05, n_estimators=100, subsample=0.8, score=0.6806065277665927, total=  45.1s\n",
      "[CV] loss=exponential, max_features=sqrt, min_samples_leaf=0.05, n_estimators=100, subsample=0.7 \n",
      "[CV]  loss=exponential, max_features=sqrt, min_samples_leaf=0.05, n_estimators=100, subsample=0.8, score=0.6794486821063289, total=  41.4s\n",
      "[CV] loss=exponential, max_features=sqrt, min_samples_leaf=0.05, n_estimators=100, subsample=0.7 \n",
      "[CV]  loss=exponential, max_features=sqrt, min_samples_leaf=0.05, n_estimators=100, subsample=0.7, score=0.6790879074101771, total=  40.4s\n",
      "[CV] loss=exponential, max_features=sqrt, min_samples_leaf=0.05, n_estimators=100, subsample=0.7 \n",
      "[CV]  loss=exponential, max_features=sqrt, min_samples_leaf=0.05, n_estimators=100, subsample=0.7, score=0.6823552421164045, total=  41.6s\n",
      "[CV] loss=exponential, max_features=sqrt, min_samples_leaf=0.05, n_estimators=120, subsample=0.85 \n",
      "[CV]  loss=exponential, max_features=sqrt, min_samples_leaf=0.05, n_estimators=100, subsample=0.7, score=0.6802655345781705, total=  39.2s\n",
      "[CV] loss=exponential, max_features=sqrt, min_samples_leaf=0.05, n_estimators=120, subsample=0.85 \n",
      "[CV]  loss=exponential, max_features=sqrt, min_samples_leaf=0.05, n_estimators=120, subsample=0.85, score=0.6835862449810748, total= 1.1min\n",
      "[CV] loss=exponential, max_features=sqrt, min_samples_leaf=0.05, n_estimators=120, subsample=0.85 \n",
      "[CV]  loss=exponential, max_features=sqrt, min_samples_leaf=0.05, n_estimators=120, subsample=0.85, score=0.6845756491526789, total= 1.1min\n",
      "[CV] loss=exponential, max_features=sqrt, min_samples_leaf=0.05, n_estimators=120, subsample=0.8 \n",
      "[CV]  loss=exponential, max_features=sqrt, min_samples_leaf=0.05, n_estimators=120, subsample=0.85, score=0.6840046480056144, total= 1.3min\n",
      "[CV] loss=exponential, max_features=sqrt, min_samples_leaf=0.05, n_estimators=120, subsample=0.8 \n",
      "[CV]  loss=exponential, max_features=sqrt, min_samples_leaf=0.05, n_estimators=120, subsample=0.8, score=0.68450662095466, total= 1.2min\n",
      "[CV] loss=exponential, max_features=sqrt, min_samples_leaf=0.05, n_estimators=120, subsample=0.8 \n",
      "[CV]  loss=exponential, max_features=sqrt, min_samples_leaf=0.05, n_estimators=120, subsample=0.8, score=0.6842650222615939, total= 1.1min\n",
      "[CV] loss=exponential, max_features=sqrt, min_samples_leaf=0.05, n_estimators=120, subsample=0.7 \n",
      "[CV]  loss=exponential, max_features=sqrt, min_samples_leaf=0.05, n_estimators=120, subsample=0.8, score=0.6827275969580874, total= 1.1min\n",
      "[CV] loss=exponential, max_features=sqrt, min_samples_leaf=0.05, n_estimators=120, subsample=0.7 \n",
      "[CV]  loss=exponential, max_features=sqrt, min_samples_leaf=0.05, n_estimators=120, subsample=0.7, score=0.683137561693952, total= 1.1min\n",
      "[CV] loss=exponential, max_features=sqrt, min_samples_leaf=0.05, n_estimators=120, subsample=0.7 \n",
      "[CV]  loss=exponential, max_features=sqrt, min_samples_leaf=0.05, n_estimators=120, subsample=0.7, score=0.6827118878061689, total= 1.0min\n",
      "[CV] loss=exponential, max_features=sqrt, min_samples_leaf=0.05, n_estimators=140, subsample=0.85 \n",
      "[CV]  loss=exponential, max_features=sqrt, min_samples_leaf=0.05, n_estimators=120, subsample=0.7, score=0.6818187047711087, total= 1.1min\n",
      "[CV] loss=exponential, max_features=sqrt, min_samples_leaf=0.05, n_estimators=140, subsample=0.85 \n",
      "[CV]  loss=exponential, max_features=sqrt, min_samples_leaf=0.05, n_estimators=140, subsample=0.85, score=0.6841729846642354, total= 1.3min\n",
      "[CV] loss=exponential, max_features=sqrt, min_samples_leaf=0.05, n_estimators=140, subsample=0.85 \n",
      "[CV]  loss=exponential, max_features=sqrt, min_samples_leaf=0.05, n_estimators=140, subsample=0.85, score=0.6865889715948965, total= 1.4min\n",
      "[CV] loss=exponential, max_features=sqrt, min_samples_leaf=0.05, n_estimators=140, subsample=0.8 \n",
      "[CV]  loss=exponential, max_features=sqrt, min_samples_leaf=0.05, n_estimators=140, subsample=0.85, score=0.6834178948216155, total= 1.4min\n",
      "[CV] loss=exponential, max_features=sqrt, min_samples_leaf=0.05, n_estimators=140, subsample=0.8 \n",
      "[CV]  loss=exponential, max_features=sqrt, min_samples_leaf=0.05, n_estimators=140, subsample=0.8, score=0.6833791603870181, total= 1.3min\n",
      "[CV] loss=exponential, max_features=sqrt, min_samples_leaf=0.05, n_estimators=140, subsample=0.8 \n",
      "[CV]  loss=exponential, max_features=sqrt, min_samples_leaf=0.05, n_estimators=140, subsample=0.8, score=0.6858641755156981, total= 1.3min\n",
      "[CV] loss=exponential, max_features=sqrt, min_samples_leaf=0.05, n_estimators=140, subsample=0.7 \n",
      "[CV]  loss=exponential, max_features=sqrt, min_samples_leaf=0.05, n_estimators=140, subsample=0.8, score=0.6833373600708705, total= 1.2min\n",
      "[CV] loss=exponential, max_features=sqrt, min_samples_leaf=0.05, n_estimators=140, subsample=0.7 \n",
      "[CV]  loss=exponential, max_features=sqrt, min_samples_leaf=0.05, n_estimators=140, subsample=0.7, score=0.6842650222615939, total= 1.2min\n",
      "[CV] loss=exponential, max_features=sqrt, min_samples_leaf=0.05, n_estimators=140, subsample=0.7 \n",
      "[CV]  loss=exponential, max_features=sqrt, min_samples_leaf=0.05, n_estimators=140, subsample=0.7, score=0.683038230996675, total= 1.1min\n",
      "[CV] loss=exponential, max_features=sqrt, min_samples_leaf=0.5, n_estimators=100, subsample=0.85 \n",
      "[CV]  loss=exponential, max_features=sqrt, min_samples_leaf=0.05, n_estimators=140, subsample=0.7, score=0.6858871849150378, total= 1.2min\n",
      "[CV] loss=exponential, max_features=sqrt, min_samples_leaf=0.5, n_estimators=100, subsample=0.85 \n",
      "[CV]  loss=exponential, max_features=sqrt, min_samples_leaf=0.5, n_estimators=100, subsample=0.85, score=0.6550200757009238, total=  12.8s\n",
      "[CV] loss=exponential, max_features=sqrt, min_samples_leaf=0.5, n_estimators=100, subsample=0.85 \n",
      "[CV]  loss=exponential, max_features=sqrt, min_samples_leaf=0.5, n_estimators=100, subsample=0.85, score=0.6550200757009238, total=  12.9s\n",
      "[CV] loss=exponential, max_features=sqrt, min_samples_leaf=0.5, n_estimators=100, subsample=0.8 \n",
      "[CV]  loss=exponential, max_features=sqrt, min_samples_leaf=0.5, n_estimators=100, subsample=0.85, score=0.6550236427018259, total=  12.9s\n",
      "[CV] loss=exponential, max_features=sqrt, min_samples_leaf=0.5, n_estimators=100, subsample=0.8 \n",
      "[CV]  loss=exponential, max_features=sqrt, min_samples_leaf=0.5, n_estimators=100, subsample=0.8, score=0.6550200757009238, total=  13.3s\n",
      "[CV] loss=exponential, max_features=sqrt, min_samples_leaf=0.5, n_estimators=100, subsample=0.8 \n",
      "[CV]  loss=exponential, max_features=sqrt, min_samples_leaf=0.5, n_estimators=100, subsample=0.8, score=0.6550200757009238, total=  13.4s\n",
      "[CV] loss=exponential, max_features=sqrt, min_samples_leaf=0.5, n_estimators=100, subsample=0.7 \n",
      "[CV]  loss=exponential, max_features=sqrt, min_samples_leaf=0.5, n_estimators=100, subsample=0.8, score=0.6550236427018259, total=  13.7s\n",
      "[CV] loss=exponential, max_features=sqrt, min_samples_leaf=0.5, n_estimators=100, subsample=0.7 \n",
      "[CV]  loss=exponential, max_features=sqrt, min_samples_leaf=0.5, n_estimators=100, subsample=0.7, score=0.6550200757009238, total=  13.5s\n",
      "[CV] loss=exponential, max_features=sqrt, min_samples_leaf=0.5, n_estimators=100, subsample=0.7 \n",
      "[CV]  loss=exponential, max_features=sqrt, min_samples_leaf=0.5, n_estimators=100, subsample=0.7, score=0.6550200757009238, total=  13.6s\n",
      "[CV] loss=exponential, max_features=sqrt, min_samples_leaf=0.5, n_estimators=120, subsample=0.85 \n",
      "[CV]  loss=exponential, max_features=sqrt, min_samples_leaf=0.5, n_estimators=100, subsample=0.7, score=0.6550236427018259, total=  13.3s\n",
      "[CV] loss=exponential, max_features=sqrt, min_samples_leaf=0.5, n_estimators=120, subsample=0.85 \n",
      "[CV]  loss=exponential, max_features=sqrt, min_samples_leaf=0.5, n_estimators=120, subsample=0.85, score=0.6550200757009238, total=  13.9s\n",
      "[CV] loss=exponential, max_features=sqrt, min_samples_leaf=0.5, n_estimators=120, subsample=0.85 \n",
      "[CV]  loss=exponential, max_features=sqrt, min_samples_leaf=0.5, n_estimators=120, subsample=0.85, score=0.6550200757009238, total=  14.9s\n",
      "[CV] loss=exponential, max_features=sqrt, min_samples_leaf=0.5, n_estimators=120, subsample=0.8 \n",
      "[CV]  loss=exponential, max_features=sqrt, min_samples_leaf=0.5, n_estimators=120, subsample=0.85, score=0.6550236427018259, total=  15.6s\n",
      "[CV] loss=exponential, max_features=sqrt, min_samples_leaf=0.5, n_estimators=120, subsample=0.8 \n",
      "[CV]  loss=exponential, max_features=sqrt, min_samples_leaf=0.5, n_estimators=120, subsample=0.8, score=0.6550200757009238, total=  14.9s\n",
      "[CV] loss=exponential, max_features=sqrt, min_samples_leaf=0.5, n_estimators=120, subsample=0.8 \n",
      "[CV]  loss=exponential, max_features=sqrt, min_samples_leaf=0.5, n_estimators=120, subsample=0.8, score=0.6550200757009238, total=  14.4s\n",
      "[CV] loss=exponential, max_features=sqrt, min_samples_leaf=0.5, n_estimators=120, subsample=0.7 \n",
      "[CV]  loss=exponential, max_features=sqrt, min_samples_leaf=0.5, n_estimators=120, subsample=0.8, score=0.6550236427018259, total=  14.6s\n",
      "[CV] loss=exponential, max_features=sqrt, min_samples_leaf=0.5, n_estimators=120, subsample=0.7 \n",
      "[CV]  loss=exponential, max_features=sqrt, min_samples_leaf=0.5, n_estimators=120, subsample=0.7, score=0.6550200757009238, total=  15.5s\n",
      "[CV] loss=exponential, max_features=sqrt, min_samples_leaf=0.5, n_estimators=120, subsample=0.7 \n",
      "[CV]  loss=exponential, max_features=sqrt, min_samples_leaf=0.5, n_estimators=120, subsample=0.7, score=0.6550200757009238, total=  14.7s\n",
      "[CV] loss=exponential, max_features=sqrt, min_samples_leaf=0.5, n_estimators=140, subsample=0.85 \n",
      "[CV]  loss=exponential, max_features=sqrt, min_samples_leaf=0.5, n_estimators=120, subsample=0.7, score=0.6550236427018259, total=  14.4s\n",
      "[CV] loss=exponential, max_features=sqrt, min_samples_leaf=0.5, n_estimators=140, subsample=0.85 \n",
      "[CV]  loss=exponential, max_features=sqrt, min_samples_leaf=0.5, n_estimators=140, subsample=0.85, score=0.6550200757009238, total=  14.9s\n",
      "[CV] loss=exponential, max_features=sqrt, min_samples_leaf=0.5, n_estimators=140, subsample=0.85 \n",
      "[CV]  loss=exponential, max_features=sqrt, min_samples_leaf=0.5, n_estimators=140, subsample=0.85, score=0.6550200757009238, total=  15.8s\n",
      "[CV] loss=exponential, max_features=sqrt, min_samples_leaf=0.5, n_estimators=140, subsample=0.8 \n",
      "[CV]  loss=exponential, max_features=sqrt, min_samples_leaf=0.5, n_estimators=140, subsample=0.85, score=0.6550236427018259, total=  15.2s\n",
      "[CV] loss=exponential, max_features=sqrt, min_samples_leaf=0.5, n_estimators=140, subsample=0.8 \n",
      "[CV]  loss=exponential, max_features=sqrt, min_samples_leaf=0.5, n_estimators=140, subsample=0.8, score=0.6550200757009238, total=  15.4s\n",
      "[CV] loss=exponential, max_features=sqrt, min_samples_leaf=0.5, n_estimators=140, subsample=0.8 \n",
      "[CV]  loss=exponential, max_features=sqrt, min_samples_leaf=0.5, n_estimators=140, subsample=0.8, score=0.6550200757009238, total=  14.5s\n",
      "[CV] loss=exponential, max_features=sqrt, min_samples_leaf=0.5, n_estimators=140, subsample=0.7 \n"
     ]
    },
    {
     "name": "stderr",
     "output_type": "stream",
     "text": [
      "[Parallel(n_jobs=2)]: Done 158 tasks      | elapsed: 60.0min\n"
     ]
    },
    {
     "name": "stdout",
     "output_type": "stream",
     "text": [
      "[CV]  loss=exponential, max_features=sqrt, min_samples_leaf=0.5, n_estimators=140, subsample=0.8, score=0.6550236427018259, total=  14.6s\n",
      "[CV] loss=exponential, max_features=sqrt, min_samples_leaf=0.5, n_estimators=140, subsample=0.7 \n",
      "[CV]  loss=exponential, max_features=sqrt, min_samples_leaf=0.5, n_estimators=140, subsample=0.7, score=0.6550200757009238, total=  14.7s\n",
      "[CV] loss=exponential, max_features=sqrt, min_samples_leaf=0.5, n_estimators=140, subsample=0.7 \n",
      "[CV]  loss=exponential, max_features=sqrt, min_samples_leaf=0.5, n_estimators=140, subsample=0.7, score=0.6550200757009238, total=  14.5s\n",
      "[CV]  loss=exponential, max_features=sqrt, min_samples_leaf=0.5, n_estimators=140, subsample=0.7, score=0.6550236427018259, total=  13.2s\n"
     ]
    },
    {
     "name": "stderr",
     "output_type": "stream",
     "text": [
      "[Parallel(n_jobs=2)]: Done 162 out of 162 | elapsed: 60.5min finished\n"
     ]
    },
    {
     "data": {
      "text/plain": [
       "GridSearchCV(cv=None, error_score='raise',\n",
       "       estimator=GradientBoostingClassifier(criterion='friedman_mse', init=None,\n",
       "              learning_rate=0.1, loss='deviance', max_depth=3,\n",
       "              max_features=None, max_leaf_nodes=None,\n",
       "              min_impurity_decrease=0.0, min_impurity_split=None,\n",
       "              min_samples_leaf=1, min_samples_split=2,\n",
       "              min_weight_fraction_leaf=0.0, n_estimators=100,\n",
       "              presort='auto', random_state=None, subsample=1.0, verbose=0,\n",
       "              warm_start=False),\n",
       "       fit_params=None, iid=True, n_jobs=2,\n",
       "       param_grid={'n_estimators': [100, 120, 140], 'max_features': ['sqrt'], 'subsample': [0.85, 0.8, 0.7], 'min_samples_leaf': [1, 0.05, 0.5], 'loss': ['deviance', 'exponential']},\n",
       "       pre_dispatch='2*n_jobs', refit=True, return_train_score=True,\n",
       "       scoring=None, verbose=5)"
      ]
     },
     "execution_count": 24,
     "metadata": {},
     "output_type": "execute_result"
    }
   ],
   "source": [
    "xgboost_classifier.fit(X_train, y_train)"
   ]
  },
  {
   "cell_type": "code",
   "execution_count": 25,
   "metadata": {},
   "outputs": [
    {
     "data": {
      "text/plain": [
       "{'loss': 'deviance',\n",
       " 'max_features': 'sqrt',\n",
       " 'min_samples_leaf': 1,\n",
       " 'n_estimators': 140,\n",
       " 'subsample': 0.85}"
      ]
     },
     "execution_count": 25,
     "metadata": {},
     "output_type": "execute_result"
    }
   ],
   "source": [
    "# as I said in the documentation, GridSeach uses a stratified 3-fold cross validation because a Classifier was passed\n",
    "# instead of a recgressor\n",
    "\n",
    "xgboost_classifier.best_params_"
   ]
  },
  {
   "cell_type": "code",
   "execution_count": 30,
   "metadata": {},
   "outputs": [
    {
     "data": {
      "image/png": "[encoded data removed]",
      "text/plain": [
       "<matplotlib.figure.Figure at 0x7fada0666978>"
      ]
     },
     "metadata": {},
     "output_type": "display_data"
    }
   ],
   "source": [
    "plot_auc_roc(xgboost_classifier.best_estimator_, X_test, y_test)"
   ]
  },
  {
   "cell_type": "code",
   "execution_count": 74,
   "metadata": {},
   "outputs": [
    {
     "data": {
      "image/png": "[encoded data removed]",
      "text/plain": [
       "<matplotlib.figure.Figure at 0x7fada0672860>"
      ]
     },
     "metadata": {},
     "output_type": "display_data"
    }
   ],
   "source": [
    "plot_auc_roc(xgboost_classifier.best_estimator_, kaggle_x_test, kaggle_y_test)"
   ]
  },
  {
   "cell_type": "markdown",
   "metadata": {},
   "source": [
    "### Score of the single XGBoost"
   ]
  },
  {
   "cell_type": "code",
   "execution_count": 26,
   "metadata": {},
   "outputs": [],
   "source": [
    "classifier = xgboost_classifier.best_estimator_"
   ]
  },
  {
   "cell_type": "code",
   "execution_count": 27,
   "metadata": {
    "colab": {
     "autoexec": {
      "startup": false,
      "wait_interval": 0
     }
    },
    "colab_type": "code",
    "id": "ylrT4mitf7Xz",
    "outputId": "c30b5e81-1e7c-4db9-c0ab-88a4805fcd98"
   },
   "outputs": [
    {
     "name": "stderr",
     "output_type": "stream",
     "text": [
      "/home/fbormann/anaconda3/envs/IF702-redes-neurais/lib/python3.6/site-packages/ipykernel_launcher.py:1: FutureWarning: Method .as_matrix will be removed in a future version. Use .values instead.\n",
      "  \"\"\"Entry point for launching an IPython kernel.\n",
      "/home/fbormann/anaconda3/envs/IF702-redes-neurais/lib/python3.6/site-packages/ipykernel_launcher.py:2: FutureWarning: Method .as_matrix will be removed in a future version. Use .values instead.\n",
      "  \n"
     ]
    }
   ],
   "source": [
    "y_train_pred = classifier.predict(X_train.as_matrix()).ravel()\n",
    "y_test_pred = classifier.predict(X_test.as_matrix()).ravel()"
   ]
  },
  {
   "cell_type": "code",
   "execution_count": 28,
   "metadata": {
    "colab": {
     "autoexec": {
      "startup": false,
      "wait_interval": 0
     }
    },
    "colab_type": "code",
    "id": "XXpon-XGf7X9",
    "outputId": "e3724372-f7c7-42b7-ab07-db29750a1d3f"
   },
   "outputs": [
    {
     "name": "stderr",
     "output_type": "stream",
     "text": [
      "/home/fbormann/anaconda3/envs/IF702-redes-neurais/lib/python3.6/site-packages/ipykernel_launcher.py:3: FutureWarning: Method .as_matrix will be removed in a future version. Use .values instead.\n",
      "  This is separate from the ipykernel package so we can avoid doing imports until\n"
     ]
    }
   ],
   "source": [
    "# This returns an array for the probabilities of being each class, so it depends what the focus will be\n",
    "# in our case, the focus is at class 1\n",
    "y_test_pred_prob = classifier.predict_proba(X_test.as_matrix())[:, 1]"
   ]
  },
  {
   "cell_type": "code",
   "execution_count": 29,
   "metadata": {
    "colab": {
     "autoexec": {
      "startup": false,
      "wait_interval": 0
     }
    },
    "colab_type": "code",
    "id": "HC--sBLtf7YC",
    "outputId": "5633e246-2e20-4b4a-ee44-0dd2056dc0da"
   },
   "outputs": [
    {
     "name": "stdout",
     "output_type": "stream",
     "text": [
      "\n",
      "Performance no conjunto de teste:\n",
      "\n",
      "Accuracy:         0.6881\n",
      "Recall:           0.9156\n",
      "Precision:        0.7008\n",
      "F1:               0.7939\n",
      "AUROC:            0.6992\n",
      "AUPR:             0.8053\n"
     ]
    }
   ],
   "source": [
    "print('\\nPerformance no conjunto de teste:')\n",
    "accuracy, recall, precision, f1, auroc, aupr = compute_performance_metrics(y_test, y_test_pred.round(), y_test_pred_prob)\n",
    "print_metrics_summary(accuracy, recall, precision, f1, auroc, aupr)"
   ]
  },
  {
   "cell_type": "markdown",
   "metadata": {},
   "source": [
    "# Ensemble classifiers (Voting)"
   ]
  },
  {
   "cell_type": "markdown",
   "metadata": {},
   "source": [
    "For ensembling both I must first train those two separated, so I'll get the best parameters of both models\n",
    "in the original dataset and train both in different samples here. (80% of the original dataset each)"
   ]
  },
  {
   "cell_type": "code",
   "execution_count": 31,
   "metadata": {},
   "outputs": [
    {
     "data": {
      "text/plain": [
       "{'loss': 'deviance',\n",
       " 'max_features': 'sqrt',\n",
       " 'min_samples_leaf': 1,\n",
       " 'n_estimators': 140,\n",
       " 'subsample': 0.85}"
      ]
     },
     "execution_count": 31,
     "metadata": {},
     "output_type": "execute_result"
    }
   ],
   "source": [
    "# best parameters for both classifiers\n",
    "xgboost_classifier.best_params_"
   ]
  },
  {
   "cell_type": "code",
   "execution_count": 52,
   "metadata": {},
   "outputs": [],
   "source": [
    "xgboost_classifier_voting = GradientBoostingClassifier(loss=\"deviance\", max_features=\"sqrt\", min_samples_leaf=1, n_estimators=140, subsample=0.85, learning_rate=0.3)"
   ]
  },
  {
   "cell_type": "code",
   "execution_count": 43,
   "metadata": {},
   "outputs": [],
   "source": [
    "# if creating different samples from training set, use this paragraph\n",
    "training_data_sample = training_data.sample(frac=0.7)\n",
    "X_train, y_train = (training_data_sample.drop(\"IND_BOM_1_1\", axis=1), training_data_sample[\"IND_BOM_1_1\"])"
   ]
  },
  {
   "cell_type": "code",
   "execution_count": 44,
   "metadata": {},
   "outputs": [
    {
     "data": {
      "text/plain": [
       "GradientBoostingClassifier(criterion='friedman_mse', init=None,\n",
       "              learning_rate=0.1, loss='deviance', max_depth=3,\n",
       "              max_features='sqrt', max_leaf_nodes=None,\n",
       "              min_impurity_decrease=0.0, min_impurity_split=None,\n",
       "              min_samples_leaf=1, min_samples_split=2,\n",
       "              min_weight_fraction_leaf=0.0, n_estimators=140,\n",
       "              presort='auto', random_state=None, subsample=0.85, verbose=0,\n",
       "              warm_start=False)"
      ]
     },
     "execution_count": 44,
     "metadata": {},
     "output_type": "execute_result"
    }
   ],
   "source": [
    "xgboost_classifier_voting.fit(X_train, y_train)"
   ]
  },
  {
   "cell_type": "code",
   "execution_count": 32,
   "metadata": {},
   "outputs": [
    {
     "data": {
      "text/plain": [
       "{'max_depth': 15, 'n_estimators': 60}"
      ]
     },
     "execution_count": 32,
     "metadata": {},
     "output_type": "execute_result"
    }
   ],
   "source": [
    "rf_classifier.best_params_"
   ]
  },
  {
   "cell_type": "code",
   "execution_count": 38,
   "metadata": {},
   "outputs": [],
   "source": [
    "rf_classifier_voting = RandomForestClassifier(n_estimators=60, max_depth=15, n_jobs=2)"
   ]
  },
  {
   "cell_type": "code",
   "execution_count": 39,
   "metadata": {},
   "outputs": [],
   "source": [
    "# if creating different samples from training set, use this paragraph\n",
    "training_data_sample = training_data.sample(frac=0.7)\n",
    "X_train, y_train = (training_data_sample.drop(\"IND_BOM_1_1\", axis=1), training_data_sample[\"IND_BOM_1_1\"])"
   ]
  },
  {
   "cell_type": "code",
   "execution_count": 40,
   "metadata": {},
   "outputs": [
    {
     "data": {
      "text/plain": [
       "RandomForestClassifier(bootstrap=True, class_weight=None, criterion='gini',\n",
       "            max_depth=15, max_features='auto', max_leaf_nodes=None,\n",
       "            min_impurity_decrease=0.0, min_impurity_split=None,\n",
       "            min_samples_leaf=1, min_samples_split=2,\n",
       "            min_weight_fraction_leaf=0.0, n_estimators=60, n_jobs=2,\n",
       "            oob_score=False, random_state=None, verbose=0,\n",
       "            warm_start=False)"
      ]
     },
     "execution_count": 40,
     "metadata": {},
     "output_type": "execute_result"
    }
   ],
   "source": [
    "rf_classifier_voting.fit(X_train, y_train)"
   ]
  },
  {
   "cell_type": "markdown",
   "metadata": {},
   "source": [
    "## Random Forest and XGBoost together"
   ]
  },
  {
   "cell_type": "code",
   "execution_count": 56,
   "metadata": {
    "collapsed": true
   },
   "outputs": [],
   "source": [
    "# I get the best estimator of a previous chosen xgboost classifier\n",
    "classifier = VotingClassifier([('xgboost', xgboost_classifier_voting), ('randomforest', rf_classifier_voting)], voting='soft', n_jobs=2)"
   ]
  },
  {
   "cell_type": "code",
   "execution_count": 49,
   "metadata": {},
   "outputs": [],
   "source": [
    "X_train, y_train = (training_data.drop(\"IND_BOM_1_1\", axis=1), training_data[\"IND_BOM_1_1\"])"
   ]
  },
  {
   "cell_type": "code",
   "execution_count": 57,
   "metadata": {},
   "outputs": [
    {
     "data": {
      "text/plain": [
       "VotingClassifier(estimators=[('xgboost', GradientBoostingClassifier(criterion='friedman_mse', init=None,\n",
       "              learning_rate=0.3, loss='deviance', max_depth=3,\n",
       "              max_features='sqrt', max_leaf_nodes=None,\n",
       "              min_impurity_decrease=0.0, min_impurity_split=None,\n",
       "              min_samples_l...n_jobs=2,\n",
       "            oob_score=False, random_state=None, verbose=0,\n",
       "            warm_start=False))],\n",
       "         flatten_transform=None, n_jobs=2, voting='soft', weights=None)"
      ]
     },
     "execution_count": 57,
     "metadata": {},
     "output_type": "execute_result"
    }
   ],
   "source": [
    "classifier.fit(X_train, y_train)"
   ]
  },
  {
   "cell_type": "markdown",
   "metadata": {},
   "source": [
    "## Evaluation Ensemble"
   ]
  },
  {
   "cell_type": "code",
   "execution_count": 58,
   "metadata": {},
   "outputs": [
    {
     "data": {
      "image/png": "[encoded data removed]",
      "text/plain": [
       "<matplotlib.figure.Figure at 0x7fada05e5f28>"
      ]
     },
     "metadata": {},
     "output_type": "display_data"
    }
   ],
   "source": [
    "plot_auc_roc(classifier, X_test, y_test)"
   ]
  },
  {
   "cell_type": "code",
   "execution_count": 89,
   "metadata": {},
   "outputs": [
    {
     "data": {
      "text/plain": [
       "VotingClassifier(estimators=[('xgboost', GradientBoostingClassifier(criterion='friedman_mse', init=None,\n",
       "              learning_rate=0.3, loss='deviance', max_depth=3,\n",
       "              max_features='sqrt', max_leaf_nodes=None,\n",
       "              min_impurity_decrease=0.0, min_impurity_split=None,\n",
       "              min_samples_l...n_jobs=2,\n",
       "            oob_score=False, random_state=None, verbose=0,\n",
       "            warm_start=False))],\n",
       "         flatten_transform=None, n_jobs=2, voting='soft', weights=None)"
      ]
     },
     "execution_count": 89,
     "metadata": {},
     "output_type": "execute_result"
    }
   ],
   "source": [
    "classifier.fit(X_train_whole, y_train_whole)"
   ]
  },
  {
   "cell_type": "code",
   "execution_count": 90,
   "metadata": {},
   "outputs": [
    {
     "data": {
      "image/png": "[encoded data removed]",
      "text/plain": [
       "<matplotlib.figure.Figure at 0x7fadc16854a8>"
      ]
     },
     "metadata": {},
     "output_type": "display_data"
    }
   ],
   "source": [
    "plot_auc_roc(classifier, kaggle_x_test, kaggle_y_test)"
   ]
  },
  {
   "cell_type": "markdown",
   "metadata": {},
   "source": [
    "# Evaluation of Classifier"
   ]
  },
  {
   "cell_type": "code",
   "execution_count": null,
   "metadata": {},
   "outputs": [],
   "source": []
  },
  {
   "cell_type": "code",
   "execution_count": 73,
   "metadata": {
    "colab": {
     "autoexec": {
      "startup": false,
      "wait_interval": 0
     }
    },
    "colab_type": "code",
    "id": "XXpon-XGf7X9",
    "outputId": "e3724372-f7c7-42b7-ab07-db29750a1d3f"
   },
   "outputs": [
    {
     "name": "stderr",
     "output_type": "stream",
     "text": [
      "/home/fbormann/anaconda3/envs/IF702-redes-neurais/lib/python3.6/site-packages/ipykernel_launcher.py:3: FutureWarning: Method .as_matrix will be removed in a future version. Use .values instead.\n",
      "  This is separate from the ipykernel package so we can avoid doing imports until\n"
     ]
    }
   ],
   "source": [
    "# This returns an array for the probabilities of being each class, so it depends what the focus will be\n",
    "# in our case, the focus is at class 1\n",
    "y_test_pred_prob = classifier.predict_proba(X_test.as_matrix())[:, 1]"
   ]
  },
  {
   "cell_type": "code",
   "execution_count": 69,
   "metadata": {
    "colab": {
     "autoexec": {
      "startup": false,
      "wait_interval": 0
     }
    },
    "colab_type": "code",
    "id": "ylrT4mitf7Xz",
    "outputId": "c30b5e81-1e7c-4db9-c0ab-88a4805fcd98"
   },
   "outputs": [
    {
     "name": "stderr",
     "output_type": "stream",
     "text": [
      "/home/fbormann/anaconda3/envs/IF702-redes-neurais/lib/python3.6/site-packages/ipykernel_launcher.py:1: FutureWarning: Method .as_matrix will be removed in a future version. Use .values instead.\n",
      "  \"\"\"Entry point for launching an IPython kernel.\n",
      "/home/fbormann/anaconda3/envs/IF702-redes-neurais/lib/python3.6/site-packages/ipykernel_launcher.py:2: FutureWarning: Method .as_matrix will be removed in a future version. Use .values instead.\n",
      "  \n"
     ]
    }
   ],
   "source": [
    "y_train_pred = classifier.predict(X_train.as_matrix()).ravel()\n",
    "y_test_pred = classifier.predict(X_test.as_matrix()).ravel()"
   ]
  },
  {
   "cell_type": "markdown",
   "metadata": {
    "colab_type": "text",
    "id": "kB9rJAI6f7X1"
   },
   "source": [
    "é bom prestar atenção se os valores estão próximo, caso contrário, existe uma boa indicação de que houve\n",
    "overfitting e o modelo não consegue generalizar tão bem."
   ]
  },
  {
   "cell_type": "code",
   "execution_count": 70,
   "metadata": {
    "colab": {
     "autoexec": {
      "startup": false,
      "wait_interval": 0
     }
    },
    "colab_type": "code",
    "id": "7BtRFR1Uf7X3",
    "outputId": "4371cb58-7193-4487-fc91-e5685127acf5"
   },
   "outputs": [
    {
     "name": "stdout",
     "output_type": "stream",
     "text": [
      "Mean Square error in train: 0.1\n",
      "Mean Square error in test: 0.3\n"
     ]
    }
   ],
   "source": [
    "print(\"Mean Square error in train: {:0.1f}\".format(mse(y_train, y_train_pred)))\n",
    "print(\"Mean Square error in test: {:0.1f}\".format(mse(y_test, y_test_pred)))"
   ]
  },
  {
   "cell_type": "code",
   "execution_count": 74,
   "metadata": {},
   "outputs": [
    {
     "data": {
      "text/plain": [
       "(29190,)"
      ]
     },
     "execution_count": 74,
     "metadata": {},
     "output_type": "execute_result"
    }
   ],
   "source": [
    "y_test_pred.shape"
   ]
  },
  {
   "cell_type": "code",
   "execution_count": 75,
   "metadata": {},
   "outputs": [
    {
     "data": {
      "text/plain": [
       "(29190,)"
      ]
     },
     "execution_count": 75,
     "metadata": {},
     "output_type": "execute_result"
    }
   ],
   "source": [
    "y_test.shape"
   ]
  },
  {
   "cell_type": "code",
   "execution_count": 76,
   "metadata": {},
   "outputs": [
    {
     "data": {
      "text/plain": [
       "(29190,)"
      ]
     },
     "execution_count": 76,
     "metadata": {},
     "output_type": "execute_result"
    }
   ],
   "source": [
    "y_test_pred_prob.shape"
   ]
  },
  {
   "cell_type": "code",
   "execution_count": 77,
   "metadata": {
    "colab": {
     "autoexec": {
      "startup": false,
      "wait_interval": 0
     }
    },
    "colab_type": "code",
    "id": "HC--sBLtf7YC",
    "outputId": "5633e246-2e20-4b4a-ee44-0dd2056dc0da"
   },
   "outputs": [
    {
     "name": "stdout",
     "output_type": "stream",
     "text": [
      "\n",
      "Performance no conjunto de teste:\n",
      "\n",
      "Accuracy:         0.6844\n",
      "Recall:           0.9165\n",
      "Precision:        0.6974\n",
      "F1:               0.7921\n",
      "AUROC:            0.7012\n",
      "AUPR:             0.8113\n"
     ]
    }
   ],
   "source": [
    "print('\\nPerformance no conjunto de teste:')\n",
    "accuracy, recall, precision, f1, auroc, aupr = compute_performance_metrics(y_test, y_test_pred.round(), y_test_pred_prob)\n",
    "print_metrics_summary(accuracy, recall, precision, f1, auroc, aupr)"
   ]
  },
  {
   "cell_type": "markdown",
   "metadata": {
    "colab_type": "text",
    "id": "WTW9B1nRf7YG"
   },
   "source": [
    "# Evaluate for Kaggle"
   ]
  },
  {
   "cell_type": "code",
   "execution_count": null,
   "metadata": {
    "colab": {
     "autoexec": {
      "startup": false,
      "wait_interval": 0
     }
    },
    "colab_type": "code",
    "collapsed": true,
    "id": "lyBq2QWyf7YH"
   },
   "outputs": [],
   "source": [
    "kaggle_test_data = pandas.read_csv(\"real_test_set.csv\")"
   ]
  },
  {
   "cell_type": "code",
   "execution_count": null,
   "metadata": {
    "colab": {
     "autoexec": {
      "startup": false,
      "wait_interval": 0
     }
    },
    "colab_type": "code",
    "id": "eGiaJwKzf7YJ",
    "outputId": "eff32b6b-7971-43cd-cc05-49562d3d62e6"
   },
   "outputs": [],
   "source": [
    "kaggle_test_data.shape\n",
    "features_kaggle = kaggle_test_data.drop([\"id\"], axis=1)\n",
    "features_kaggle.head(10)"
   ]
  },
  {
   "cell_type": "code",
   "execution_count": null,
   "metadata": {
    "colab": {
     "autoexec": {
      "startup": false,
      "wait_interval": 0
     }
    },
    "colab_type": "code",
    "collapsed": true,
    "id": "ibft8n9Ef7YN"
   },
   "outputs": [],
   "source": [
    "rf_pred_test_class = rf_clf.predict(features_kaggle)\n",
    "rf_pred_test_scores = rf_clf.predict_proba(features_kaggle)[:, 1]"
   ]
  },
  {
   "cell_type": "code",
   "execution_count": null,
   "metadata": {
    "colab": {
     "autoexec": {
      "startup": false,
      "wait_interval": 0
     }
    },
    "colab_type": "code",
    "id": "xtuergdcf7YP",
    "outputId": "171f3cf1-2878-4283-a784-de001c38ac10"
   },
   "outputs": [],
   "source": [
    "rf_pred_test_class.size"
   ]
  },
  {
   "cell_type": "code",
   "execution_count": null,
   "metadata": {
    "colab": {
     "autoexec": {
      "startup": false,
      "wait_interval": 0
     }
    },
    "colab_type": "code",
    "id": "PiHOmQg9f7YS",
    "outputId": "545442e3-9b36-4123-a8f8-730cda6a24fa"
   },
   "outputs": [],
   "source": [
    "rf_pred_test_class"
   ]
  },
  {
   "cell_type": "markdown",
   "metadata": {
    "colab_type": "text",
    "id": "yBEXHwduf7YX"
   },
   "source": [
    "Se ligar que na hora que cria o csv, na primeira linha (a linha do header), ele coloca \",0\", tem que substituir para \"id,IND_BOM_1_1\""
   ]
  },
  {
   "cell_type": "code",
   "execution_count": null,
   "metadata": {
    "colab": {
     "autoexec": {
      "startup": false,
      "wait_interval": 0
     }
    },
    "colab_type": "code",
    "collapsed": true,
    "id": "NOE4SMRxf7YY"
   },
   "outputs": [],
   "source": [
    "df = pandas.DataFrame(data=rf_pred_test_class)\n",
    "df.to_csv('test.csv', mode='a', index=True)"
   ]
  },
  {
   "cell_type": "code",
   "execution_count": null,
   "metadata": {
    "colab": {
     "autoexec": {
      "startup": false,
      "wait_interval": 0
     }
    },
    "colab_type": "code",
    "collapsed": true,
    "id": "jruxoZPlf7Ye"
   },
   "outputs": [],
   "source": [
    "# For in ensemble classifiers\n",
    "classifier = xgboost_classifier"
   ]
  },
  {
   "cell_type": "markdown",
   "metadata": {},
   "source": [
    "# RESULTS LOG"
   ]
  },
  {
   "cell_type": "markdown",
   "metadata": {},
   "source": [
    "## XGBoost - 120 estimators"
   ]
  },
  {
   "cell_type": "code",
   "execution_count": 89,
   "metadata": {
    "colab": {
     "autoexec": {
      "startup": false,
      "wait_interval": 0
     }
    },
    "colab_type": "code",
    "id": "HC--sBLtf7YC",
    "outputId": "5633e246-2e20-4b4a-ee44-0dd2056dc0da"
   },
   "outputs": [
    {
     "name": "stdout",
     "output_type": "stream",
     "text": [
      "\n",
      "Performance no conjunto de teste:\n",
      "\n",
      "Accuracy:         0.6607\n",
      "Recall:           0.9790\n",
      "Precision:        0.6636\n",
      "F1:               0.7910\n",
      "AUROC:            0.6295\n",
      "AUPR:             0.7507\n"
     ]
    }
   ],
   "source": [
    "\n",
    "print('\\nPerformance no conjunto de teste:')\n",
    "accuracy, recall, precision, f1, auroc, aupr = compute_performance_metrics(y_test, y_test_pred.round(), y_test_pred_prob)\n",
    "print_metrics_summary(accuracy, recall, precision, f1, auroc, aupr)"
   ]
  },
  {
   "cell_type": "code",
   "execution_count": 91,
   "metadata": {},
   "outputs": [
    {
     "name": "stdout",
     "output_type": "stream",
     "text": [
      "\n",
      "Performance no conjunto de teste:\n",
      "\n",
      "Accuracy:         0.6607\n",
      "Recall:           0.9790\n",
      "Precision:        0.6636\n",
      "F1:               0.7910\n",
      "AUROC:            0.6295\n",
      "AUPR:             0.7507\n"
     ]
    }
   ],
   "source": [
    "\n",
    "print('\\nPerformance no conjunto de teste:')\n",
    "accuracy, recall, precision, f1, auroc, aupr = compute_performance_metrics(y_test, y_test_pred.round(), y_test_pred_prob)\n",
    "print_metrics_summary(accuracy, recall, precision, f1, auroc, aupr)"
   ]
  },
  {
   "cell_type": "markdown",
   "metadata": {},
   "source": [
    "## XGBoost - 2nd configuration"
   ]
  },
  {
   "cell_type": "code",
   "execution_count": null,
   "metadata": {
    "collapsed": true
   },
   "outputs": [],
   "source": [
    "# parameters\n",
    "number_estimators = [30, 60, 120, 200]\n",
    "loss_function = [\"deviance\", \"exponential\"]\n",
    "min_samples_leaf = [1, 0.05]\n",
    "sub_samples = [1.0, 0.8, 0.6]\n",
    "max_features = [\"log2\", \"sqrt\", \"auto\"]"
   ]
  },
  {
   "cell_type": "code",
   "execution_count": 100,
   "metadata": {},
   "outputs": [
    {
     "data": {
      "text/plain": [
       "{'loss': 'deviance',\n",
       " 'max_features': 'auto',\n",
       " 'min_samples_leaf': 0.05,\n",
       " 'n_estimators': 200,\n",
       " 'subsample': 0.8}"
      ]
     },
     "execution_count": 100,
     "metadata": {},
     "output_type": "execute_result"
    }
   ],
   "source": [
    "classifier.best_params_"
   ]
  },
  {
   "cell_type": "code",
   "execution_count": 105,
   "metadata": {},
   "outputs": [
    {
     "name": "stdout",
     "output_type": "stream",
     "text": [
      "\n",
      "Performance no conjunto de teste:\n",
      "\n",
      "Accuracy:         0.6878\n",
      "Recall:           0.9007\n",
      "Precision:        0.7052\n",
      "F1:               0.7910\n",
      "AUROC:            0.7065\n",
      "AUPR:             0.8131\n"
     ]
    }
   ],
   "source": [
    "\n",
    "print('\\nPerformance no conjunto de teste:')\n",
    "accuracy, recall, precision, f1, auroc, aupr = compute_performance_metrics(y_test, y_test_pred.round(), y_test_pred_prob)\n",
    "print_metrics_summary(accuracy, recall, precision, f1, auroc, aupr)"
   ]
  },
  {
   "cell_type": "markdown",
   "metadata": {},
   "source": [
    "# Ensemble Of XBGoost and RandomForest"
   ]
  },
  {
   "cell_type": "markdown",
   "metadata": {},
   "source": [
    "Without Tuning of the random forest parameters"
   ]
  },
  {
   "cell_type": "code",
   "execution_count": 51,
   "metadata": {},
   "outputs": [
    {
     "data": {
      "text/plain": [
       "VotingClassifier(estimators=[('xgboost', GradientBoostingClassifier(criterion='friedman_mse', init=None,\n",
       "              learning_rate=0.1, loss='deviance', max_depth=3,\n",
       "              max_features='auto', max_leaf_nodes=None,\n",
       "              min_impurity_decrease=0.0, min_impurity_split=None,\n",
       "              min_samples_l...n_jobs=1,\n",
       "            oob_score=False, random_state=None, verbose=0,\n",
       "            warm_start=False))],\n",
       "         flatten_transform=None, n_jobs=1, voting='soft', weights=None)"
      ]
     },
     "execution_count": 51,
     "metadata": {},
     "output_type": "execute_result"
    }
   ],
   "source": [
    "classifier"
   ]
  },
  {
   "cell_type": "code",
   "execution_count": 52,
   "metadata": {},
   "outputs": [
    {
     "name": "stdout",
     "output_type": "stream",
     "text": [
      "\n",
      "Performance no conjunto de teste:\n",
      "\n",
      "Accuracy:         0.6766\n",
      "Recall:           0.8842\n",
      "Precision:        0.7010\n",
      "F1:               0.7820\n",
      "AUROC:            0.6773\n",
      "AUPR:             0.7933\n"
     ]
    }
   ],
   "source": [
    "print('\\nPerformance no conjunto de teste:')\n",
    "accuracy, recall, precision, f1, auroc, aupr = compute_performance_metrics(y_test, y_test_pred.round(), y_test_pred_prob)\n",
    "print_metrics_summary(accuracy, recall, precision, f1, auroc, aupr)"
   ]
  },
  {
   "cell_type": "markdown",
   "metadata": {},
   "source": [
    "## Random forest optimized"
   ]
  },
  {
   "cell_type": "code",
   "execution_count": 27,
   "metadata": {},
   "outputs": [
    {
     "data": {
      "text/plain": [
       "{'loss': 'deviance',\n",
       " 'max_features': 'auto',\n",
       " 'min_samples_leaf': 1,\n",
       " 'n_estimators': 120,\n",
       " 'subsample': 0.8}"
      ]
     },
     "execution_count": 27,
     "metadata": {},
     "output_type": "execute_result"
    }
   ],
   "source": [
    "# as I said in the documentation, GridSeach uses a stratified 3-fold cross validation because a Classifier was passed\n",
    "# instead of a recgressor\n",
    "\n",
    "xgboost_classifier.best_params_"
   ]
  },
  {
   "cell_type": "code",
   "execution_count": 41,
   "metadata": {},
   "outputs": [
    {
     "data": {
      "text/plain": [
       "{'class_weight': {0: 1, 1: 1},\n",
       " 'max_depth': 10,\n",
       " 'max_features': 'sqrt',\n",
       " 'n_estimators': 20}"
      ]
     },
     "execution_count": 41,
     "metadata": {},
     "output_type": "execute_result"
    }
   ],
   "source": [
    "rf_classifier.best_params_"
   ]
  },
  {
   "cell_type": "code",
   "execution_count": 40,
   "metadata": {
    "colab": {
     "autoexec": {
      "startup": false,
      "wait_interval": 0
     }
    },
    "colab_type": "code",
    "id": "HC--sBLtf7YC",
    "outputId": "5633e246-2e20-4b4a-ee44-0dd2056dc0da"
   },
   "outputs": [
    {
     "name": "stdout",
     "output_type": "stream",
     "text": [
      "\n",
      "Performance no conjunto de teste:\n",
      "\n",
      "Accuracy:         0.6829\n",
      "Recall:           0.9383\n",
      "Precision:        0.6899\n",
      "F1:               0.7952\n",
      "AUROC:            0.7052\n",
      "AUPR:             0.8132\n"
     ]
    }
   ],
   "source": [
    "print('\\nPerformance no conjunto de teste:')\n",
    "accuracy, recall, precision, f1, auroc, aupr = compute_performance_metrics(y_test, y_test_pred.round(), y_test_pred_prob)\n",
    "print_metrics_summary(accuracy, recall, precision, f1, auroc, aupr)"
   ]
  },
  {
   "cell_type": "markdown",
   "metadata": {},
   "source": [
    "# MLPs and Ensemble MLPS"
   ]
  },
  {
   "cell_type": "code",
   "execution_count": null,
   "metadata": {},
   "outputs": [],
   "source": []
  },
  {
   "cell_type": "code",
   "execution_count": 65,
   "metadata": {
    "colab": {
     "autoexec": {
      "startup": false,
      "wait_interval": 0
     }
    },
    "colab_type": "code",
    "id": "ylrT4mitf7Xz",
    "outputId": "c30b5e81-1e7c-4db9-c0ab-88a4805fcd98"
   },
   "outputs": [
    {
     "name": "stderr",
     "output_type": "stream",
     "text": [
      "C:\\Users\\danil\\Anaconda3\\lib\\site-packages\\ipykernel_launcher.py:1: FutureWarning: Method .as_matrix will be removed in a future version. Use .values instead.\n",
      "  \"\"\"Entry point for launching an IPython kernel.\n",
      "C:\\Users\\danil\\Anaconda3\\lib\\site-packages\\ipykernel_launcher.py:2: FutureWarning: Method .as_matrix will be removed in a future version. Use .values instead.\n",
      "  \n",
      "C:\\Users\\danil\\Anaconda3\\lib\\site-packages\\ipykernel_launcher.py:6: FutureWarning: Method .as_matrix will be removed in a future version. Use .values instead.\n",
      "  \n"
     ]
    },
    {
     "name": "stdout",
     "output_type": "stream",
     "text": [
      "\n",
      "Performance no conjunto de teste:\n",
      "\n",
      "Accuracy:         0.6664\n",
      "Recall:           0.8560\n",
      "Precision:        0.7013\n",
      "F1:               0.7710\n",
      "AUROC:            0.6650\n",
      "AUPR:             0.7853\n"
     ]
    }
   ],
   "source": [
    "y_train_pred = classifier_1.predict(X_train.as_matrix()).ravel()\n",
    "y_test_pred = classifier_1.predict(X_test.as_matrix()).ravel()\n",
    "\n",
    "# This returns an array for the probabilities of being each class, so it depends what the focus will be\n",
    "# in our case, the focus is at class 1\n",
    "y_test_pred_prob = classifier_1.predict_proba(X_test.as_matrix())[:, 0]\n",
    "\n",
    "print('\\nPerformance no conjunto de teste:')\n",
    "accuracy, recall, precision, f1, auroc, aupr = compute_performance_metrics(y_test, y_test_pred.round(), y_test_pred_prob)\n",
    "print_metrics_summary(accuracy, recall, precision, f1, auroc, aupr)"
   ]
  },
  {
   "cell_type": "code",
   "execution_count": 66,
   "metadata": {
    "colab": {
     "autoexec": {
      "startup": false,
      "wait_interval": 0
     }
    },
    "colab_type": "code",
    "id": "ylrT4mitf7Xz",
    "outputId": "c30b5e81-1e7c-4db9-c0ab-88a4805fcd98"
   },
   "outputs": [
    {
     "name": "stderr",
     "output_type": "stream",
     "text": [
      "C:\\Users\\danil\\Anaconda3\\lib\\site-packages\\ipykernel_launcher.py:1: FutureWarning: Method .as_matrix will be removed in a future version. Use .values instead.\n",
      "  \"\"\"Entry point for launching an IPython kernel.\n",
      "C:\\Users\\danil\\Anaconda3\\lib\\site-packages\\ipykernel_launcher.py:2: FutureWarning: Method .as_matrix will be removed in a future version. Use .values instead.\n",
      "  \n",
      "C:\\Users\\danil\\Anaconda3\\lib\\site-packages\\ipykernel_launcher.py:6: FutureWarning: Method .as_matrix will be removed in a future version. Use .values instead.\n",
      "  \n"
     ]
    },
    {
     "name": "stdout",
     "output_type": "stream",
     "text": [
      "\n",
      "Performance no conjunto de teste:\n",
      "\n",
      "Accuracy:         0.6660\n",
      "Recall:           0.8400\n",
      "Precision:        0.7064\n",
      "F1:               0.7674\n",
      "AUROC:            0.6698\n",
      "AUPR:             0.7878\n"
     ]
    }
   ],
   "source": [
    "y_train_pred = classifier_2.predict(X_train.as_matrix()).ravel()\n",
    "y_test_pred = classifier_2.predict(X_test.as_matrix()).ravel()\n",
    "\n",
    "# This returns an array for the probabilities of being each class, so it depends what the focus will be\n",
    "# in our case, the focus is at class 1\n",
    "y_test_pred_prob = classifier_2.predict_proba(X_test.as_matrix())[:, 0]\n",
    "\n",
    "print('\\nPerformance no conjunto de teste:')\n",
    "accuracy, recall, precision, f1, auroc, aupr = compute_performance_metrics(y_test, y_test_pred.round(), y_test_pred_prob)\n",
    "print_metrics_summary(accuracy, recall, precision, f1, auroc, aupr)"
   ]
  },
  {
   "cell_type": "code",
   "execution_count": 67,
   "metadata": {
    "colab": {
     "autoexec": {
      "startup": false,
      "wait_interval": 0
     }
    },
    "colab_type": "code",
    "id": "ylrT4mitf7Xz",
    "outputId": "c30b5e81-1e7c-4db9-c0ab-88a4805fcd98"
   },
   "outputs": [
    {
     "name": "stderr",
     "output_type": "stream",
     "text": [
      "C:\\Users\\danil\\Anaconda3\\lib\\site-packages\\ipykernel_launcher.py:1: FutureWarning: Method .as_matrix will be removed in a future version. Use .values instead.\n",
      "  \"\"\"Entry point for launching an IPython kernel.\n",
      "C:\\Users\\danil\\Anaconda3\\lib\\site-packages\\ipykernel_launcher.py:2: FutureWarning: Method .as_matrix will be removed in a future version. Use .values instead.\n",
      "  \n",
      "C:\\Users\\danil\\Anaconda3\\lib\\site-packages\\ipykernel_launcher.py:6: FutureWarning: Method .as_matrix will be removed in a future version. Use .values instead.\n",
      "  \n"
     ]
    },
    {
     "name": "stdout",
     "output_type": "stream",
     "text": [
      "\n",
      "Performance no conjunto de teste:\n",
      "\n",
      "Accuracy:         0.6684\n",
      "Recall:           0.8315\n",
      "Precision:        0.7116\n",
      "F1:               0.7669\n",
      "AUROC:            0.6739\n",
      "AUPR:             0.7916\n"
     ]
    }
   ],
   "source": [
    "y_train_pred = classifier_3.predict(X_train.as_matrix()).ravel()\n",
    "y_test_pred = classifier_3.predict(X_test.as_matrix()).ravel()\n",
    "\n",
    "# This returns an array for the probabilities of being each class, so it depends what the focus will be\n",
    "# in our case, the focus is at class 1\n",
    "y_test_pred_prob = classifier_3.predict_proba(X_test.as_matrix())[:, 0]\n",
    "\n",
    "print('\\nPerformance no conjunto de teste:')\n",
    "accuracy, recall, precision, f1, auroc, aupr = compute_performance_metrics(y_test, y_test_pred.round(), y_test_pred_prob)\n",
    "print_metrics_summary(accuracy, recall, precision, f1, auroc, aupr)"
   ]
  },
  {
   "cell_type": "code",
   "execution_count": 68,
   "metadata": {
    "colab": {
     "autoexec": {
      "startup": false,
      "wait_interval": 0
     }
    },
    "colab_type": "code",
    "id": "ylrT4mitf7Xz",
    "outputId": "c30b5e81-1e7c-4db9-c0ab-88a4805fcd98"
   },
   "outputs": [
    {
     "name": "stderr",
     "output_type": "stream",
     "text": [
      "C:\\Users\\danil\\Anaconda3\\lib\\site-packages\\ipykernel_launcher.py:1: FutureWarning: Method .as_matrix will be removed in a future version. Use .values instead.\n",
      "  \"\"\"Entry point for launching an IPython kernel.\n",
      "C:\\Users\\danil\\Anaconda3\\lib\\site-packages\\ipykernel_launcher.py:2: FutureWarning: Method .as_matrix will be removed in a future version. Use .values instead.\n",
      "  \n",
      "C:\\Users\\danil\\Anaconda3\\lib\\site-packages\\ipykernel_launcher.py:6: FutureWarning: Method .as_matrix will be removed in a future version. Use .values instead.\n",
      "  \n"
     ]
    },
    {
     "name": "stdout",
     "output_type": "stream",
     "text": [
      "\n",
      "Performance no conjunto de teste:\n",
      "\n",
      "Accuracy:         0.6493\n",
      "Recall:           0.7997\n",
      "Precision:        0.7051\n",
      "F1:               0.7495\n",
      "AUROC:            0.6650\n",
      "AUPR:             0.7853\n"
     ]
    }
   ],
   "source": [
    "y_train_pred = voting_classifier.predict(X_train.as_matrix()).ravel()\n",
    "y_test_pred = voting_classifier.predict(X_test.as_matrix()).ravel()\n",
    "\n",
    "# This returns an array for the probabilities of being each class, so it depends what the focus will be\n",
    "# in our case, the focus is at class 1\n",
    "y_test_pred_prob = classifier_1.predict_proba(X_test.as_matrix())[:, 0]\n",
    "\n",
    "print('\\nPerformance no conjunto de teste:')\n",
    "accuracy, recall, precision, f1, auroc, aupr = compute_performance_metrics(y_test, y_test_pred.round(), y_test_pred_prob)\n",
    "print_metrics_summary(accuracy, recall, precision, f1, auroc, aupr)"
   ]
  },
  {
   "cell_type": "markdown",
   "metadata": {},
   "source": [
    "# Stacking RF and XGBoost"
   ]
  },
  {
   "cell_type": "markdown",
   "metadata": {},
   "source": [
    "## Classify data based on RF"
   ]
  },
  {
   "cell_type": "markdown",
   "metadata": {},
   "source": [
    "### Add XGBoost to read from new X_train data"
   ]
  },
  {
   "cell_type": "code",
   "execution_count": 37,
   "metadata": {},
   "outputs": [
    {
     "data": {
      "text/plain": [
       "{'loss': 'deviance',\n",
       " 'max_features': 'sqrt',\n",
       " 'min_samples_leaf': 1,\n",
       " 'n_estimators': 140,\n",
       " 'subsample': 0.85}"
      ]
     },
     "execution_count": 37,
     "metadata": {},
     "output_type": "execute_result"
    }
   ],
   "source": [
    "xgboost_classifier.best_params_"
   ]
  },
  {
   "cell_type": "code",
   "execution_count": 96,
   "metadata": {},
   "outputs": [],
   "source": [
    "xgboost_classifier = GradientBoostingClassifier(n_estimators=140, subsample=0.85, max_features=\"sqrt\", min_samples_leaf=1, learning_rate=0.3)"
   ]
  },
  {
   "cell_type": "markdown",
   "metadata": {},
   "source": [
    "## Stacking for Kaggle"
   ]
  },
  {
   "cell_type": "code",
   "execution_count": 94,
   "metadata": {
    "colab": {
     "autoexec": {
      "startup": false,
      "wait_interval": 0
     }
    },
    "colab_type": "code",
    "id": "XXpon-XGf7X9",
    "outputId": "e3724372-f7c7-42b7-ab07-db29750a1d3f"
   },
   "outputs": [
    {
     "name": "stderr",
     "output_type": "stream",
     "text": [
      "/home/fbormann/anaconda3/envs/IF702-redes-neurais/lib/python3.6/site-packages/ipykernel_launcher.py:3: FutureWarning: Method .as_matrix will be removed in a future version. Use .values instead.\n",
      "  This is separate from the ipykernel package so we can avoid doing imports until\n"
     ]
    }
   ],
   "source": [
    "# This returns an array for the probabilities of being each class, so it depends what the focus will be\n",
    "# in our case, the focus is at class 1\n",
    "y_test_pred_prob = rf_classifier.best_estimator_.predict_proba(X_train_whole.as_matrix())[:, 1]"
   ]
  },
  {
   "cell_type": "code",
   "execution_count": 95,
   "metadata": {
    "colab": {
     "autoexec": {
      "startup": false,
      "wait_interval": 0
     }
    },
    "colab_type": "code",
    "id": "ylrT4mitf7Xz",
    "outputId": "c30b5e81-1e7c-4db9-c0ab-88a4805fcd98"
   },
   "outputs": [],
   "source": [
    "# add random forest prediction as feature\n",
    "X_train_whole[\"rf_feature\"] = y_test_pred_prob "
   ]
  },
  {
   "cell_type": "code",
   "execution_count": 97,
   "metadata": {},
   "outputs": [
    {
     "data": {
      "text/plain": [
       "GradientBoostingClassifier(criterion='friedman_mse', init=None,\n",
       "              learning_rate=0.3, loss='deviance', max_depth=3,\n",
       "              max_features='sqrt', max_leaf_nodes=None,\n",
       "              min_impurity_decrease=0.0, min_impurity_split=None,\n",
       "              min_samples_leaf=1, min_samples_split=2,\n",
       "              min_weight_fraction_leaf=0.0, n_estimators=140,\n",
       "              presort='auto', random_state=None, subsample=0.85, verbose=0,\n",
       "              warm_start=False)"
      ]
     },
     "execution_count": 97,
     "metadata": {},
     "output_type": "execute_result"
    }
   ],
   "source": [
    "# now it has the rf_feature column on it\n",
    "xgboost_classifier.fit(X_train_whole, y_train_whole)"
   ]
  },
  {
   "cell_type": "code",
   "execution_count": 99,
   "metadata": {},
   "outputs": [
    {
     "name": "stderr",
     "output_type": "stream",
     "text": [
      "/home/fbormann/anaconda3/envs/IF702-redes-neurais/lib/python3.6/site-packages/ipykernel_launcher.py:1: FutureWarning: Method .as_matrix will be removed in a future version. Use .values instead.\n",
      "  \"\"\"Entry point for launching an IPython kernel.\n"
     ]
    }
   ],
   "source": [
    "kaggle_x_test[\"rf_feature\"] = rf_classifier.best_estimator_.predict_proba(kaggle_x_test.as_matrix())[:, 1]"
   ]
  },
  {
   "cell_type": "code",
   "execution_count": 101,
   "metadata": {},
   "outputs": [
    {
     "data": {
      "text/plain": [
       "0    0.859242\n",
       "1    0.879647\n",
       "2    0.502823\n",
       "3    0.653111\n",
       "4    0.535827\n",
       "5    0.832793\n",
       "6    0.577545\n",
       "7    0.502263\n",
       "8    0.918410\n",
       "9    0.681121\n",
       "Name: rf_feature, dtype: float64"
      ]
     },
     "execution_count": 101,
     "metadata": {},
     "output_type": "execute_result"
    }
   ],
   "source": [
    "kaggle_x_test[\"rf_feature\"].head(10)"
   ]
  },
  {
   "cell_type": "code",
   "execution_count": 100,
   "metadata": {},
   "outputs": [
    {
     "data": {
      "image/png": "[encoded data removed]",
      "text/plain": [
       "<matplotlib.figure.Figure at 0x7fada8a90278>"
      ]
     },
     "metadata": {},
     "output_type": "display_data"
    }
   ],
   "source": [
    "plot_auc_roc(xgboost_classifier, kaggle_x_test, kaggle_y_test)"
   ]
  },
  {
   "cell_type": "markdown",
   "metadata": {},
   "source": [
    "## Stacking for our test sample"
   ]
  },
  {
   "cell_type": "code",
   "execution_count": 103,
   "metadata": {
    "colab": {
     "autoexec": {
      "startup": false,
      "wait_interval": 0
     }
    },
    "colab_type": "code",
    "id": "XXpon-XGf7X9",
    "outputId": "e3724372-f7c7-42b7-ab07-db29750a1d3f"
   },
   "outputs": [
    {
     "name": "stderr",
     "output_type": "stream",
     "text": [
      "/home/fbormann/anaconda3/envs/IF702-redes-neurais/lib/python3.6/site-packages/ipykernel_launcher.py:3: FutureWarning: Method .as_matrix will be removed in a future version. Use .values instead.\n",
      "  This is separate from the ipykernel package so we can avoid doing imports until\n"
     ]
    }
   ],
   "source": [
    "# This returns an array for the probabilities of being each class, so it depends what the focus will be\n",
    "# in our case, the focus is at class 1\n",
    "y_test_pred_prob = rf_classifier.best_estimator_.predict_proba(X_train.as_matrix())[:, 1]"
   ]
  },
  {
   "cell_type": "code",
   "execution_count": 104,
   "metadata": {
    "colab": {
     "autoexec": {
      "startup": false,
      "wait_interval": 0
     }
    },
    "colab_type": "code",
    "id": "ylrT4mitf7Xz",
    "outputId": "c30b5e81-1e7c-4db9-c0ab-88a4805fcd98"
   },
   "outputs": [],
   "source": [
    "# add random forest prediction as feature\n",
    "X_train[\"rf_feature\"] = y_test_pred_prob "
   ]
  },
  {
   "cell_type": "code",
   "execution_count": 105,
   "metadata": {},
   "outputs": [
    {
     "data": {
      "text/plain": [
       "GradientBoostingClassifier(criterion='friedman_mse', init=None,\n",
       "              learning_rate=0.3, loss='deviance', max_depth=3,\n",
       "              max_features='sqrt', max_leaf_nodes=None,\n",
       "              min_impurity_decrease=0.0, min_impurity_split=None,\n",
       "              min_samples_leaf=1, min_samples_split=2,\n",
       "              min_weight_fraction_leaf=0.0, n_estimators=140,\n",
       "              presort='auto', random_state=None, subsample=0.85, verbose=0,\n",
       "              warm_start=False)"
      ]
     },
     "execution_count": 105,
     "metadata": {},
     "output_type": "execute_result"
    }
   ],
   "source": [
    "# now it has the rf_feature column on it\n",
    "xgboost_classifier.fit(X_train, y_train)"
   ]
  },
  {
   "cell_type": "code",
   "execution_count": 106,
   "metadata": {},
   "outputs": [
    {
     "name": "stderr",
     "output_type": "stream",
     "text": [
      "/home/fbormann/anaconda3/envs/IF702-redes-neurais/lib/python3.6/site-packages/ipykernel_launcher.py:1: FutureWarning: Method .as_matrix will be removed in a future version. Use .values instead.\n",
      "  \"\"\"Entry point for launching an IPython kernel.\n"
     ]
    }
   ],
   "source": [
    "X_test[\"rf_feature\"] = rf_classifier.best_estimator_.predict_proba(X_test.as_matrix())[:, 1]"
   ]
  },
  {
   "cell_type": "code",
   "execution_count": 107,
   "metadata": {},
   "outputs": [
    {
     "data": {
      "text/plain": [
       "80781     0.853704\n",
       "96217     0.660023\n",
       "145553    0.625495\n",
       "246883    0.531379\n",
       "192908    0.510707\n",
       "70399     0.731647\n",
       "148944    0.777177\n",
       "68658     0.617032\n",
       "187123    0.662114\n",
       "235113    0.651750\n",
       "Name: rf_feature, dtype: float64"
      ]
     },
     "execution_count": 107,
     "metadata": {},
     "output_type": "execute_result"
    }
   ],
   "source": [
    "X_test[\"rf_feature\"].head(10)"
   ]
  },
  {
   "cell_type": "code",
   "execution_count": 108,
   "metadata": {},
   "outputs": [
    {
     "data": {
      "image/png": "[encoded data removed]",
      "text/plain": [
       "<matplotlib.figure.Figure at 0x7fadc11a0780>"
      ]
     },
     "metadata": {},
     "output_type": "display_data"
    }
   ],
   "source": [
    "plot_auc_roc(xgboost_classifier, X_test, y_test)"
   ]
  },
  {
   "cell_type": "markdown",
   "metadata": {},
   "source": [
    "# Calculate KS"
   ]
  },
  {
   "cell_type": "code",
   "execution_count": 61,
   "metadata": {},
   "outputs": [
    {
     "data": {
      "text/plain": [
       "Ks_2sampResult(statistic=0.12871287128712872, pvalue=0.34994207557716706)"
      ]
     },
     "execution_count": 61,
     "metadata": {},
     "output_type": "execute_result"
    }
   ],
   "source": [
    "import math\n",
    "from scipy import stats\n",
    "\n",
    "position = 0\n",
    "class_0 = 0\n",
    "class_1 = 0\n",
    "counting_class_0 = [0] * 101\n",
    "counting_class_1 = [0] * 101\n",
    "grouped_counting_class_0 = [0] * 101\n",
    "grouped_counting_class_1 = [0] * 101\n",
    "percentage_counting_class_0 = [0.0] * 101\n",
    "percentage_counting_class_1 = [0.0] * 101\n",
    "\n",
    "for x in y_test:\n",
    "    score = math.floor(y_test_pred_prob[position]*100)\n",
    "    if x == 0:\n",
    "        class_0 += 1\n",
    "        counting_class_0[score] += 1\n",
    "    else:\n",
    "        class_1 += 1\n",
    "        counting_class_1[score] += 1\n",
    "    position += 1\n",
    "\n",
    "last_value_class_0 = 0\n",
    "last_value_class_1 = 0\n",
    "\n",
    "for x in range(0, 101):\n",
    "    last_value_class_0 += counting_class_0[x]\n",
    "    grouped_counting_class_0[x] = last_value_class_0\n",
    "    percentage_counting_class_0[x] = last_value_class_0/class_0\n",
    "    \n",
    "    last_value_class_1 += counting_class_1[x]\n",
    "    grouped_counting_class_1[x] = last_value_class_1\n",
    "    percentage_counting_class_1[x] = last_value_class_1/class_1\n",
    "\n",
    "#stats.ks_2samp(percentage_counting_class_0, percentage_counting_class_1)\n",
    "stats.ks_2samp(grouped_counting_class_0, grouped_counting_class_1)"
   ]
  },
  {
   "cell_type": "code",
   "execution_count": null,
   "metadata": {},
   "outputs": [],
   "source": []
  }
 ],
 "metadata": {
  "colab": {
   "default_view": {},
   "name": "Kaggle_Submission.ipynb",
   "provenance": [],
   "version": "0.3.2",
   "views": {}
  },
  "kernelspec": {
   "display_name": "Python 3",
   "language": "python",
   "name": "python3"
  },
  "language_info": {
   "codemirror_mode": {
    "name": "ipython",
    "version": 3
   },
   "file_extension": ".py",
   "mimetype": "text/x-python",
   "name": "python",
   "nbconvert_exporter": "python",
   "pygments_lexer": "ipython3",
   "version": "3.6.2"
  }
 },
 "nbformat": 4,
 "nbformat_minor": 2
}
